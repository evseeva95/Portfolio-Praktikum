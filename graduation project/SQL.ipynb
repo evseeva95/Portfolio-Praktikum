{
 "cells": [
  {
   "cell_type": "markdown",
   "metadata": {},
   "source": [
    "# Проект SQL"
   ]
  },
  {
   "cell_type": "markdown",
   "metadata": {},
   "source": [
    "# Описание проекта"
   ]
  },
  {
   "cell_type": "markdown",
   "metadata": {},
   "source": [
    "Коронавирус застал мир врасплох, изменив привычный порядок вещей. В свободное время жители городов больше не выходят на улицу, не посещают кафе и торговые центры. Зато стало больше времени для книг. Это заметили стартаперы — и бросились создавать приложения для тех, кто любит читать.\n",
    "Ваша компания решила быть на волне и купила крупный сервис для чтения книг по подписке. Ваша первая задача как аналитика — проанализировать базу данных."
   ]
  },
  {
   "cell_type": "markdown",
   "metadata": {},
   "source": [
    "# Данные"
   ]
  },
  {
   "cell_type": "markdown",
   "metadata": {},
   "source": [
    "Нам предоставлена база данных, в которой содержится информация о книгах, издательствах, авторах, а также пользовательские обзоры книг."
   ]
  },
  {
   "cell_type": "markdown",
   "metadata": {},
   "source": [
    "# Описание данных"
   ]
  },
  {
   "cell_type": "markdown",
   "metadata": {},
   "source": [
    "Таблица books\n",
    "Содержит данные о книгах:\n",
    "- book_id — идентификатор книги;\n",
    "- author_id — идентификатор автора;\n",
    "- title — название книги;\n",
    "- num_pages — количество страниц;\n",
    "- publication_date — дата публикации книги;\n",
    "- publisher_id — идентификатор издателя.\n",
    "\n",
    "Таблица authors\n",
    "Содержит данные об авторах:\n",
    "- author_id — идентификатор автора;\n",
    "- author — имя автора.\n",
    "\n",
    "Таблица publishers\n",
    "Содержит данные об издательствах:\n",
    "- publisher_id — идентификатор издательства;\n",
    "- publisher — название издательства;\n",
    "\n",
    "Таблица ratings\n",
    "Содержит данные о пользовательских оценках книг:\n",
    "- rating_id — идентификатор оценки;\n",
    "- book_id — идентификатор книги;\n",
    "- username — имя пользователя, оставившего оценку;\n",
    "- rating — оценка книги.\n",
    "\n",
    "Таблица reviews\n",
    "Содержит данные о пользовательских обзорах на книги:\n",
    "- review_id — идентификатор обзора;\n",
    "- book_id — идентификатор книги;\n",
    "- username — имя пользователя, написавшего обзор;\n",
    "- text — текст обзора."
   ]
  },
  {
   "cell_type": "markdown",
   "metadata": {},
   "source": [
    "# Цель проекта"
   ]
  },
  {
   "cell_type": "markdown",
   "metadata": {},
   "source": [
    "По итогам анализа базы данных сформировать предложение для запуска нового продукта."
   ]
  },
  {
   "cell_type": "markdown",
   "metadata": {},
   "source": [
    "# Ход исследования"
   ]
  },
  {
   "cell_type": "markdown",
   "metadata": {},
   "source": [
    "1. Подключение к базам данных\n",
    "2. Знакомство с таблицами\n",
    "3. Анализ данных на основании SQL запросов\n",
    "4. Выводы"
   ]
  },
  {
   "cell_type": "markdown",
   "metadata": {},
   "source": [
    "# Задачи"
   ]
  },
  {
   "cell_type": "markdown",
   "metadata": {},
   "source": [
    "1. Посчитать, сколько книг вышло после 1 января 2000 года;\n",
    "2. Для каждой книги посчитать количество обзоров и среднюю оценку;\n",
    "3. Определить издательство, которое выпустило наибольшее число книг толще 50 страниц — так вы исключите из анализа брошюры;\n",
    "4. Определить автора с самой высокой средней оценкой книг — учитывать только книги с 50 и более оценками;\n",
    "5. Посчитать среднее количество обзоров от пользователей, которые поставили больше 48 оценок."
   ]
  },
  {
   "cell_type": "markdown",
   "metadata": {},
   "source": []
  },
  {
   "cell_type": "markdown",
   "metadata": {},
   "source": [
    "### Импорт библиотек и подключение к базе данных"
   ]
  },
  {
   "cell_type": "code",
   "execution_count": 1,
   "metadata": {},
   "outputs": [
    {
     "name": "stdout",
     "output_type": "stream",
     "text": [
      "Requirement already satisfied: psycopg2-binary in /opt/conda/lib/python3.9/site-packages (2.9.2)\r\n"
     ]
    }
   ],
   "source": [
    "!pip install psycopg2-binary"
   ]
  },
  {
   "cell_type": "code",
   "execution_count": 2,
   "metadata": {},
   "outputs": [],
   "source": [
    "# импортируем библиотеки\n",
    "import pandas as pd\n",
    "import sqlalchemy as sa"
   ]
  },
  {
   "cell_type": "code",
   "execution_count": 3,
   "metadata": {
    "scrolled": true
   },
   "outputs": [
    {
     "data": {
      "text/html": [
       "<div>\n",
       "<style scoped>\n",
       "    .dataframe tbody tr th:only-of-type {\n",
       "        vertical-align: middle;\n",
       "    }\n",
       "\n",
       "    .dataframe tbody tr th {\n",
       "        vertical-align: top;\n",
       "    }\n",
       "\n",
       "    .dataframe thead th {\n",
       "        text-align: right;\n",
       "    }\n",
       "</style>\n",
       "<table border=\"1\" class=\"dataframe\">\n",
       "  <thead>\n",
       "    <tr style=\"text-align: right;\">\n",
       "      <th></th>\n",
       "      <th>book_id</th>\n",
       "      <th>author_id</th>\n",
       "      <th>title</th>\n",
       "      <th>num_pages</th>\n",
       "      <th>publication_date</th>\n",
       "      <th>publisher_id</th>\n",
       "    </tr>\n",
       "  </thead>\n",
       "  <tbody>\n",
       "    <tr>\n",
       "      <th>0</th>\n",
       "      <td>1</td>\n",
       "      <td>546</td>\n",
       "      <td>'Salem's Lot</td>\n",
       "      <td>594</td>\n",
       "      <td>2005-11-01</td>\n",
       "      <td>93</td>\n",
       "    </tr>\n",
       "    <tr>\n",
       "      <th>1</th>\n",
       "      <td>2</td>\n",
       "      <td>465</td>\n",
       "      <td>1 000 Places to See Before You Die</td>\n",
       "      <td>992</td>\n",
       "      <td>2003-05-22</td>\n",
       "      <td>336</td>\n",
       "    </tr>\n",
       "    <tr>\n",
       "      <th>2</th>\n",
       "      <td>3</td>\n",
       "      <td>407</td>\n",
       "      <td>13 Little Blue Envelopes (Little Blue Envelope...</td>\n",
       "      <td>322</td>\n",
       "      <td>2010-12-21</td>\n",
       "      <td>135</td>\n",
       "    </tr>\n",
       "    <tr>\n",
       "      <th>3</th>\n",
       "      <td>4</td>\n",
       "      <td>82</td>\n",
       "      <td>1491: New Revelations of the Americas Before C...</td>\n",
       "      <td>541</td>\n",
       "      <td>2006-10-10</td>\n",
       "      <td>309</td>\n",
       "    </tr>\n",
       "    <tr>\n",
       "      <th>4</th>\n",
       "      <td>5</td>\n",
       "      <td>125</td>\n",
       "      <td>1776</td>\n",
       "      <td>386</td>\n",
       "      <td>2006-07-04</td>\n",
       "      <td>268</td>\n",
       "    </tr>\n",
       "  </tbody>\n",
       "</table>\n",
       "</div>"
      ],
      "text/plain": [
       "   book_id  author_id                                              title  \\\n",
       "0        1        546                                       'Salem's Lot   \n",
       "1        2        465                 1 000 Places to See Before You Die   \n",
       "2        3        407  13 Little Blue Envelopes (Little Blue Envelope...   \n",
       "3        4         82  1491: New Revelations of the Americas Before C...   \n",
       "4        5        125                                               1776   \n",
       "\n",
       "   num_pages publication_date  publisher_id  \n",
       "0        594       2005-11-01            93  \n",
       "1        992       2003-05-22           336  \n",
       "2        322       2010-12-21           135  \n",
       "3        541       2006-10-10           309  \n",
       "4        386       2006-07-04           268  "
      ]
     },
     "execution_count": 3,
     "metadata": {},
     "output_type": "execute_result"
    }
   ],
   "source": [
    "#устанавливаем параметры\n",
    "db_config = {\n",
    "            'user_id': 'praktikum_student', #имя пользователя\n",
    "            'pwd': 'Sdf4$2;d-d30pp', #пароль\n",
    "            'host': 'rc1b-wcoijxj3yxfsf3fs.mdb.yandexcloud.net',\n",
    "            'port': 6432, #порт подключения\n",
    "            'db': 'data-analyst-final-project-db'\n",
    "            }\n",
    "\n",
    "# сохраняем коннектор\n",
    "connection_string = 'postgresql://{user_id}:{pwd}@{host}:{port}/{db}'.format(**db_config)\n",
    "\n",
    "engine = sa.create_engine(connection_string, connect_args={'sslmode':'require'})\n",
    "\n",
    "# чтобы выполнить SQL-запрос, пишем функцию с использованием Pandas\n",
    "def get_sql_data(query:str, engine:sa.engine.base.Engine=engine) -> pd.DataFrame:\n",
    "    '''Открываем соединение, получаем данные из sql, закрываем соединение'''\n",
    "    with engine.connect() as con:\n",
    "        return pd.read_sql(sql=sa.text(query), con = con)\n",
    "\n",
    "# формируем запрос и выводим данные\n",
    "query = '''SELECT * FROM books LIMIT 5'''\n",
    "get_sql_data(query)"
   ]
  },
  {
   "cell_type": "markdown",
   "metadata": {},
   "source": [
    "### Знакомство с таблицами"
   ]
  },
  {
   "cell_type": "markdown",
   "metadata": {},
   "source": [
    "- Таблица books"
   ]
  },
  {
   "cell_type": "code",
   "execution_count": 4,
   "metadata": {},
   "outputs": [
    {
     "data": {
      "text/html": [
       "<div>\n",
       "<style scoped>\n",
       "    .dataframe tbody tr th:only-of-type {\n",
       "        vertical-align: middle;\n",
       "    }\n",
       "\n",
       "    .dataframe tbody tr th {\n",
       "        vertical-align: top;\n",
       "    }\n",
       "\n",
       "    .dataframe thead th {\n",
       "        text-align: right;\n",
       "    }\n",
       "</style>\n",
       "<table border=\"1\" class=\"dataframe\">\n",
       "  <thead>\n",
       "    <tr style=\"text-align: right;\">\n",
       "      <th></th>\n",
       "      <th>book_id</th>\n",
       "      <th>author_id</th>\n",
       "      <th>title</th>\n",
       "      <th>num_pages</th>\n",
       "      <th>publication_date</th>\n",
       "      <th>publisher_id</th>\n",
       "    </tr>\n",
       "  </thead>\n",
       "  <tbody>\n",
       "    <tr>\n",
       "      <th>0</th>\n",
       "      <td>1</td>\n",
       "      <td>546</td>\n",
       "      <td>'Salem's Lot</td>\n",
       "      <td>594</td>\n",
       "      <td>2005-11-01</td>\n",
       "      <td>93</td>\n",
       "    </tr>\n",
       "    <tr>\n",
       "      <th>1</th>\n",
       "      <td>2</td>\n",
       "      <td>465</td>\n",
       "      <td>1 000 Places to See Before You Die</td>\n",
       "      <td>992</td>\n",
       "      <td>2003-05-22</td>\n",
       "      <td>336</td>\n",
       "    </tr>\n",
       "    <tr>\n",
       "      <th>2</th>\n",
       "      <td>3</td>\n",
       "      <td>407</td>\n",
       "      <td>13 Little Blue Envelopes (Little Blue Envelope...</td>\n",
       "      <td>322</td>\n",
       "      <td>2010-12-21</td>\n",
       "      <td>135</td>\n",
       "    </tr>\n",
       "    <tr>\n",
       "      <th>3</th>\n",
       "      <td>4</td>\n",
       "      <td>82</td>\n",
       "      <td>1491: New Revelations of the Americas Before C...</td>\n",
       "      <td>541</td>\n",
       "      <td>2006-10-10</td>\n",
       "      <td>309</td>\n",
       "    </tr>\n",
       "    <tr>\n",
       "      <th>4</th>\n",
       "      <td>5</td>\n",
       "      <td>125</td>\n",
       "      <td>1776</td>\n",
       "      <td>386</td>\n",
       "      <td>2006-07-04</td>\n",
       "      <td>268</td>\n",
       "    </tr>\n",
       "  </tbody>\n",
       "</table>\n",
       "</div>"
      ],
      "text/plain": [
       "   book_id  author_id                                              title  \\\n",
       "0        1        546                                       'Salem's Lot   \n",
       "1        2        465                 1 000 Places to See Before You Die   \n",
       "2        3        407  13 Little Blue Envelopes (Little Blue Envelope...   \n",
       "3        4         82  1491: New Revelations of the Americas Before C...   \n",
       "4        5        125                                               1776   \n",
       "\n",
       "   num_pages publication_date  publisher_id  \n",
       "0        594       2005-11-01            93  \n",
       "1        992       2003-05-22           336  \n",
       "2        322       2010-12-21           135  \n",
       "3        541       2006-10-10           309  \n",
       "4        386       2006-07-04           268  "
      ]
     },
     "execution_count": 4,
     "metadata": {},
     "output_type": "execute_result"
    }
   ],
   "source": [
    "query = '''SELECT * FROM books LIMIT 5'''\n",
    "con=engine.connect()\n",
    "pd.io.sql.read_sql(sql=sa.text(query), con = con)"
   ]
  },
  {
   "cell_type": "markdown",
   "metadata": {},
   "source": [
    "- Таблица authors"
   ]
  },
  {
   "cell_type": "code",
   "execution_count": 5,
   "metadata": {},
   "outputs": [
    {
     "data": {
      "text/html": [
       "<div>\n",
       "<style scoped>\n",
       "    .dataframe tbody tr th:only-of-type {\n",
       "        vertical-align: middle;\n",
       "    }\n",
       "\n",
       "    .dataframe tbody tr th {\n",
       "        vertical-align: top;\n",
       "    }\n",
       "\n",
       "    .dataframe thead th {\n",
       "        text-align: right;\n",
       "    }\n",
       "</style>\n",
       "<table border=\"1\" class=\"dataframe\">\n",
       "  <thead>\n",
       "    <tr style=\"text-align: right;\">\n",
       "      <th></th>\n",
       "      <th>author_id</th>\n",
       "      <th>author</th>\n",
       "    </tr>\n",
       "  </thead>\n",
       "  <tbody>\n",
       "    <tr>\n",
       "      <th>0</th>\n",
       "      <td>1</td>\n",
       "      <td>A.S. Byatt</td>\n",
       "    </tr>\n",
       "    <tr>\n",
       "      <th>1</th>\n",
       "      <td>2</td>\n",
       "      <td>Aesop/Laura Harris/Laura Gibbs</td>\n",
       "    </tr>\n",
       "    <tr>\n",
       "      <th>2</th>\n",
       "      <td>3</td>\n",
       "      <td>Agatha Christie</td>\n",
       "    </tr>\n",
       "    <tr>\n",
       "      <th>3</th>\n",
       "      <td>4</td>\n",
       "      <td>Alan Brennert</td>\n",
       "    </tr>\n",
       "    <tr>\n",
       "      <th>4</th>\n",
       "      <td>5</td>\n",
       "      <td>Alan Moore/David   Lloyd</td>\n",
       "    </tr>\n",
       "  </tbody>\n",
       "</table>\n",
       "</div>"
      ],
      "text/plain": [
       "   author_id                          author\n",
       "0          1                      A.S. Byatt\n",
       "1          2  Aesop/Laura Harris/Laura Gibbs\n",
       "2          3                 Agatha Christie\n",
       "3          4                   Alan Brennert\n",
       "4          5        Alan Moore/David   Lloyd"
      ]
     },
     "execution_count": 5,
     "metadata": {},
     "output_type": "execute_result"
    }
   ],
   "source": [
    "query = '''SELECT * FROM authors LIMIT 5'''\n",
    "con=engine.connect()\n",
    "pd.io.sql.read_sql(sql=sa.text(query), con = con)"
   ]
  },
  {
   "cell_type": "markdown",
   "metadata": {},
   "source": [
    "- Таблица ratings"
   ]
  },
  {
   "cell_type": "code",
   "execution_count": 6,
   "metadata": {},
   "outputs": [
    {
     "data": {
      "text/html": [
       "<div>\n",
       "<style scoped>\n",
       "    .dataframe tbody tr th:only-of-type {\n",
       "        vertical-align: middle;\n",
       "    }\n",
       "\n",
       "    .dataframe tbody tr th {\n",
       "        vertical-align: top;\n",
       "    }\n",
       "\n",
       "    .dataframe thead th {\n",
       "        text-align: right;\n",
       "    }\n",
       "</style>\n",
       "<table border=\"1\" class=\"dataframe\">\n",
       "  <thead>\n",
       "    <tr style=\"text-align: right;\">\n",
       "      <th></th>\n",
       "      <th>rating_id</th>\n",
       "      <th>book_id</th>\n",
       "      <th>username</th>\n",
       "      <th>rating</th>\n",
       "    </tr>\n",
       "  </thead>\n",
       "  <tbody>\n",
       "    <tr>\n",
       "      <th>0</th>\n",
       "      <td>1</td>\n",
       "      <td>1</td>\n",
       "      <td>ryanfranco</td>\n",
       "      <td>4</td>\n",
       "    </tr>\n",
       "    <tr>\n",
       "      <th>1</th>\n",
       "      <td>2</td>\n",
       "      <td>1</td>\n",
       "      <td>grantpatricia</td>\n",
       "      <td>2</td>\n",
       "    </tr>\n",
       "    <tr>\n",
       "      <th>2</th>\n",
       "      <td>3</td>\n",
       "      <td>1</td>\n",
       "      <td>brandtandrea</td>\n",
       "      <td>5</td>\n",
       "    </tr>\n",
       "    <tr>\n",
       "      <th>3</th>\n",
       "      <td>4</td>\n",
       "      <td>2</td>\n",
       "      <td>lorichen</td>\n",
       "      <td>3</td>\n",
       "    </tr>\n",
       "    <tr>\n",
       "      <th>4</th>\n",
       "      <td>5</td>\n",
       "      <td>2</td>\n",
       "      <td>mariokeller</td>\n",
       "      <td>2</td>\n",
       "    </tr>\n",
       "  </tbody>\n",
       "</table>\n",
       "</div>"
      ],
      "text/plain": [
       "   rating_id  book_id       username  rating\n",
       "0          1        1     ryanfranco       4\n",
       "1          2        1  grantpatricia       2\n",
       "2          3        1   brandtandrea       5\n",
       "3          4        2       lorichen       3\n",
       "4          5        2    mariokeller       2"
      ]
     },
     "execution_count": 6,
     "metadata": {},
     "output_type": "execute_result"
    }
   ],
   "source": [
    "query = '''SELECT * FROM ratings LIMIT 5'''\n",
    "con=engine.connect()\n",
    "pd.io.sql.read_sql(sql=sa.text(query), con = con)"
   ]
  },
  {
   "cell_type": "markdown",
   "metadata": {},
   "source": [
    "- Таблица reviews"
   ]
  },
  {
   "cell_type": "code",
   "execution_count": 7,
   "metadata": {},
   "outputs": [
    {
     "data": {
      "text/html": [
       "<div>\n",
       "<style scoped>\n",
       "    .dataframe tbody tr th:only-of-type {\n",
       "        vertical-align: middle;\n",
       "    }\n",
       "\n",
       "    .dataframe tbody tr th {\n",
       "        vertical-align: top;\n",
       "    }\n",
       "\n",
       "    .dataframe thead th {\n",
       "        text-align: right;\n",
       "    }\n",
       "</style>\n",
       "<table border=\"1\" class=\"dataframe\">\n",
       "  <thead>\n",
       "    <tr style=\"text-align: right;\">\n",
       "      <th></th>\n",
       "      <th>review_id</th>\n",
       "      <th>book_id</th>\n",
       "      <th>username</th>\n",
       "      <th>text</th>\n",
       "    </tr>\n",
       "  </thead>\n",
       "  <tbody>\n",
       "    <tr>\n",
       "      <th>0</th>\n",
       "      <td>1</td>\n",
       "      <td>1</td>\n",
       "      <td>brandtandrea</td>\n",
       "      <td>Mention society tell send professor analysis. ...</td>\n",
       "    </tr>\n",
       "    <tr>\n",
       "      <th>1</th>\n",
       "      <td>2</td>\n",
       "      <td>1</td>\n",
       "      <td>ryanfranco</td>\n",
       "      <td>Foot glass pretty audience hit themselves. Amo...</td>\n",
       "    </tr>\n",
       "    <tr>\n",
       "      <th>2</th>\n",
       "      <td>3</td>\n",
       "      <td>2</td>\n",
       "      <td>lorichen</td>\n",
       "      <td>Listen treat keep worry. Miss husband tax but ...</td>\n",
       "    </tr>\n",
       "    <tr>\n",
       "      <th>3</th>\n",
       "      <td>4</td>\n",
       "      <td>3</td>\n",
       "      <td>johnsonamanda</td>\n",
       "      <td>Finally month interesting blue could nature cu...</td>\n",
       "    </tr>\n",
       "    <tr>\n",
       "      <th>4</th>\n",
       "      <td>5</td>\n",
       "      <td>3</td>\n",
       "      <td>scotttamara</td>\n",
       "      <td>Nation purpose heavy give wait song will. List...</td>\n",
       "    </tr>\n",
       "  </tbody>\n",
       "</table>\n",
       "</div>"
      ],
      "text/plain": [
       "   review_id  book_id       username  \\\n",
       "0          1        1   brandtandrea   \n",
       "1          2        1     ryanfranco   \n",
       "2          3        2       lorichen   \n",
       "3          4        3  johnsonamanda   \n",
       "4          5        3    scotttamara   \n",
       "\n",
       "                                                text  \n",
       "0  Mention society tell send professor analysis. ...  \n",
       "1  Foot glass pretty audience hit themselves. Amo...  \n",
       "2  Listen treat keep worry. Miss husband tax but ...  \n",
       "3  Finally month interesting blue could nature cu...  \n",
       "4  Nation purpose heavy give wait song will. List...  "
      ]
     },
     "execution_count": 7,
     "metadata": {},
     "output_type": "execute_result"
    }
   ],
   "source": [
    "query = '''SELECT * FROM reviews LIMIT 5'''\n",
    "con=engine.connect()\n",
    "pd.io.sql.read_sql(sql=sa.text(query), con = con)"
   ]
  },
  {
   "cell_type": "markdown",
   "metadata": {},
   "source": [
    "- Таблица publishers"
   ]
  },
  {
   "cell_type": "code",
   "execution_count": 8,
   "metadata": {},
   "outputs": [
    {
     "data": {
      "text/html": [
       "<div>\n",
       "<style scoped>\n",
       "    .dataframe tbody tr th:only-of-type {\n",
       "        vertical-align: middle;\n",
       "    }\n",
       "\n",
       "    .dataframe tbody tr th {\n",
       "        vertical-align: top;\n",
       "    }\n",
       "\n",
       "    .dataframe thead th {\n",
       "        text-align: right;\n",
       "    }\n",
       "</style>\n",
       "<table border=\"1\" class=\"dataframe\">\n",
       "  <thead>\n",
       "    <tr style=\"text-align: right;\">\n",
       "      <th></th>\n",
       "      <th>publisher_id</th>\n",
       "      <th>publisher</th>\n",
       "    </tr>\n",
       "  </thead>\n",
       "  <tbody>\n",
       "    <tr>\n",
       "      <th>0</th>\n",
       "      <td>1</td>\n",
       "      <td>Ace</td>\n",
       "    </tr>\n",
       "    <tr>\n",
       "      <th>1</th>\n",
       "      <td>2</td>\n",
       "      <td>Ace Book</td>\n",
       "    </tr>\n",
       "    <tr>\n",
       "      <th>2</th>\n",
       "      <td>3</td>\n",
       "      <td>Ace Books</td>\n",
       "    </tr>\n",
       "    <tr>\n",
       "      <th>3</th>\n",
       "      <td>4</td>\n",
       "      <td>Ace Hardcover</td>\n",
       "    </tr>\n",
       "    <tr>\n",
       "      <th>4</th>\n",
       "      <td>5</td>\n",
       "      <td>Addison Wesley Publishing Company</td>\n",
       "    </tr>\n",
       "  </tbody>\n",
       "</table>\n",
       "</div>"
      ],
      "text/plain": [
       "   publisher_id                          publisher\n",
       "0             1                                Ace\n",
       "1             2                           Ace Book\n",
       "2             3                          Ace Books\n",
       "3             4                      Ace Hardcover\n",
       "4             5  Addison Wesley Publishing Company"
      ]
     },
     "execution_count": 8,
     "metadata": {},
     "output_type": "execute_result"
    }
   ],
   "source": [
    "query = '''SELECT * FROM publishers LIMIT 5'''\n",
    "con=engine.connect()\n",
    "pd.io.sql.read_sql(sql=sa.text(query), con = con)"
   ]
  },
  {
   "cell_type": "markdown",
   "metadata": {},
   "source": [
    "**Вывод:** На данном этапе мы предварительно посмотрели и ознакомились с имеющимися таблицами"
   ]
  },
  {
   "cell_type": "markdown",
   "metadata": {},
   "source": []
  },
  {
   "cell_type": "markdown",
   "metadata": {},
   "source": [
    "### Анализ данных\n",
    "- Задача 1. Посчитаем, сколько книг вышло после 01.01.2000 г."
   ]
  },
  {
   "cell_type": "code",
   "execution_count": 9,
   "metadata": {},
   "outputs": [
    {
     "data": {
      "text/html": [
       "<div>\n",
       "<style scoped>\n",
       "    .dataframe tbody tr th:only-of-type {\n",
       "        vertical-align: middle;\n",
       "    }\n",
       "\n",
       "    .dataframe tbody tr th {\n",
       "        vertical-align: top;\n",
       "    }\n",
       "\n",
       "    .dataframe thead th {\n",
       "        text-align: right;\n",
       "    }\n",
       "</style>\n",
       "<table border=\"1\" class=\"dataframe\">\n",
       "  <thead>\n",
       "    <tr style=\"text-align: right;\">\n",
       "      <th></th>\n",
       "      <th>count</th>\n",
       "    </tr>\n",
       "  </thead>\n",
       "  <tbody>\n",
       "    <tr>\n",
       "      <th>0</th>\n",
       "      <td>819</td>\n",
       "    </tr>\n",
       "  </tbody>\n",
       "</table>\n",
       "</div>"
      ],
      "text/plain": [
       "   count\n",
       "0    819"
      ]
     },
     "execution_count": 9,
     "metadata": {},
     "output_type": "execute_result"
    }
   ],
   "source": [
    "query_1 = '''SELECT COUNT(DISTINCT book_id) FROM books b WHERE CAST(publication_date AS date) > '2000-01-01' '''\n",
    "con=engine.connect()\n",
    "pd.io.sql.read_sql(sql=sa.text(query_1), con = con)"
   ]
  },
  {
   "cell_type": "markdown",
   "metadata": {},
   "source": [
    "Видим, что с начала 2000 г было выпущено 819 книг"
   ]
  },
  {
   "cell_type": "markdown",
   "metadata": {},
   "source": []
  },
  {
   "cell_type": "markdown",
   "metadata": {},
   "source": [
    "- Задача 2. Для каждой книги посчитать количество обзоров и среднюю оценку"
   ]
  },
  {
   "cell_type": "code",
   "execution_count": 16,
   "metadata": {},
   "outputs": [
    {
     "data": {
      "text/html": [
       "<div>\n",
       "<style scoped>\n",
       "    .dataframe tbody tr th:only-of-type {\n",
       "        vertical-align: middle;\n",
       "    }\n",
       "\n",
       "    .dataframe tbody tr th {\n",
       "        vertical-align: top;\n",
       "    }\n",
       "\n",
       "    .dataframe thead th {\n",
       "        text-align: right;\n",
       "    }\n",
       "</style>\n",
       "<table border=\"1\" class=\"dataframe\">\n",
       "  <thead>\n",
       "    <tr style=\"text-align: right;\">\n",
       "      <th></th>\n",
       "      <th>title</th>\n",
       "      <th>reviews</th>\n",
       "      <th>avg_rating</th>\n",
       "    </tr>\n",
       "  </thead>\n",
       "  <tbody>\n",
       "    <tr>\n",
       "      <th>0</th>\n",
       "      <td>The Body in the Library (Miss Marple  #3)</td>\n",
       "      <td>2.0</td>\n",
       "      <td>4.50</td>\n",
       "    </tr>\n",
       "    <tr>\n",
       "      <th>1</th>\n",
       "      <td>Galápagos</td>\n",
       "      <td>2.0</td>\n",
       "      <td>4.50</td>\n",
       "    </tr>\n",
       "    <tr>\n",
       "      <th>2</th>\n",
       "      <td>A Tree Grows in Brooklyn</td>\n",
       "      <td>5.0</td>\n",
       "      <td>4.25</td>\n",
       "    </tr>\n",
       "    <tr>\n",
       "      <th>3</th>\n",
       "      <td>Undaunted Courage: The Pioneering First Missio...</td>\n",
       "      <td>2.0</td>\n",
       "      <td>4.00</td>\n",
       "    </tr>\n",
       "    <tr>\n",
       "      <th>4</th>\n",
       "      <td>The Prophet</td>\n",
       "      <td>4.0</td>\n",
       "      <td>4.29</td>\n",
       "    </tr>\n",
       "    <tr>\n",
       "      <th>...</th>\n",
       "      <td>...</td>\n",
       "      <td>...</td>\n",
       "      <td>...</td>\n",
       "    </tr>\n",
       "    <tr>\n",
       "      <th>995</th>\n",
       "      <td>Alice in Wonderland</td>\n",
       "      <td>4.0</td>\n",
       "      <td>4.23</td>\n",
       "    </tr>\n",
       "    <tr>\n",
       "      <th>996</th>\n",
       "      <td>A Woman of Substance (Emma Harte Saga #1)</td>\n",
       "      <td>2.0</td>\n",
       "      <td>5.00</td>\n",
       "    </tr>\n",
       "    <tr>\n",
       "      <th>997</th>\n",
       "      <td>Christine</td>\n",
       "      <td>3.0</td>\n",
       "      <td>3.43</td>\n",
       "    </tr>\n",
       "    <tr>\n",
       "      <th>998</th>\n",
       "      <td>The Magicians' Guild (Black Magician Trilogy  #1)</td>\n",
       "      <td>2.0</td>\n",
       "      <td>3.50</td>\n",
       "    </tr>\n",
       "    <tr>\n",
       "      <th>999</th>\n",
       "      <td>The Plot Against America</td>\n",
       "      <td>2.0</td>\n",
       "      <td>3.00</td>\n",
       "    </tr>\n",
       "  </tbody>\n",
       "</table>\n",
       "<p>1000 rows × 3 columns</p>\n",
       "</div>"
      ],
      "text/plain": [
       "                                                 title  reviews  avg_rating\n",
       "0            The Body in the Library (Miss Marple  #3)      2.0        4.50\n",
       "1                                            Galápagos      2.0        4.50\n",
       "2                             A Tree Grows in Brooklyn      5.0        4.25\n",
       "3    Undaunted Courage: The Pioneering First Missio...      2.0        4.00\n",
       "4                                          The Prophet      4.0        4.29\n",
       "..                                                 ...      ...         ...\n",
       "995                                Alice in Wonderland      4.0        4.23\n",
       "996          A Woman of Substance (Emma Harte Saga #1)      2.0        5.00\n",
       "997                                          Christine      3.0        3.43\n",
       "998  The Magicians' Guild (Black Magician Trilogy  #1)      2.0        3.50\n",
       "999                           The Plot Against America      2.0        3.00\n",
       "\n",
       "[1000 rows x 3 columns]"
      ]
     },
     "execution_count": 16,
     "metadata": {},
     "output_type": "execute_result"
    }
   ],
   "source": [
    "query_2 = '''SELECT title, reviews, avg_rating FROM books as b\n",
    "LEFT JOIN (SELECT book_id, COUNT(review_id) as reviews \n",
    "FROM reviews GROUP BY  book_id) as rev ON b.book_id=rev.book_id\n",
    "LEFT JOIN (SELECT book_id,  ROUND(AVG(rating),2) as avg_rating \n",
    "FROM ratings GROUP BY book_id ) as rat ON b.book_id=rat.book_id '''\n",
    "con=engine.connect()\n",
    "pd.io.sql.read_sql(sql=sa.text(query_2), con = con)"
   ]
  },
  {
   "cell_type": "markdown",
   "metadata": {},
   "source": [
    "Сформировали таблицу с информацией о количестве обзоров книги и ее среднюю оценку"
   ]
  },
  {
   "cell_type": "markdown",
   "metadata": {},
   "source": []
  },
  {
   "cell_type": "markdown",
   "metadata": {},
   "source": [
    "Рассмотрим максимальный и минимальный рейтинг книг\n",
    "\n",
    "ТОП книг исходя из рейтинга"
   ]
  },
  {
   "cell_type": "code",
   "execution_count": 11,
   "metadata": {},
   "outputs": [
    {
     "data": {
      "text/html": [
       "<div>\n",
       "<style scoped>\n",
       "    .dataframe tbody tr th:only-of-type {\n",
       "        vertical-align: middle;\n",
       "    }\n",
       "\n",
       "    .dataframe tbody tr th {\n",
       "        vertical-align: top;\n",
       "    }\n",
       "\n",
       "    .dataframe thead th {\n",
       "        text-align: right;\n",
       "    }\n",
       "</style>\n",
       "<table border=\"1\" class=\"dataframe\">\n",
       "  <thead>\n",
       "    <tr style=\"text-align: right;\">\n",
       "      <th></th>\n",
       "      <th>title</th>\n",
       "      <th>reviews</th>\n",
       "      <th>avg_rating</th>\n",
       "    </tr>\n",
       "  </thead>\n",
       "  <tbody>\n",
       "    <tr>\n",
       "      <th>0</th>\n",
       "      <td>The Ghost Map: The Story of London's Most Terr...</td>\n",
       "      <td>2</td>\n",
       "      <td>5.0</td>\n",
       "    </tr>\n",
       "    <tr>\n",
       "      <th>1</th>\n",
       "      <td>Evening Class</td>\n",
       "      <td>2</td>\n",
       "      <td>5.0</td>\n",
       "    </tr>\n",
       "    <tr>\n",
       "      <th>2</th>\n",
       "      <td>Wherever You Go  There You Are: Mindfulness Me...</td>\n",
       "      <td>2</td>\n",
       "      <td>5.0</td>\n",
       "    </tr>\n",
       "    <tr>\n",
       "      <th>3</th>\n",
       "      <td>Neil Gaiman's Neverwhere</td>\n",
       "      <td>2</td>\n",
       "      <td>5.0</td>\n",
       "    </tr>\n",
       "    <tr>\n",
       "      <th>4</th>\n",
       "      <td>March</td>\n",
       "      <td>2</td>\n",
       "      <td>5.0</td>\n",
       "    </tr>\n",
       "    <tr>\n",
       "      <th>5</th>\n",
       "      <td>Light in August</td>\n",
       "      <td>2</td>\n",
       "      <td>5.0</td>\n",
       "    </tr>\n",
       "    <tr>\n",
       "      <th>6</th>\n",
       "      <td>The Demon-Haunted World: Science as a Candle i...</td>\n",
       "      <td>2</td>\n",
       "      <td>5.0</td>\n",
       "    </tr>\n",
       "    <tr>\n",
       "      <th>7</th>\n",
       "      <td>Act of Treason (Mitch Rapp  #9)</td>\n",
       "      <td>2</td>\n",
       "      <td>5.0</td>\n",
       "    </tr>\n",
       "    <tr>\n",
       "      <th>8</th>\n",
       "      <td>Dead Souls</td>\n",
       "      <td>2</td>\n",
       "      <td>5.0</td>\n",
       "    </tr>\n",
       "    <tr>\n",
       "      <th>9</th>\n",
       "      <td>Welcome to Temptation (Dempseys  #1)</td>\n",
       "      <td>2</td>\n",
       "      <td>5.0</td>\n",
       "    </tr>\n",
       "  </tbody>\n",
       "</table>\n",
       "</div>"
      ],
      "text/plain": [
       "                                               title  reviews  avg_rating\n",
       "0  The Ghost Map: The Story of London's Most Terr...        2         5.0\n",
       "1                                      Evening Class        2         5.0\n",
       "2  Wherever You Go  There You Are: Mindfulness Me...        2         5.0\n",
       "3                           Neil Gaiman's Neverwhere        2         5.0\n",
       "4                                              March        2         5.0\n",
       "5                                    Light in August        2         5.0\n",
       "6  The Demon-Haunted World: Science as a Candle i...        2         5.0\n",
       "7                    Act of Treason (Mitch Rapp  #9)        2         5.0\n",
       "8                                         Dead Souls        2         5.0\n",
       "9               Welcome to Temptation (Dempseys  #1)        2         5.0"
      ]
     },
     "execution_count": 11,
     "metadata": {},
     "output_type": "execute_result"
    }
   ],
   "source": [
    "query_2_max_rating = '''SELECT title, reviews, avg_rating FROM books as b\n",
    "LEFT JOIN (SELECT book_id, COUNT(review_id) as reviews \n",
    "FROM reviews GROUP BY  book_id) as rev ON b.book_id=rev.book_id\n",
    "LEFT JOIN (SELECT book_id,  ROUND(AVG(rating),2) as avg_rating \n",
    "FROM ratings GROUP BY book_id ) as rat ON b.book_id=rat.book_id\n",
    "ORDER BY avg_rating DESC\n",
    "LIMIT 10'''\n",
    "con=engine.connect()\n",
    "pd.io.sql.read_sql(sql=sa.text(query_2_max_rating), con = con)"
   ]
  },
  {
   "cell_type": "markdown",
   "metadata": {},
   "source": [
    "Книги с самым низким рейтингом"
   ]
  },
  {
   "cell_type": "code",
   "execution_count": 12,
   "metadata": {},
   "outputs": [
    {
     "data": {
      "text/html": [
       "<div>\n",
       "<style scoped>\n",
       "    .dataframe tbody tr th:only-of-type {\n",
       "        vertical-align: middle;\n",
       "    }\n",
       "\n",
       "    .dataframe tbody tr th {\n",
       "        vertical-align: top;\n",
       "    }\n",
       "\n",
       "    .dataframe thead th {\n",
       "        text-align: right;\n",
       "    }\n",
       "</style>\n",
       "<table border=\"1\" class=\"dataframe\">\n",
       "  <thead>\n",
       "    <tr style=\"text-align: right;\">\n",
       "      <th></th>\n",
       "      <th>title</th>\n",
       "      <th>reviews</th>\n",
       "      <th>avg_rating</th>\n",
       "    </tr>\n",
       "  </thead>\n",
       "  <tbody>\n",
       "    <tr>\n",
       "      <th>0</th>\n",
       "      <td>Harvesting the Heart</td>\n",
       "      <td>2</td>\n",
       "      <td>1.50</td>\n",
       "    </tr>\n",
       "    <tr>\n",
       "      <th>1</th>\n",
       "      <td>His Excellency: George Washington</td>\n",
       "      <td>2</td>\n",
       "      <td>2.00</td>\n",
       "    </tr>\n",
       "    <tr>\n",
       "      <th>2</th>\n",
       "      <td>Drowning Ruth</td>\n",
       "      <td>3</td>\n",
       "      <td>2.00</td>\n",
       "    </tr>\n",
       "    <tr>\n",
       "      <th>3</th>\n",
       "      <td>Junky</td>\n",
       "      <td>2</td>\n",
       "      <td>2.00</td>\n",
       "    </tr>\n",
       "    <tr>\n",
       "      <th>4</th>\n",
       "      <td>The World Is Flat: A Brief History of the Twen...</td>\n",
       "      <td>3</td>\n",
       "      <td>2.25</td>\n",
       "    </tr>\n",
       "    <tr>\n",
       "      <th>5</th>\n",
       "      <td>The Mermaid Chair</td>\n",
       "      <td>3</td>\n",
       "      <td>2.33</td>\n",
       "    </tr>\n",
       "    <tr>\n",
       "      <th>6</th>\n",
       "      <td>The Kitchen God's Wife</td>\n",
       "      <td>3</td>\n",
       "      <td>2.33</td>\n",
       "    </tr>\n",
       "    <tr>\n",
       "      <th>7</th>\n",
       "      <td>1 000 Places to See Before You Die</td>\n",
       "      <td>1</td>\n",
       "      <td>2.50</td>\n",
       "    </tr>\n",
       "    <tr>\n",
       "      <th>8</th>\n",
       "      <td>Thunderstruck</td>\n",
       "      <td>2</td>\n",
       "      <td>2.50</td>\n",
       "    </tr>\n",
       "    <tr>\n",
       "      <th>9</th>\n",
       "      <td>The Winter of Our Discontent</td>\n",
       "      <td>2</td>\n",
       "      <td>2.50</td>\n",
       "    </tr>\n",
       "  </tbody>\n",
       "</table>\n",
       "</div>"
      ],
      "text/plain": [
       "                                               title  reviews  avg_rating\n",
       "0                               Harvesting the Heart        2        1.50\n",
       "1                  His Excellency: George Washington        2        2.00\n",
       "2                                      Drowning Ruth        3        2.00\n",
       "3                                              Junky        2        2.00\n",
       "4  The World Is Flat: A Brief History of the Twen...        3        2.25\n",
       "5                                  The Mermaid Chair        3        2.33\n",
       "6                             The Kitchen God's Wife        3        2.33\n",
       "7                 1 000 Places to See Before You Die        1        2.50\n",
       "8                                      Thunderstruck        2        2.50\n",
       "9                       The Winter of Our Discontent        2        2.50"
      ]
     },
     "execution_count": 12,
     "metadata": {},
     "output_type": "execute_result"
    }
   ],
   "source": [
    "query_2_min_rating = '''SELECT title, reviews, avg_rating FROM books as b\n",
    "LEFT JOIN (SELECT book_id, COUNT(review_id) as reviews \n",
    "FROM reviews GROUP BY  book_id) as rev ON b.book_id=rev.book_id\n",
    "LEFT JOIN (SELECT book_id,  ROUND(AVG(rating),2) as avg_rating \n",
    "FROM ratings GROUP BY book_id ) as rat ON b.book_id=rat.book_id\n",
    "ORDER BY avg_rating\n",
    "LIMIT 10'''\n",
    "con=engine.connect()\n",
    "pd.io.sql.read_sql(sql=sa.text(query_2_min_rating), con = con)"
   ]
  },
  {
   "cell_type": "markdown",
   "metadata": {},
   "source": [
    "На основании полученной таблицы с информацией о среднем рейтинге и количестве обзоров мы сможем сделать выводы и определить ТОП самых популярных и востребованных книг, а также тех книг, которые не пользуются популярностью среди читателей.\n"
   ]
  },
  {
   "cell_type": "markdown",
   "metadata": {},
   "source": [
    "- Задача 3. Определить издательство, которое выпустило наибольшее число книг толще 50 страниц — так мы исключим из анализа брошюры"
   ]
  },
  {
   "cell_type": "code",
   "execution_count": 13,
   "metadata": {},
   "outputs": [
    {
     "data": {
      "text/html": [
       "<div>\n",
       "<style scoped>\n",
       "    .dataframe tbody tr th:only-of-type {\n",
       "        vertical-align: middle;\n",
       "    }\n",
       "\n",
       "    .dataframe tbody tr th {\n",
       "        vertical-align: top;\n",
       "    }\n",
       "\n",
       "    .dataframe thead th {\n",
       "        text-align: right;\n",
       "    }\n",
       "</style>\n",
       "<table border=\"1\" class=\"dataframe\">\n",
       "  <thead>\n",
       "    <tr style=\"text-align: right;\">\n",
       "      <th></th>\n",
       "      <th>publisher</th>\n",
       "      <th>total_books</th>\n",
       "    </tr>\n",
       "  </thead>\n",
       "  <tbody>\n",
       "    <tr>\n",
       "      <th>0</th>\n",
       "      <td>Penguin Books</td>\n",
       "      <td>42</td>\n",
       "    </tr>\n",
       "  </tbody>\n",
       "</table>\n",
       "</div>"
      ],
      "text/plain": [
       "       publisher  total_books\n",
       "0  Penguin Books           42"
      ]
     },
     "execution_count": 13,
     "metadata": {},
     "output_type": "execute_result"
    }
   ],
   "source": [
    "query_3 = '''SELECT p.publisher, COUNT(b.book_id) as total_books\n",
    "FROM books as b\n",
    "LEFT JOIN publishers as p ON b.publisher_id = p.publisher_id\n",
    "WHERE num_pages > 50\n",
    "GROUP BY publisher\n",
    "ORDER BY total_books DESC\n",
    "LIMIT 1'''\n",
    "con=engine.connect()\n",
    "pd.io.sql.read_sql(sql=sa.text(query_3), con = con)"
   ]
  },
  {
   "cell_type": "markdown",
   "metadata": {},
   "source": [
    "Penguin Books - издательство, которое выпустило больше всего книг в количестве 42. Это книги с количеством страниц больше 50."
   ]
  },
  {
   "cell_type": "markdown",
   "metadata": {},
   "source": []
  },
  {
   "cell_type": "markdown",
   "metadata": {},
   "source": [
    " \n",
    "- Задача 4. Определить автора с самой высокой средней оценкой книг — учитывать только книги с 50 и более оценками"
   ]
  },
  {
   "cell_type": "code",
   "execution_count": 14,
   "metadata": {},
   "outputs": [
    {
     "data": {
      "text/html": [
       "<div>\n",
       "<style scoped>\n",
       "    .dataframe tbody tr th:only-of-type {\n",
       "        vertical-align: middle;\n",
       "    }\n",
       "\n",
       "    .dataframe tbody tr th {\n",
       "        vertical-align: top;\n",
       "    }\n",
       "\n",
       "    .dataframe thead th {\n",
       "        text-align: right;\n",
       "    }\n",
       "</style>\n",
       "<table border=\"1\" class=\"dataframe\">\n",
       "  <thead>\n",
       "    <tr style=\"text-align: right;\">\n",
       "      <th></th>\n",
       "      <th>author</th>\n",
       "      <th>rating</th>\n",
       "    </tr>\n",
       "  </thead>\n",
       "  <tbody>\n",
       "    <tr>\n",
       "      <th>0</th>\n",
       "      <td>J.K. Rowling/Mary GrandPré</td>\n",
       "      <td>4.287097</td>\n",
       "    </tr>\n",
       "  </tbody>\n",
       "</table>\n",
       "</div>"
      ],
      "text/plain": [
       "                       author    rating\n",
       "0  J.K. Rowling/Mary GrandPré  4.287097"
      ]
     },
     "execution_count": 14,
     "metadata": {},
     "output_type": "execute_result"
    }
   ],
   "source": [
    "query_4 = '''SELECT author, AVG(rating) as rating FROM books as b\n",
    "RIGHT JOIN (SELECT book_id\n",
    "            FROM ratings\n",
    "            GROUP BY book_id \n",
    "            HAVING COUNT(rating_id) > 49) as lim ON b.book_id=lim.book_id\n",
    "LEFT JOIN authors a ON b.author_id = a.author_id\n",
    "LEFT JOIN ratings r ON r.book_id = b.book_id\n",
    "GROUP BY author\n",
    "ORDER BY rating DESC \n",
    "LIMIT 1 '''\n",
    "con=engine.connect()\n",
    "pd.io.sql.read_sql(sql=sa.text(query_4), con = con)"
   ]
  },
  {
   "cell_type": "markdown",
   "metadata": {},
   "source": [
    "J.K. Rowling является самым популярным писателем с высоким рейтингом. В связи с этим книги Гарри Поттера необходимо будет включить (популярны именно книги, созданные в паре с июллюстратором Mary GrandPré)"
   ]
  },
  {
   "cell_type": "markdown",
   "metadata": {},
   "source": []
  },
  {
   "cell_type": "markdown",
   "metadata": {},
   "source": [
    "- Задача 5. Посчитать среднее количество обзоров от пользователей, которые поставили больше 48 оценок."
   ]
  },
  {
   "cell_type": "code",
   "execution_count": 15,
   "metadata": {},
   "outputs": [
    {
     "data": {
      "text/html": [
       "<div>\n",
       "<style scoped>\n",
       "    .dataframe tbody tr th:only-of-type {\n",
       "        vertical-align: middle;\n",
       "    }\n",
       "\n",
       "    .dataframe tbody tr th {\n",
       "        vertical-align: top;\n",
       "    }\n",
       "\n",
       "    .dataframe thead th {\n",
       "        text-align: right;\n",
       "    }\n",
       "</style>\n",
       "<table border=\"1\" class=\"dataframe\">\n",
       "  <thead>\n",
       "    <tr style=\"text-align: right;\">\n",
       "      <th></th>\n",
       "      <th>avg</th>\n",
       "    </tr>\n",
       "  </thead>\n",
       "  <tbody>\n",
       "    <tr>\n",
       "      <th>0</th>\n",
       "      <td>24.0</td>\n",
       "    </tr>\n",
       "  </tbody>\n",
       "</table>\n",
       "</div>"
      ],
      "text/plain": [
       "    avg\n",
       "0  24.0"
      ]
     },
     "execution_count": 15,
     "metadata": {},
     "output_type": "execute_result"
    }
   ],
   "source": [
    "query_5 = '''WITH users as \n",
    "(SELECT rev.username , count(review_id) as review\n",
    " FROM reviews AS rev\n",
    " RIGHT JOIN (SELECT username\n",
    "             FROM ratings\n",
    "             GROUP BY username HAVING COUNT(rating_id) > 48) AS rat ON rev.username = rat.username\n",
    "GROUP BY rev.username)\n",
    "SELECT AVG(review) from users'''\n",
    "con=engine.connect()\n",
    "pd.io.sql.read_sql(sql=sa.text(query_5), con = con)"
   ]
  },
  {
   "cell_type": "markdown",
   "metadata": {},
   "source": [
    "Видим, что пользователи, которые поставили более 48 оценок, в среднем составили по 24 обзора."
   ]
  },
  {
   "cell_type": "markdown",
   "metadata": {},
   "source": [
    "# Вывод"
   ]
  },
  {
   "cell_type": "markdown",
   "metadata": {},
   "source": [
    "1. На основании полученной таблицы со списком книг, их рейтингом и количеством обзоров можно выбрать ТОП самых популярных и читаемых книг для включения их в библиотеку своего приложения.\n",
    "2. Количество изданных книг с января 2000 года составляет 819 штук.\n",
    "3. В имеющемся списке книги имеют рейтинг от 1,5 до 5.\n",
    "4. Penguin Books -  издательство, которое выпустило больше всего книг объемом более 50 страниц.\n",
    "5. Самым популярным писателем с высоким рейтингом является J.K. Rowling, а именно книги, созданные в паре с иллюстратором Mary GrandPré.\n",
    "6. Пользователи, которые оставили более 48 оценок, считаются самой активной категорией пользователей. Среднее количество обзоров от этих пользователей - 24."
   ]
  },
  {
   "cell_type": "markdown",
   "metadata": {},
   "source": [
    "# Предложение"
   ]
  },
  {
   "cell_type": "markdown",
   "metadata": {},
   "source": [
    "Исходя из проведенного анализа, руководителю стартапа рекомендуем при запуске приложения и составлении основной базы книг опираться на результат проверки имеющегося списка популярных книг, выбирать на основании рейтингов пользователей и количества обзоров в библиотеку те книги, которые являются более востребованными среди читателей."
   ]
  }
 ],
 "metadata": {
  "ExecuteTimeLog": [
   {
    "duration": 520,
    "start_time": "2023-09-10T15:01:49.594Z"
   },
   {
    "duration": 9734,
    "start_time": "2023-09-10T15:01:54.007Z"
   },
   {
    "duration": 81,
    "start_time": "2023-09-10T15:21:17.731Z"
   },
   {
    "duration": 214,
    "start_time": "2023-09-10T15:22:12.448Z"
   },
   {
    "duration": 61,
    "start_time": "2023-09-10T15:22:44.304Z"
   },
   {
    "duration": 150,
    "start_time": "2023-09-10T15:23:06.634Z"
   },
   {
    "duration": 161,
    "start_time": "2023-09-10T15:26:31.081Z"
   },
   {
    "duration": 51,
    "start_time": "2023-09-10T15:33:08.214Z"
   },
   {
    "duration": 80,
    "start_time": "2023-09-10T15:38:59.825Z"
   },
   {
    "duration": 59,
    "start_time": "2023-09-10T15:39:27.025Z"
   },
   {
    "duration": 54,
    "start_time": "2023-09-10T15:39:41.867Z"
   },
   {
    "duration": 52,
    "start_time": "2023-09-10T15:42:41.339Z"
   },
   {
    "duration": 54,
    "start_time": "2023-09-10T15:43:57.221Z"
   },
   {
    "duration": 53,
    "start_time": "2023-09-10T15:54:08.377Z"
   },
   {
    "duration": 61,
    "start_time": "2023-09-10T15:55:01.110Z"
   },
   {
    "duration": 55,
    "start_time": "2023-09-10T15:55:15.698Z"
   },
   {
    "duration": 54,
    "start_time": "2023-09-10T15:57:26.283Z"
   },
   {
    "duration": 55,
    "start_time": "2023-09-10T15:57:49.180Z"
   },
   {
    "duration": 53,
    "start_time": "2023-09-10T15:58:37.062Z"
   },
   {
    "duration": 59,
    "start_time": "2023-09-10T15:58:43.641Z"
   },
   {
    "duration": 54,
    "start_time": "2023-09-10T15:58:59.785Z"
   },
   {
    "duration": 53,
    "start_time": "2023-09-10T16:04:01.234Z"
   },
   {
    "duration": 72,
    "start_time": "2023-09-10T16:11:53.396Z"
   },
   {
    "duration": 72,
    "start_time": "2023-09-10T16:14:00.925Z"
   },
   {
    "duration": 62,
    "start_time": "2023-09-10T16:14:06.075Z"
   },
   {
    "duration": 61,
    "start_time": "2023-09-10T16:14:18.692Z"
   },
   {
    "duration": 153,
    "start_time": "2023-09-10T16:23:35.769Z"
   },
   {
    "duration": 143,
    "start_time": "2023-09-10T16:24:08.304Z"
   },
   {
    "duration": 72,
    "start_time": "2023-09-10T16:36:57.756Z"
   },
   {
    "duration": 99,
    "start_time": "2023-09-10T16:39:00.193Z"
   },
   {
    "duration": 83,
    "start_time": "2023-09-10T16:39:45.629Z"
   },
   {
    "duration": 81,
    "start_time": "2023-09-10T16:39:56.896Z"
   },
   {
    "duration": 72,
    "start_time": "2023-09-10T16:48:35.385Z"
   },
   {
    "duration": 62,
    "start_time": "2023-09-10T16:48:46.697Z"
   },
   {
    "duration": 60,
    "start_time": "2023-09-10T16:53:24.795Z"
   },
   {
    "duration": 133,
    "start_time": "2023-09-10T17:01:34.560Z"
   },
   {
    "duration": 145,
    "start_time": "2023-09-10T17:10:19.707Z"
   },
   {
    "duration": 142,
    "start_time": "2023-09-10T17:10:31.274Z"
   },
   {
    "duration": 61,
    "start_time": "2023-09-10T17:12:05.590Z"
   },
   {
    "duration": 60,
    "start_time": "2023-09-10T17:13:17.244Z"
   },
   {
    "duration": 60,
    "start_time": "2023-09-10T17:13:34.144Z"
   },
   {
    "duration": 43,
    "start_time": "2023-09-10T17:14:50.819Z"
   },
   {
    "duration": 162,
    "start_time": "2023-09-10T17:15:08.520Z"
   },
   {
    "duration": 83,
    "start_time": "2023-09-10T17:17:16.091Z"
   },
   {
    "duration": 83,
    "start_time": "2023-09-10T17:19:24.042Z"
   },
   {
    "duration": 71,
    "start_time": "2023-09-10T17:20:10.042Z"
   },
   {
    "duration": 73,
    "start_time": "2023-09-10T17:20:44.245Z"
   },
   {
    "duration": 60,
    "start_time": "2023-09-10T17:21:07.875Z"
   },
   {
    "duration": 65,
    "start_time": "2023-09-10T17:21:35.126Z"
   },
   {
    "duration": 139,
    "start_time": "2023-09-10T17:22:50.146Z"
   },
   {
    "duration": 130,
    "start_time": "2023-09-10T17:23:49.712Z"
   },
   {
    "duration": 53,
    "start_time": "2023-09-10T17:24:16.106Z"
   },
   {
    "duration": 58,
    "start_time": "2023-09-10T17:25:02.733Z"
   },
   {
    "duration": 84,
    "start_time": "2023-09-10T17:25:07.980Z"
   },
   {
    "duration": 59,
    "start_time": "2023-09-10T17:25:24.548Z"
   },
   {
    "duration": 57,
    "start_time": "2023-09-10T17:28:43.066Z"
   },
   {
    "duration": 58,
    "start_time": "2023-09-10T17:28:54.901Z"
   },
   {
    "duration": 55,
    "start_time": "2023-09-10T17:29:37.481Z"
   },
   {
    "duration": 71,
    "start_time": "2023-09-10T17:31:18.364Z"
   },
   {
    "duration": 61,
    "start_time": "2023-09-10T17:31:35.798Z"
   },
   {
    "duration": 44,
    "start_time": "2023-09-10T17:32:14.081Z"
   },
   {
    "duration": 51,
    "start_time": "2023-09-10T17:32:27.102Z"
   },
   {
    "duration": 58,
    "start_time": "2023-09-10T17:33:49.967Z"
   },
   {
    "duration": 65,
    "start_time": "2023-09-10T17:34:47.750Z"
   },
   {
    "duration": 75,
    "start_time": "2023-09-10T18:07:01.568Z"
   },
   {
    "duration": 49,
    "start_time": "2023-09-10T18:07:28.258Z"
   },
   {
    "duration": 55,
    "start_time": "2023-09-10T18:09:16.319Z"
   },
   {
    "duration": 85,
    "start_time": "2023-09-10T18:09:32.359Z"
   },
   {
    "duration": 48,
    "start_time": "2023-09-10T18:10:27.450Z"
   },
   {
    "duration": 71,
    "start_time": "2023-09-10T18:12:01.659Z"
   },
   {
    "duration": 60,
    "start_time": "2023-09-10T18:12:37.362Z"
   },
   {
    "duration": 524,
    "start_time": "2023-09-10T18:12:44.993Z"
   },
   {
    "duration": 9838,
    "start_time": "2023-09-10T18:12:45.519Z"
   },
   {
    "duration": 226,
    "start_time": "2023-09-10T18:12:55.359Z"
   },
   {
    "duration": 141,
    "start_time": "2023-09-10T18:12:55.588Z"
   },
   {
    "duration": 52,
    "start_time": "2023-09-10T18:12:55.731Z"
   },
   {
    "duration": 55,
    "start_time": "2023-09-10T18:12:55.784Z"
   },
   {
    "duration": 52,
    "start_time": "2023-09-10T18:12:55.841Z"
   },
   {
    "duration": 54,
    "start_time": "2023-09-10T18:12:55.895Z"
   },
   {
    "duration": 52,
    "start_time": "2023-09-10T18:12:55.951Z"
   },
   {
    "duration": 55,
    "start_time": "2023-09-10T18:12:56.006Z"
   },
   {
    "duration": 52,
    "start_time": "2023-09-10T18:12:56.063Z"
   },
   {
    "duration": 54,
    "start_time": "2023-09-10T18:12:56.117Z"
   },
   {
    "duration": 51,
    "start_time": "2023-09-10T18:12:56.173Z"
   },
   {
    "duration": 61,
    "start_time": "2023-09-10T18:12:56.226Z"
   },
   {
    "duration": 58,
    "start_time": "2023-09-10T18:12:56.289Z"
   },
   {
    "duration": 52,
    "start_time": "2023-09-10T18:12:56.349Z"
   },
   {
    "duration": 52,
    "start_time": "2023-09-10T18:12:56.402Z"
   },
   {
    "duration": 53,
    "start_time": "2023-09-10T18:12:56.456Z"
   },
   {
    "duration": 158,
    "start_time": "2023-09-10T18:12:56.511Z"
   },
   {
    "duration": 0,
    "start_time": "2023-09-10T18:12:56.671Z"
   },
   {
    "duration": 62,
    "start_time": "2023-09-10T18:13:40.521Z"
   },
   {
    "duration": 124,
    "start_time": "2023-09-10T18:14:26.394Z"
   },
   {
    "duration": 148,
    "start_time": "2023-09-10T18:21:03.859Z"
   },
   {
    "duration": 69,
    "start_time": "2023-09-10T18:27:27.294Z"
   },
   {
    "duration": 147,
    "start_time": "2023-09-10T18:28:11.810Z"
   },
   {
    "duration": 154,
    "start_time": "2023-09-10T18:31:19.576Z"
   },
   {
    "duration": 61,
    "start_time": "2023-09-10T18:31:52.079Z"
   },
   {
    "duration": 61,
    "start_time": "2023-09-10T18:32:57.036Z"
   },
   {
    "duration": 61,
    "start_time": "2023-09-10T18:33:35.379Z"
   },
   {
    "duration": 70,
    "start_time": "2023-09-10T18:33:51.159Z"
   },
   {
    "duration": 163,
    "start_time": "2023-09-10T18:34:15.278Z"
   },
   {
    "duration": 81,
    "start_time": "2023-09-10T18:35:13.621Z"
   },
   {
    "duration": 42,
    "start_time": "2023-09-10T18:35:37.593Z"
   },
   {
    "duration": 80,
    "start_time": "2023-09-10T18:38:32.973Z"
   },
   {
    "duration": 45,
    "start_time": "2023-09-10T18:42:09.409Z"
   },
   {
    "duration": 53,
    "start_time": "2023-09-10T18:48:24.817Z"
   },
   {
    "duration": 52,
    "start_time": "2023-09-10T18:48:27.693Z"
   },
   {
    "duration": 579,
    "start_time": "2023-09-10T18:50:45.754Z"
   },
   {
    "duration": 8936,
    "start_time": "2023-09-10T18:50:46.336Z"
   },
   {
    "duration": 233,
    "start_time": "2023-09-10T18:50:55.273Z"
   },
   {
    "duration": 124,
    "start_time": "2023-09-10T18:50:55.507Z"
   },
   {
    "duration": 52,
    "start_time": "2023-09-10T18:50:55.633Z"
   },
   {
    "duration": 56,
    "start_time": "2023-09-10T18:50:55.687Z"
   },
   {
    "duration": 53,
    "start_time": "2023-09-10T18:50:55.744Z"
   },
   {
    "duration": 56,
    "start_time": "2023-09-10T18:50:55.799Z"
   },
   {
    "duration": 52,
    "start_time": "2023-09-10T18:50:55.857Z"
   },
   {
    "duration": 55,
    "start_time": "2023-09-10T18:50:55.911Z"
   },
   {
    "duration": 53,
    "start_time": "2023-09-10T18:50:55.968Z"
   },
   {
    "duration": 55,
    "start_time": "2023-09-10T18:50:56.023Z"
   },
   {
    "duration": 51,
    "start_time": "2023-09-10T18:50:56.080Z"
   },
   {
    "duration": 58,
    "start_time": "2023-09-10T18:50:56.133Z"
   },
   {
    "duration": 58,
    "start_time": "2023-09-10T18:50:56.193Z"
   },
   {
    "duration": 53,
    "start_time": "2023-09-10T18:50:56.252Z"
   },
   {
    "duration": 53,
    "start_time": "2023-09-10T18:50:56.306Z"
   },
   {
    "duration": 53,
    "start_time": "2023-09-10T18:50:56.360Z"
   },
   {
    "duration": 56,
    "start_time": "2023-09-10T18:50:56.415Z"
   },
   {
    "duration": 54,
    "start_time": "2023-09-10T18:50:56.473Z"
   },
   {
    "duration": 527,
    "start_time": "2023-09-10T19:01:52.196Z"
   },
   {
    "duration": 8244,
    "start_time": "2023-09-10T19:01:52.725Z"
   },
   {
    "duration": 260,
    "start_time": "2023-09-10T19:02:00.971Z"
   },
   {
    "duration": 134,
    "start_time": "2023-09-10T19:02:01.233Z"
   },
   {
    "duration": 53,
    "start_time": "2023-09-10T19:02:01.369Z"
   },
   {
    "duration": 57,
    "start_time": "2023-09-10T19:02:01.424Z"
   },
   {
    "duration": 58,
    "start_time": "2023-09-10T19:02:01.482Z"
   },
   {
    "duration": 59,
    "start_time": "2023-09-10T19:02:01.542Z"
   },
   {
    "duration": 74,
    "start_time": "2023-09-10T19:02:01.603Z"
   },
   {
    "duration": 102,
    "start_time": "2023-09-10T19:02:01.679Z"
   },
   {
    "duration": 105,
    "start_time": "2023-09-10T19:02:01.783Z"
   },
   {
    "duration": 453,
    "start_time": "2023-09-10T19:02:01.889Z"
   },
   {
    "duration": 53,
    "start_time": "2023-09-10T19:02:02.345Z"
   },
   {
    "duration": 101,
    "start_time": "2023-09-10T19:02:02.401Z"
   },
   {
    "duration": 58,
    "start_time": "2023-09-10T19:02:02.504Z"
   },
   {
    "duration": 54,
    "start_time": "2023-09-10T19:02:02.564Z"
   },
   {
    "duration": 53,
    "start_time": "2023-09-10T19:02:02.620Z"
   },
   {
    "duration": 54,
    "start_time": "2023-09-10T19:02:02.675Z"
   },
   {
    "duration": 56,
    "start_time": "2023-09-10T19:02:02.731Z"
   },
   {
    "duration": 55,
    "start_time": "2023-09-10T19:02:02.790Z"
   },
   {
    "duration": 2184,
    "start_time": "2023-10-09T18:05:10.773Z"
   },
   {
    "duration": 510,
    "start_time": "2023-10-09T18:05:12.959Z"
   },
   {
    "duration": 22737,
    "start_time": "2023-10-09T18:05:13.470Z"
   },
   {
    "duration": 45,
    "start_time": "2023-10-09T18:05:36.209Z"
   },
   {
    "duration": 170,
    "start_time": "2023-10-09T18:05:36.256Z"
   },
   {
    "duration": 52,
    "start_time": "2023-10-09T18:05:36.427Z"
   },
   {
    "duration": 53,
    "start_time": "2023-10-09T18:05:36.480Z"
   },
   {
    "duration": 50,
    "start_time": "2023-10-09T18:05:36.535Z"
   },
   {
    "duration": 50,
    "start_time": "2023-10-09T18:05:36.587Z"
   },
   {
    "duration": 56,
    "start_time": "2023-10-09T18:05:36.640Z"
   },
   {
    "duration": 58,
    "start_time": "2023-10-09T18:05:36.699Z"
   },
   {
    "duration": 56,
    "start_time": "2023-10-09T18:05:36.759Z"
   },
   {
    "duration": 67,
    "start_time": "2023-10-09T18:05:36.816Z"
   },
   {
    "duration": 206,
    "start_time": "2023-10-09T18:05:36.885Z"
   },
   {
    "duration": 173,
    "start_time": "2023-10-09T18:05:37.093Z"
   },
   {
    "duration": 82,
    "start_time": "2023-10-09T18:07:28.155Z"
   }
  ],
  "kernelspec": {
   "display_name": "Python 3 (ipykernel)",
   "language": "python",
   "name": "python3"
  },
  "language_info": {
   "codemirror_mode": {
    "name": "ipython",
    "version": 3
   },
   "file_extension": ".py",
   "mimetype": "text/x-python",
   "name": "python",
   "nbconvert_exporter": "python",
   "pygments_lexer": "ipython3",
   "version": "3.11.4"
  },
  "toc": {
   "base_numbering": 1,
   "nav_menu": {},
   "number_sections": true,
   "sideBar": true,
   "skip_h1_title": true,
   "title_cell": "Table of Contents",
   "title_sidebar": "Contents",
   "toc_cell": false,
   "toc_position": {},
   "toc_section_display": true,
   "toc_window_display": true
  }
 },
 "nbformat": 4,
 "nbformat_minor": 2
}
