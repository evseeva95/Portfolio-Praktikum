{
 "cells": [
  {
   "cell_type": "markdown",
   "metadata": {},
   "source": [
    "# Принятие решений в бизнесе"
   ]
  },
  {
   "cell_type": "markdown",
   "metadata": {},
   "source": [
    "## Заказчик"
   ]
  },
  {
   "cell_type": "markdown",
   "metadata": {},
   "source": [
    "Интернет-магазин"
   ]
  },
  {
   "cell_type": "markdown",
   "metadata": {},
   "source": [
    "## Цель"
   ]
  },
  {
   "cell_type": "markdown",
   "metadata": {},
   "source": [
    "1) Приоритезировать гипотезы\n",
    "\n",
    "2) Запустить А/В тест\n",
    "\n",
    "3) Проанализировать результаты"
   ]
  },
  {
   "cell_type": "markdown",
   "metadata": {},
   "source": [
    "## Входные данные"
   ]
  },
  {
   "cell_type": "markdown",
   "metadata": {},
   "source": [
    "1) Список гипотез - файл /datasets/hypothesis.csv\n",
    "\n",
    "Hypothesis — краткое описание гипотезы;\n",
    "Reach — охват пользователей по 10-балльной шкале;\n",
    "Impact — влияние на пользователей по 10-балльной шкале;\n",
    "Confidence — уверенность в гипотезе по 10-балльной шкале;\n",
    "Efforts — затраты ресурсов на проверку гипотезы по 10-балльной шкале. Чем больше значение Efforts, тем дороже проверка гипотезы.\n",
    "\n",
    "2) Данные о заказах пользователей в интернет-магазине - файл /datasets/orders.csv\n",
    "\n",
    "transactionId — идентификатор заказа;\n",
    "visitorId — идентификатор пользователя, совершившего заказ;\n",
    "date — дата, когда был совершён заказ;\n",
    "revenue — выручка заказа;\n",
    "group — группа A/B-теста, в которую попал заказ.\n",
    "\n",
    "3) Данные о посещениях пользователей в разрезе групп\n",
    "\n",
    "date — дата;\n",
    "group — группа A/B-теста;\n",
    "visitors — количество пользователей в указанную дату в указанной группе A/B-теста\n"
   ]
  },
  {
   "cell_type": "markdown",
   "metadata": {},
   "source": [
    "## Ход анализа"
   ]
  },
  {
   "cell_type": "markdown",
   "metadata": {},
   "source": [
    "1) Обзор и предобработка данных\n",
    "\n",
    "2) Приоритезация гипотез\n",
    "\n",
    "3) Анализ A/B теста"
   ]
  },
  {
   "cell_type": "markdown",
   "metadata": {},
   "source": [
    "# Обзор и предобработка данных"
   ]
  },
  {
   "cell_type": "markdown",
   "metadata": {},
   "source": [
    "Импорт библиотек"
   ]
  },
  {
   "cell_type": "code",
   "execution_count": 1,
   "metadata": {},
   "outputs": [],
   "source": [
    "import pandas as pd\n",
    "import numpy as np\n",
    "import matplotlib.pyplot as plt\n",
    "import seaborn as sns\n",
    "import math\n",
    "import datetime as dt\n",
    "import scipy.stats as stats\n",
    "import warnings\n",
    "\n",
    "from scipy import stats as st\n",
    "\n",
    "warnings.filterwarnings(action='ignore')"
   ]
  },
  {
   "cell_type": "markdown",
   "metadata": {},
   "source": [
    "Чтение файлов"
   ]
  },
  {
   "cell_type": "code",
   "execution_count": 2,
   "metadata": {},
   "outputs": [],
   "source": [
    "hypothesis = pd.read_csv('/datasets/hypothesis.csv')\n",
    "orders = pd.read_csv('/datasets/orders.csv')\n",
    "visitors = pd.read_csv('/datasets/visitors.csv')"
   ]
  },
  {
   "cell_type": "markdown",
   "metadata": {},
   "source": [
    "Знакомство с таблицами"
   ]
  },
  {
   "cell_type": "code",
   "execution_count": 40,
   "metadata": {},
   "outputs": [
    {
     "data": {
      "text/html": [
       "<div>\n",
       "<style scoped>\n",
       "    .dataframe tbody tr th:only-of-type {\n",
       "        vertical-align: middle;\n",
       "    }\n",
       "\n",
       "    .dataframe tbody tr th {\n",
       "        vertical-align: top;\n",
       "    }\n",
       "\n",
       "    .dataframe thead th {\n",
       "        text-align: right;\n",
       "    }\n",
       "</style>\n",
       "<table border=\"1\" class=\"dataframe\">\n",
       "  <thead>\n",
       "    <tr style=\"text-align: right;\">\n",
       "      <th></th>\n",
       "      <th>hypothesis</th>\n",
       "      <th>reach</th>\n",
       "      <th>impact</th>\n",
       "      <th>confidence</th>\n",
       "      <th>efforts</th>\n",
       "      <th>ice</th>\n",
       "      <th>rice</th>\n",
       "    </tr>\n",
       "  </thead>\n",
       "  <tbody>\n",
       "    <tr>\n",
       "      <th>0</th>\n",
       "      <td>Добавить два новых канала привлечения трафика, что позволит привлекать на 30% больше пользователей</td>\n",
       "      <td>3</td>\n",
       "      <td>10</td>\n",
       "      <td>8</td>\n",
       "      <td>6</td>\n",
       "      <td>13.333333</td>\n",
       "      <td>40.0</td>\n",
       "    </tr>\n",
       "    <tr>\n",
       "      <th>1</th>\n",
       "      <td>Запустить собственную службу доставки, что сократит срок доставки заказов</td>\n",
       "      <td>2</td>\n",
       "      <td>5</td>\n",
       "      <td>4</td>\n",
       "      <td>10</td>\n",
       "      <td>2.000000</td>\n",
       "      <td>4.0</td>\n",
       "    </tr>\n",
       "    <tr>\n",
       "      <th>2</th>\n",
       "      <td>Добавить блоки рекомендаций товаров на сайт интернет магазина, чтобы повысить конверсию и средний чек заказа</td>\n",
       "      <td>8</td>\n",
       "      <td>3</td>\n",
       "      <td>7</td>\n",
       "      <td>3</td>\n",
       "      <td>7.000000</td>\n",
       "      <td>56.0</td>\n",
       "    </tr>\n",
       "    <tr>\n",
       "      <th>3</th>\n",
       "      <td>Изменить структура категорий, что увеличит конверсию, т.к. пользователи быстрее найдут нужный товар</td>\n",
       "      <td>8</td>\n",
       "      <td>3</td>\n",
       "      <td>3</td>\n",
       "      <td>8</td>\n",
       "      <td>1.125000</td>\n",
       "      <td>9.0</td>\n",
       "    </tr>\n",
       "    <tr>\n",
       "      <th>4</th>\n",
       "      <td>Изменить цвет фона главной страницы, чтобы увеличить вовлеченность пользователей</td>\n",
       "      <td>3</td>\n",
       "      <td>1</td>\n",
       "      <td>1</td>\n",
       "      <td>1</td>\n",
       "      <td>1.000000</td>\n",
       "      <td>3.0</td>\n",
       "    </tr>\n",
       "  </tbody>\n",
       "</table>\n",
       "</div>"
      ],
      "text/plain": [
       "                                                                                                     hypothesis  \\\n",
       "0  Добавить два новых канала привлечения трафика, что позволит привлекать на 30% больше пользователей             \n",
       "1  Запустить собственную службу доставки, что сократит срок доставки заказов                                      \n",
       "2  Добавить блоки рекомендаций товаров на сайт интернет магазина, чтобы повысить конверсию и средний чек заказа   \n",
       "3  Изменить структура категорий, что увеличит конверсию, т.к. пользователи быстрее найдут нужный товар            \n",
       "4  Изменить цвет фона главной страницы, чтобы увеличить вовлеченность пользователей                               \n",
       "\n",
       "   reach  impact  confidence  efforts        ice  rice  \n",
       "0  3      10      8           6        13.333333  40.0  \n",
       "1  2      5       4           10       2.000000   4.0   \n",
       "2  8      3       7           3        7.000000   56.0  \n",
       "3  8      3       3           8        1.125000   9.0   \n",
       "4  3      1       1           1        1.000000   3.0   "
      ]
     },
     "metadata": {},
     "output_type": "display_data"
    },
    {
     "name": "stdout",
     "output_type": "stream",
     "text": [
      "<class 'pandas.core.frame.DataFrame'>\n",
      "RangeIndex: 9 entries, 0 to 8\n",
      "Data columns (total 7 columns):\n",
      " #   Column      Non-Null Count  Dtype  \n",
      "---  ------      --------------  -----  \n",
      " 0   hypothesis  9 non-null      object \n",
      " 1   reach       9 non-null      int64  \n",
      " 2   impact      9 non-null      int64  \n",
      " 3   confidence  9 non-null      int64  \n",
      " 4   efforts     9 non-null      int64  \n",
      " 5   ice         9 non-null      float64\n",
      " 6   rice        9 non-null      float64\n",
      "dtypes: float64(2), int64(4), object(1)\n",
      "memory usage: 632.0+ bytes\n"
     ]
    }
   ],
   "source": [
    "display(hypothesis.head())\n",
    "hypothesis.info()\n",
    "pd.set_option('display.max_colwidth', False)"
   ]
  },
  {
   "cell_type": "code",
   "execution_count": 4,
   "metadata": {},
   "outputs": [
    {
     "data": {
      "text/html": [
       "<div>\n",
       "<style scoped>\n",
       "    .dataframe tbody tr th:only-of-type {\n",
       "        vertical-align: middle;\n",
       "    }\n",
       "\n",
       "    .dataframe tbody tr th {\n",
       "        vertical-align: top;\n",
       "    }\n",
       "\n",
       "    .dataframe thead th {\n",
       "        text-align: right;\n",
       "    }\n",
       "</style>\n",
       "<table border=\"1\" class=\"dataframe\">\n",
       "  <thead>\n",
       "    <tr style=\"text-align: right;\">\n",
       "      <th></th>\n",
       "      <th>transactionId</th>\n",
       "      <th>visitorId</th>\n",
       "      <th>date</th>\n",
       "      <th>revenue</th>\n",
       "      <th>group</th>\n",
       "    </tr>\n",
       "  </thead>\n",
       "  <tbody>\n",
       "    <tr>\n",
       "      <th>0</th>\n",
       "      <td>3667963787</td>\n",
       "      <td>3312258926</td>\n",
       "      <td>2019-08-15</td>\n",
       "      <td>1650</td>\n",
       "      <td>B</td>\n",
       "    </tr>\n",
       "    <tr>\n",
       "      <th>1</th>\n",
       "      <td>2804400009</td>\n",
       "      <td>3642806036</td>\n",
       "      <td>2019-08-15</td>\n",
       "      <td>730</td>\n",
       "      <td>B</td>\n",
       "    </tr>\n",
       "    <tr>\n",
       "      <th>2</th>\n",
       "      <td>2961555356</td>\n",
       "      <td>4069496402</td>\n",
       "      <td>2019-08-15</td>\n",
       "      <td>400</td>\n",
       "      <td>A</td>\n",
       "    </tr>\n",
       "    <tr>\n",
       "      <th>3</th>\n",
       "      <td>3797467345</td>\n",
       "      <td>1196621759</td>\n",
       "      <td>2019-08-15</td>\n",
       "      <td>9759</td>\n",
       "      <td>B</td>\n",
       "    </tr>\n",
       "    <tr>\n",
       "      <th>4</th>\n",
       "      <td>2282983706</td>\n",
       "      <td>2322279887</td>\n",
       "      <td>2019-08-15</td>\n",
       "      <td>2308</td>\n",
       "      <td>B</td>\n",
       "    </tr>\n",
       "  </tbody>\n",
       "</table>\n",
       "</div>"
      ],
      "text/plain": [
       "   transactionId   visitorId        date  revenue group\n",
       "0  3667963787     3312258926  2019-08-15  1650     B   \n",
       "1  2804400009     3642806036  2019-08-15  730      B   \n",
       "2  2961555356     4069496402  2019-08-15  400      A   \n",
       "3  3797467345     1196621759  2019-08-15  9759     B   \n",
       "4  2282983706     2322279887  2019-08-15  2308     B   "
      ]
     },
     "metadata": {},
     "output_type": "display_data"
    },
    {
     "name": "stdout",
     "output_type": "stream",
     "text": [
      "<class 'pandas.core.frame.DataFrame'>\n",
      "RangeIndex: 1197 entries, 0 to 1196\n",
      "Data columns (total 5 columns):\n",
      " #   Column         Non-Null Count  Dtype \n",
      "---  ------         --------------  ----- \n",
      " 0   transactionId  1197 non-null   int64 \n",
      " 1   visitorId      1197 non-null   int64 \n",
      " 2   date           1197 non-null   object\n",
      " 3   revenue        1197 non-null   int64 \n",
      " 4   group          1197 non-null   object\n",
      "dtypes: int64(3), object(2)\n",
      "memory usage: 46.9+ KB\n"
     ]
    }
   ],
   "source": [
    "display(orders.head())\n",
    "orders.info()"
   ]
  },
  {
   "cell_type": "code",
   "execution_count": 5,
   "metadata": {},
   "outputs": [
    {
     "data": {
      "text/html": [
       "<div>\n",
       "<style scoped>\n",
       "    .dataframe tbody tr th:only-of-type {\n",
       "        vertical-align: middle;\n",
       "    }\n",
       "\n",
       "    .dataframe tbody tr th {\n",
       "        vertical-align: top;\n",
       "    }\n",
       "\n",
       "    .dataframe thead th {\n",
       "        text-align: right;\n",
       "    }\n",
       "</style>\n",
       "<table border=\"1\" class=\"dataframe\">\n",
       "  <thead>\n",
       "    <tr style=\"text-align: right;\">\n",
       "      <th></th>\n",
       "      <th>date</th>\n",
       "      <th>group</th>\n",
       "      <th>visitors</th>\n",
       "    </tr>\n",
       "  </thead>\n",
       "  <tbody>\n",
       "    <tr>\n",
       "      <th>0</th>\n",
       "      <td>2019-08-01</td>\n",
       "      <td>A</td>\n",
       "      <td>719</td>\n",
       "    </tr>\n",
       "    <tr>\n",
       "      <th>1</th>\n",
       "      <td>2019-08-02</td>\n",
       "      <td>A</td>\n",
       "      <td>619</td>\n",
       "    </tr>\n",
       "    <tr>\n",
       "      <th>2</th>\n",
       "      <td>2019-08-03</td>\n",
       "      <td>A</td>\n",
       "      <td>507</td>\n",
       "    </tr>\n",
       "    <tr>\n",
       "      <th>3</th>\n",
       "      <td>2019-08-04</td>\n",
       "      <td>A</td>\n",
       "      <td>717</td>\n",
       "    </tr>\n",
       "    <tr>\n",
       "      <th>4</th>\n",
       "      <td>2019-08-05</td>\n",
       "      <td>A</td>\n",
       "      <td>756</td>\n",
       "    </tr>\n",
       "  </tbody>\n",
       "</table>\n",
       "</div>"
      ],
      "text/plain": [
       "         date group  visitors\n",
       "0  2019-08-01  A     719     \n",
       "1  2019-08-02  A     619     \n",
       "2  2019-08-03  A     507     \n",
       "3  2019-08-04  A     717     \n",
       "4  2019-08-05  A     756     "
      ]
     },
     "metadata": {},
     "output_type": "display_data"
    },
    {
     "name": "stdout",
     "output_type": "stream",
     "text": [
      "<class 'pandas.core.frame.DataFrame'>\n",
      "RangeIndex: 62 entries, 0 to 61\n",
      "Data columns (total 3 columns):\n",
      " #   Column    Non-Null Count  Dtype \n",
      "---  ------    --------------  ----- \n",
      " 0   date      62 non-null     object\n",
      " 1   group     62 non-null     object\n",
      " 2   visitors  62 non-null     int64 \n",
      "dtypes: int64(1), object(2)\n",
      "memory usage: 1.6+ KB\n"
     ]
    }
   ],
   "source": [
    "display(visitors.head())\n",
    "visitors.info()"
   ]
  },
  {
   "cell_type": "markdown",
   "metadata": {},
   "source": [
    "Мы ознакомились с таблицами и видим, что пропуски отутствуют, помимо этого необходимо привести к единому стилю наименования столбцов, заменить в части столбцов тип данных на дату."
   ]
  },
  {
   "cell_type": "markdown",
   "metadata": {},
   "source": [
    "Переименуем столбцы в таблицах hypotesis и orders"
   ]
  },
  {
   "cell_type": "code",
   "execution_count": 6,
   "metadata": {},
   "outputs": [
    {
     "data": {
      "text/plain": [
       "Index(['hypothesis', 'reach', 'impact', 'confidence', 'efforts'], dtype='object')"
      ]
     },
     "metadata": {},
     "output_type": "display_data"
    },
    {
     "data": {
      "text/plain": [
       "Index(['transaction_id', 'visitor_id', 'date', 'revenue', 'group'], dtype='object')"
      ]
     },
     "metadata": {},
     "output_type": "display_data"
    }
   ],
   "source": [
    "hypothesis.columns = hypothesis.columns.str.lower()\n",
    "orders.columns = [name.replace('Id', '_id') for name in orders.columns]\n",
    "\n",
    "display(hypothesis.columns)\n",
    "display(orders.columns)"
   ]
  },
  {
   "cell_type": "markdown",
   "metadata": {},
   "source": [
    "Исправим тип в столбцах с датами"
   ]
  },
  {
   "cell_type": "code",
   "execution_count": 7,
   "metadata": {},
   "outputs": [],
   "source": [
    "orders['date'] = orders['date'].map(lambda x: dt.datetime.strptime(x, '%Y-%m-%d'))\n",
    "visitors['date'] = visitors['date'].map(lambda x: dt.datetime.strptime(x, '%Y-%m-%d'))"
   ]
  },
  {
   "cell_type": "markdown",
   "metadata": {},
   "source": [
    "Проверим таблицы на наличие дубликатов"
   ]
  },
  {
   "cell_type": "code",
   "execution_count": 8,
   "metadata": {},
   "outputs": [
    {
     "data": {
      "text/plain": [
       "0"
      ]
     },
     "execution_count": 8,
     "metadata": {},
     "output_type": "execute_result"
    }
   ],
   "source": [
    "hypothesis.duplicated().sum()"
   ]
  },
  {
   "cell_type": "code",
   "execution_count": 9,
   "metadata": {},
   "outputs": [
    {
     "data": {
      "text/plain": [
       "0"
      ]
     },
     "execution_count": 9,
     "metadata": {},
     "output_type": "execute_result"
    }
   ],
   "source": [
    "orders.duplicated().sum()"
   ]
  },
  {
   "cell_type": "code",
   "execution_count": 10,
   "metadata": {},
   "outputs": [
    {
     "data": {
      "text/plain": [
       "0"
      ]
     },
     "execution_count": 10,
     "metadata": {},
     "output_type": "execute_result"
    }
   ],
   "source": [
    "visitors.duplicated().sum()"
   ]
  },
  {
   "cell_type": "markdown",
   "metadata": {},
   "source": [
    "# Вывод"
   ]
  },
  {
   "cell_type": "markdown",
   "metadata": {},
   "source": [
    "На данном этапе мы ознакомились с таблицами и провели предварительную обработку данных, а именно:\n",
    "- проверили наличие пропусков в таблицах\n",
    "- проверили наличие дублей в таблицах\n",
    "- исправили наименование колонок\n",
    "- исправили типы столбцов, которые содержат информацию о датах"
   ]
  },
  {
   "cell_type": "markdown",
   "metadata": {},
   "source": [
    "# Приоритезация гипотез"
   ]
  },
  {
   "cell_type": "code",
   "execution_count": 11,
   "metadata": {},
   "outputs": [
    {
     "data": {
      "text/html": [
       "<div>\n",
       "<style scoped>\n",
       "    .dataframe tbody tr th:only-of-type {\n",
       "        vertical-align: middle;\n",
       "    }\n",
       "\n",
       "    .dataframe tbody tr th {\n",
       "        vertical-align: top;\n",
       "    }\n",
       "\n",
       "    .dataframe thead th {\n",
       "        text-align: right;\n",
       "    }\n",
       "</style>\n",
       "<table border=\"1\" class=\"dataframe\">\n",
       "  <thead>\n",
       "    <tr style=\"text-align: right;\">\n",
       "      <th></th>\n",
       "      <th>hypothesis</th>\n",
       "      <th>reach</th>\n",
       "      <th>impact</th>\n",
       "      <th>confidence</th>\n",
       "      <th>efforts</th>\n",
       "    </tr>\n",
       "  </thead>\n",
       "  <tbody>\n",
       "    <tr>\n",
       "      <th>0</th>\n",
       "      <td>Добавить два новых канала привлечения трафика, что позволит привлекать на 30% больше пользователей</td>\n",
       "      <td>3</td>\n",
       "      <td>10</td>\n",
       "      <td>8</td>\n",
       "      <td>6</td>\n",
       "    </tr>\n",
       "    <tr>\n",
       "      <th>1</th>\n",
       "      <td>Запустить собственную службу доставки, что сократит срок доставки заказов</td>\n",
       "      <td>2</td>\n",
       "      <td>5</td>\n",
       "      <td>4</td>\n",
       "      <td>10</td>\n",
       "    </tr>\n",
       "    <tr>\n",
       "      <th>2</th>\n",
       "      <td>Добавить блоки рекомендаций товаров на сайт интернет магазина, чтобы повысить конверсию и средний чек заказа</td>\n",
       "      <td>8</td>\n",
       "      <td>3</td>\n",
       "      <td>7</td>\n",
       "      <td>3</td>\n",
       "    </tr>\n",
       "    <tr>\n",
       "      <th>3</th>\n",
       "      <td>Изменить структура категорий, что увеличит конверсию, т.к. пользователи быстрее найдут нужный товар</td>\n",
       "      <td>8</td>\n",
       "      <td>3</td>\n",
       "      <td>3</td>\n",
       "      <td>8</td>\n",
       "    </tr>\n",
       "    <tr>\n",
       "      <th>4</th>\n",
       "      <td>Изменить цвет фона главной страницы, чтобы увеличить вовлеченность пользователей</td>\n",
       "      <td>3</td>\n",
       "      <td>1</td>\n",
       "      <td>1</td>\n",
       "      <td>1</td>\n",
       "    </tr>\n",
       "    <tr>\n",
       "      <th>5</th>\n",
       "      <td>Добавить страницу отзывов клиентов о магазине, что позволит увеличить количество заказов</td>\n",
       "      <td>3</td>\n",
       "      <td>2</td>\n",
       "      <td>2</td>\n",
       "      <td>3</td>\n",
       "    </tr>\n",
       "    <tr>\n",
       "      <th>6</th>\n",
       "      <td>Показать на главной странице баннеры с актуальными акциями и распродажами, чтобы увеличить конверсию</td>\n",
       "      <td>5</td>\n",
       "      <td>3</td>\n",
       "      <td>8</td>\n",
       "      <td>3</td>\n",
       "    </tr>\n",
       "    <tr>\n",
       "      <th>7</th>\n",
       "      <td>Добавить форму подписки на все основные страницы, чтобы собрать базу клиентов для email-рассылок</td>\n",
       "      <td>10</td>\n",
       "      <td>7</td>\n",
       "      <td>8</td>\n",
       "      <td>5</td>\n",
       "    </tr>\n",
       "    <tr>\n",
       "      <th>8</th>\n",
       "      <td>Запустить акцию, дающую скидку на товар в день рождения</td>\n",
       "      <td>1</td>\n",
       "      <td>9</td>\n",
       "      <td>9</td>\n",
       "      <td>5</td>\n",
       "    </tr>\n",
       "  </tbody>\n",
       "</table>\n",
       "</div>"
      ],
      "text/plain": [
       "                                                                                                     hypothesis  \\\n",
       "0  Добавить два новых канала привлечения трафика, что позволит привлекать на 30% больше пользователей             \n",
       "1  Запустить собственную службу доставки, что сократит срок доставки заказов                                      \n",
       "2  Добавить блоки рекомендаций товаров на сайт интернет магазина, чтобы повысить конверсию и средний чек заказа   \n",
       "3  Изменить структура категорий, что увеличит конверсию, т.к. пользователи быстрее найдут нужный товар            \n",
       "4  Изменить цвет фона главной страницы, чтобы увеличить вовлеченность пользователей                               \n",
       "5  Добавить страницу отзывов клиентов о магазине, что позволит увеличить количество заказов                       \n",
       "6  Показать на главной странице баннеры с актуальными акциями и распродажами, чтобы увеличить конверсию           \n",
       "7  Добавить форму подписки на все основные страницы, чтобы собрать базу клиентов для email-рассылок               \n",
       "8  Запустить акцию, дающую скидку на товар в день рождения                                                        \n",
       "\n",
       "   reach  impact  confidence  efforts  \n",
       "0  3      10      8           6        \n",
       "1  2      5       4           10       \n",
       "2  8      3       7           3        \n",
       "3  8      3       3           8        \n",
       "4  3      1       1           1        \n",
       "5  3      2       2           3        \n",
       "6  5      3       8           3        \n",
       "7  10     7       8           5        \n",
       "8  1      9       9           5        "
      ]
     },
     "execution_count": 11,
     "metadata": {},
     "output_type": "execute_result"
    }
   ],
   "source": [
    "hypothesis"
   ]
  },
  {
   "cell_type": "markdown",
   "metadata": {},
   "source": [
    "У нас есть список из 9 гипотез, которые нам необходимо приоритезировать, чтобы выбрать наиболее эффективные.\n",
    "Для этого воспользуемся методами ICE и RICE.\n",
    "\n",
    "Метод ICE (от англ. impact, confidence, effort / ease «влияние, уверенность, усилия / простота»)"
   ]
  },
  {
   "cell_type": "code",
   "execution_count": 12,
   "metadata": {},
   "outputs": [
    {
     "data": {
      "text/html": [
       "<div>\n",
       "<style scoped>\n",
       "    .dataframe tbody tr th:only-of-type {\n",
       "        vertical-align: middle;\n",
       "    }\n",
       "\n",
       "    .dataframe tbody tr th {\n",
       "        vertical-align: top;\n",
       "    }\n",
       "\n",
       "    .dataframe thead th {\n",
       "        text-align: right;\n",
       "    }\n",
       "</style>\n",
       "<table border=\"1\" class=\"dataframe\">\n",
       "  <thead>\n",
       "    <tr style=\"text-align: right;\">\n",
       "      <th></th>\n",
       "      <th>hypothesis</th>\n",
       "      <th>ice</th>\n",
       "    </tr>\n",
       "  </thead>\n",
       "  <tbody>\n",
       "    <tr>\n",
       "      <th>8</th>\n",
       "      <td>Запустить акцию, дающую скидку на товар в день рождения</td>\n",
       "      <td>16.20</td>\n",
       "    </tr>\n",
       "    <tr>\n",
       "      <th>0</th>\n",
       "      <td>Добавить два новых канала привлечения трафика, что позволит привлекать на 30% больше пользователей</td>\n",
       "      <td>13.33</td>\n",
       "    </tr>\n",
       "    <tr>\n",
       "      <th>7</th>\n",
       "      <td>Добавить форму подписки на все основные страницы, чтобы собрать базу клиентов для email-рассылок</td>\n",
       "      <td>11.20</td>\n",
       "    </tr>\n",
       "    <tr>\n",
       "      <th>6</th>\n",
       "      <td>Показать на главной странице баннеры с актуальными акциями и распродажами, чтобы увеличить конверсию</td>\n",
       "      <td>8.00</td>\n",
       "    </tr>\n",
       "    <tr>\n",
       "      <th>2</th>\n",
       "      <td>Добавить блоки рекомендаций товаров на сайт интернет магазина, чтобы повысить конверсию и средний чек заказа</td>\n",
       "      <td>7.00</td>\n",
       "    </tr>\n",
       "    <tr>\n",
       "      <th>1</th>\n",
       "      <td>Запустить собственную службу доставки, что сократит срок доставки заказов</td>\n",
       "      <td>2.00</td>\n",
       "    </tr>\n",
       "    <tr>\n",
       "      <th>5</th>\n",
       "      <td>Добавить страницу отзывов клиентов о магазине, что позволит увеличить количество заказов</td>\n",
       "      <td>1.33</td>\n",
       "    </tr>\n",
       "    <tr>\n",
       "      <th>3</th>\n",
       "      <td>Изменить структура категорий, что увеличит конверсию, т.к. пользователи быстрее найдут нужный товар</td>\n",
       "      <td>1.12</td>\n",
       "    </tr>\n",
       "    <tr>\n",
       "      <th>4</th>\n",
       "      <td>Изменить цвет фона главной страницы, чтобы увеличить вовлеченность пользователей</td>\n",
       "      <td>1.00</td>\n",
       "    </tr>\n",
       "  </tbody>\n",
       "</table>\n",
       "</div>"
      ],
      "text/plain": [
       "                                                                                                     hypothesis  \\\n",
       "8  Запустить акцию, дающую скидку на товар в день рождения                                                        \n",
       "0  Добавить два новых канала привлечения трафика, что позволит привлекать на 30% больше пользователей             \n",
       "7  Добавить форму подписки на все основные страницы, чтобы собрать базу клиентов для email-рассылок               \n",
       "6  Показать на главной странице баннеры с актуальными акциями и распродажами, чтобы увеличить конверсию           \n",
       "2  Добавить блоки рекомендаций товаров на сайт интернет магазина, чтобы повысить конверсию и средний чек заказа   \n",
       "1  Запустить собственную службу доставки, что сократит срок доставки заказов                                      \n",
       "5  Добавить страницу отзывов клиентов о магазине, что позволит увеличить количество заказов                       \n",
       "3  Изменить структура категорий, что увеличит конверсию, т.к. пользователи быстрее найдут нужный товар            \n",
       "4  Изменить цвет фона главной страницы, чтобы увеличить вовлеченность пользователей                               \n",
       "\n",
       "     ice  \n",
       "8  16.20  \n",
       "0  13.33  \n",
       "7  11.20  \n",
       "6  8.00   \n",
       "2  7.00   \n",
       "1  2.00   \n",
       "5  1.33   \n",
       "3  1.12   \n",
       "4  1.00   "
      ]
     },
     "execution_count": 12,
     "metadata": {},
     "output_type": "execute_result"
    }
   ],
   "source": [
    "hypothesis['ice'] = hypothesis['impact'] * hypothesis['confidence']/hypothesis['efforts']\n",
    "hypothesis[['hypothesis', 'ice']].sort_values(by='ice', ascending=False).round(2)"
   ]
  },
  {
   "cell_type": "markdown",
   "metadata": {},
   "source": [
    "Мы видим гипотезы, на которые следует обратить внимание.\n",
    "\n",
    "Рассмотрим шкалу с учетом параметра Reach (англ.: Охват) согласно методу RICE"
   ]
  },
  {
   "cell_type": "code",
   "execution_count": 13,
   "metadata": {},
   "outputs": [
    {
     "data": {
      "text/html": [
       "<div>\n",
       "<style scoped>\n",
       "    .dataframe tbody tr th:only-of-type {\n",
       "        vertical-align: middle;\n",
       "    }\n",
       "\n",
       "    .dataframe tbody tr th {\n",
       "        vertical-align: top;\n",
       "    }\n",
       "\n",
       "    .dataframe thead th {\n",
       "        text-align: right;\n",
       "    }\n",
       "</style>\n",
       "<table border=\"1\" class=\"dataframe\">\n",
       "  <thead>\n",
       "    <tr style=\"text-align: right;\">\n",
       "      <th></th>\n",
       "      <th>hypothesis</th>\n",
       "      <th>rice</th>\n",
       "    </tr>\n",
       "  </thead>\n",
       "  <tbody>\n",
       "    <tr>\n",
       "      <th>7</th>\n",
       "      <td>Добавить форму подписки на все основные страницы, чтобы собрать базу клиентов для email-рассылок</td>\n",
       "      <td>112.0</td>\n",
       "    </tr>\n",
       "    <tr>\n",
       "      <th>2</th>\n",
       "      <td>Добавить блоки рекомендаций товаров на сайт интернет магазина, чтобы повысить конверсию и средний чек заказа</td>\n",
       "      <td>56.0</td>\n",
       "    </tr>\n",
       "    <tr>\n",
       "      <th>0</th>\n",
       "      <td>Добавить два новых канала привлечения трафика, что позволит привлекать на 30% больше пользователей</td>\n",
       "      <td>40.0</td>\n",
       "    </tr>\n",
       "    <tr>\n",
       "      <th>6</th>\n",
       "      <td>Показать на главной странице баннеры с актуальными акциями и распродажами, чтобы увеличить конверсию</td>\n",
       "      <td>40.0</td>\n",
       "    </tr>\n",
       "    <tr>\n",
       "      <th>8</th>\n",
       "      <td>Запустить акцию, дающую скидку на товар в день рождения</td>\n",
       "      <td>16.2</td>\n",
       "    </tr>\n",
       "    <tr>\n",
       "      <th>3</th>\n",
       "      <td>Изменить структура категорий, что увеличит конверсию, т.к. пользователи быстрее найдут нужный товар</td>\n",
       "      <td>9.0</td>\n",
       "    </tr>\n",
       "    <tr>\n",
       "      <th>1</th>\n",
       "      <td>Запустить собственную службу доставки, что сократит срок доставки заказов</td>\n",
       "      <td>4.0</td>\n",
       "    </tr>\n",
       "    <tr>\n",
       "      <th>5</th>\n",
       "      <td>Добавить страницу отзывов клиентов о магазине, что позволит увеличить количество заказов</td>\n",
       "      <td>4.0</td>\n",
       "    </tr>\n",
       "    <tr>\n",
       "      <th>4</th>\n",
       "      <td>Изменить цвет фона главной страницы, чтобы увеличить вовлеченность пользователей</td>\n",
       "      <td>3.0</td>\n",
       "    </tr>\n",
       "  </tbody>\n",
       "</table>\n",
       "</div>"
      ],
      "text/plain": [
       "                                                                                                     hypothesis  \\\n",
       "7  Добавить форму подписки на все основные страницы, чтобы собрать базу клиентов для email-рассылок               \n",
       "2  Добавить блоки рекомендаций товаров на сайт интернет магазина, чтобы повысить конверсию и средний чек заказа   \n",
       "0  Добавить два новых канала привлечения трафика, что позволит привлекать на 30% больше пользователей             \n",
       "6  Показать на главной странице баннеры с актуальными акциями и распродажами, чтобы увеличить конверсию           \n",
       "8  Запустить акцию, дающую скидку на товар в день рождения                                                        \n",
       "3  Изменить структура категорий, что увеличит конверсию, т.к. пользователи быстрее найдут нужный товар            \n",
       "1  Запустить собственную службу доставки, что сократит срок доставки заказов                                      \n",
       "5  Добавить страницу отзывов клиентов о магазине, что позволит увеличить количество заказов                       \n",
       "4  Изменить цвет фона главной страницы, чтобы увеличить вовлеченность пользователей                               \n",
       "\n",
       "    rice  \n",
       "7  112.0  \n",
       "2  56.0   \n",
       "0  40.0   \n",
       "6  40.0   \n",
       "8  16.2   \n",
       "3  9.0    \n",
       "1  4.0    \n",
       "5  4.0    \n",
       "4  3.0    "
      ]
     },
     "execution_count": 13,
     "metadata": {},
     "output_type": "execute_result"
    }
   ],
   "source": [
    "hypothesis['rice'] = hypothesis['reach']*hypothesis['impact'] * hypothesis['confidence']/hypothesis['efforts']\n",
    "hypothesis[['hypothesis', 'rice']].sort_values(by='rice', ascending=False)"
   ]
  },
  {
   "cell_type": "code",
   "execution_count": 14,
   "metadata": {},
   "outputs": [
    {
     "data": {
      "text/html": [
       "<div>\n",
       "<style scoped>\n",
       "    .dataframe tbody tr th:only-of-type {\n",
       "        vertical-align: middle;\n",
       "    }\n",
       "\n",
       "    .dataframe tbody tr th {\n",
       "        vertical-align: top;\n",
       "    }\n",
       "\n",
       "    .dataframe thead th {\n",
       "        text-align: right;\n",
       "    }\n",
       "</style>\n",
       "<table border=\"1\" class=\"dataframe\">\n",
       "  <thead>\n",
       "    <tr style=\"text-align: right;\">\n",
       "      <th></th>\n",
       "      <th>hypothesis</th>\n",
       "      <th>ice</th>\n",
       "      <th>rice</th>\n",
       "    </tr>\n",
       "  </thead>\n",
       "  <tbody>\n",
       "    <tr>\n",
       "      <th>7</th>\n",
       "      <td>Добавить форму подписки на все основные страницы, чтобы собрать базу клиентов для email-рассылок</td>\n",
       "      <td>11.200000</td>\n",
       "      <td>112.0</td>\n",
       "    </tr>\n",
       "    <tr>\n",
       "      <th>2</th>\n",
       "      <td>Добавить блоки рекомендаций товаров на сайт интернет магазина, чтобы повысить конверсию и средний чек заказа</td>\n",
       "      <td>7.000000</td>\n",
       "      <td>56.0</td>\n",
       "    </tr>\n",
       "    <tr>\n",
       "      <th>0</th>\n",
       "      <td>Добавить два новых канала привлечения трафика, что позволит привлекать на 30% больше пользователей</td>\n",
       "      <td>13.333333</td>\n",
       "      <td>40.0</td>\n",
       "    </tr>\n",
       "    <tr>\n",
       "      <th>6</th>\n",
       "      <td>Показать на главной странице баннеры с актуальными акциями и распродажами, чтобы увеличить конверсию</td>\n",
       "      <td>8.000000</td>\n",
       "      <td>40.0</td>\n",
       "    </tr>\n",
       "    <tr>\n",
       "      <th>8</th>\n",
       "      <td>Запустить акцию, дающую скидку на товар в день рождения</td>\n",
       "      <td>16.200000</td>\n",
       "      <td>16.2</td>\n",
       "    </tr>\n",
       "  </tbody>\n",
       "</table>\n",
       "</div>"
      ],
      "text/plain": [
       "                                                                                                     hypothesis  \\\n",
       "7  Добавить форму подписки на все основные страницы, чтобы собрать базу клиентов для email-рассылок               \n",
       "2  Добавить блоки рекомендаций товаров на сайт интернет магазина, чтобы повысить конверсию и средний чек заказа   \n",
       "0  Добавить два новых канала привлечения трафика, что позволит привлекать на 30% больше пользователей             \n",
       "6  Показать на главной странице баннеры с актуальными акциями и распродажами, чтобы увеличить конверсию           \n",
       "8  Запустить акцию, дающую скидку на товар в день рождения                                                        \n",
       "\n",
       "         ice   rice  \n",
       "7  11.200000  112.0  \n",
       "2  7.000000   56.0   \n",
       "0  13.333333  40.0   \n",
       "6  8.000000   40.0   \n",
       "8  16.200000  16.2   "
      ]
     },
     "execution_count": 14,
     "metadata": {},
     "output_type": "execute_result"
    }
   ],
   "source": [
    "hypothesis[['hypothesis','ice', 'rice']].sort_values(by='rice', ascending=False).head(5)"
   ]
  },
  {
   "cell_type": "markdown",
   "metadata": {},
   "source": [
    "# Вывод"
   ]
  },
  {
   "cell_type": "markdown",
   "metadata": {},
   "source": [
    "Видим, что состав топ-5 гипотез остался тем же, но последовательность изменилась. Разница методов заключается в том, что метод RICE учитывает количество пользователей, которых затронут изменения, а метод ICE - не учитывает.\n",
    "Видим, что на первом месте гипотеза \"Добавить форму подписки на все основные страницы\", это связано с тем, что у нее самый высокий параметр Reach."
   ]
  },
  {
   "cell_type": "markdown",
   "metadata": {},
   "source": [
    "# Анализ А/В-теста"
   ]
  },
  {
   "cell_type": "markdown",
   "metadata": {},
   "source": [
    "# График кумулятивной выручки"
   ]
  },
  {
   "cell_type": "markdown",
   "metadata": {},
   "source": [
    "Для построения кумулятивных метрик нам нужно создать таблицу с информацией о группах А и В, дате, кумулятивных значениях заказов и пользователей, среднем чеке и кумулятивном значении посетителей магазина."
   ]
  },
  {
   "cell_type": "markdown",
   "metadata": {},
   "source": [
    "Создаем массив уникальных пар значений дат и групп теста и получаем агрегированные кумулятивные данные по дням о заказах"
   ]
  },
  {
   "cell_type": "code",
   "execution_count": 15,
   "metadata": {},
   "outputs": [
    {
     "data": {
      "text/html": [
       "<div>\n",
       "<style scoped>\n",
       "    .dataframe tbody tr th:only-of-type {\n",
       "        vertical-align: middle;\n",
       "    }\n",
       "\n",
       "    .dataframe tbody tr th {\n",
       "        vertical-align: top;\n",
       "    }\n",
       "\n",
       "    .dataframe thead th {\n",
       "        text-align: right;\n",
       "    }\n",
       "</style>\n",
       "<table border=\"1\" class=\"dataframe\">\n",
       "  <thead>\n",
       "    <tr style=\"text-align: right;\">\n",
       "      <th></th>\n",
       "      <th>date</th>\n",
       "      <th>group</th>\n",
       "      <th>transaction_id</th>\n",
       "      <th>visitor_id</th>\n",
       "      <th>revenue</th>\n",
       "    </tr>\n",
       "  </thead>\n",
       "  <tbody>\n",
       "    <tr>\n",
       "      <th>55</th>\n",
       "      <td>2019-08-01</td>\n",
       "      <td>A</td>\n",
       "      <td>24</td>\n",
       "      <td>20</td>\n",
       "      <td>148579</td>\n",
       "    </tr>\n",
       "    <tr>\n",
       "      <th>66</th>\n",
       "      <td>2019-08-01</td>\n",
       "      <td>B</td>\n",
       "      <td>21</td>\n",
       "      <td>20</td>\n",
       "      <td>101217</td>\n",
       "    </tr>\n",
       "    <tr>\n",
       "      <th>175</th>\n",
       "      <td>2019-08-02</td>\n",
       "      <td>A</td>\n",
       "      <td>44</td>\n",
       "      <td>38</td>\n",
       "      <td>242401</td>\n",
       "    </tr>\n",
       "    <tr>\n",
       "      <th>173</th>\n",
       "      <td>2019-08-02</td>\n",
       "      <td>B</td>\n",
       "      <td>45</td>\n",
       "      <td>43</td>\n",
       "      <td>266748</td>\n",
       "    </tr>\n",
       "    <tr>\n",
       "      <th>291</th>\n",
       "      <td>2019-08-03</td>\n",
       "      <td>A</td>\n",
       "      <td>68</td>\n",
       "      <td>62</td>\n",
       "      <td>354874</td>\n",
       "    </tr>\n",
       "  </tbody>\n",
       "</table>\n",
       "</div>"
      ],
      "text/plain": [
       "          date group  transaction_id  visitor_id  revenue\n",
       "55  2019-08-01  A     24              20          148579 \n",
       "66  2019-08-01  B     21              20          101217 \n",
       "175 2019-08-02  A     44              38          242401 \n",
       "173 2019-08-02  B     45              43          266748 \n",
       "291 2019-08-03  A     68              62          354874 "
      ]
     },
     "execution_count": 15,
     "metadata": {},
     "output_type": "execute_result"
    }
   ],
   "source": [
    "dates_grouped = orders[['date', 'group']].drop_duplicates()\n",
    "\n",
    "orders_grouped = dates_grouped.apply(\n",
    "    lambda x: orders[\n",
    "        np.logical_and(\n",
    "            orders['date'] <= x['date'], orders['group'] == x['group']\n",
    "        )\n",
    "    ].agg(\n",
    "        {\n",
    "            'date': 'max',\n",
    "            'group': 'max',\n",
    "            'transaction_id': 'nunique',\n",
    "            'visitor_id': 'nunique',\n",
    "            'revenue': 'sum',\n",
    "        }\n",
    "    ),\n",
    "    axis=1,\n",
    ").sort_values(by=['date', 'group'])\n",
    "\n",
    "orders_grouped.head()"
   ]
  },
  {
   "cell_type": "markdown",
   "metadata": {},
   "source": [
    "Получаем агрегированные кумулятивные данные по дням о посетителях интернет-магазина"
   ]
  },
  {
   "cell_type": "code",
   "execution_count": 16,
   "metadata": {},
   "outputs": [
    {
     "data": {
      "text/html": [
       "<div>\n",
       "<style scoped>\n",
       "    .dataframe tbody tr th:only-of-type {\n",
       "        vertical-align: middle;\n",
       "    }\n",
       "\n",
       "    .dataframe tbody tr th {\n",
       "        vertical-align: top;\n",
       "    }\n",
       "\n",
       "    .dataframe thead th {\n",
       "        text-align: right;\n",
       "    }\n",
       "</style>\n",
       "<table border=\"1\" class=\"dataframe\">\n",
       "  <thead>\n",
       "    <tr style=\"text-align: right;\">\n",
       "      <th></th>\n",
       "      <th>date</th>\n",
       "      <th>group</th>\n",
       "      <th>visitors</th>\n",
       "    </tr>\n",
       "  </thead>\n",
       "  <tbody>\n",
       "    <tr>\n",
       "      <th>55</th>\n",
       "      <td>2019-08-01</td>\n",
       "      <td>A</td>\n",
       "      <td>719</td>\n",
       "    </tr>\n",
       "    <tr>\n",
       "      <th>66</th>\n",
       "      <td>2019-08-01</td>\n",
       "      <td>B</td>\n",
       "      <td>713</td>\n",
       "    </tr>\n",
       "    <tr>\n",
       "      <th>175</th>\n",
       "      <td>2019-08-02</td>\n",
       "      <td>A</td>\n",
       "      <td>1338</td>\n",
       "    </tr>\n",
       "    <tr>\n",
       "      <th>173</th>\n",
       "      <td>2019-08-02</td>\n",
       "      <td>B</td>\n",
       "      <td>1294</td>\n",
       "    </tr>\n",
       "    <tr>\n",
       "      <th>291</th>\n",
       "      <td>2019-08-03</td>\n",
       "      <td>A</td>\n",
       "      <td>1845</td>\n",
       "    </tr>\n",
       "  </tbody>\n",
       "</table>\n",
       "</div>"
      ],
      "text/plain": [
       "          date group  visitors\n",
       "55  2019-08-01  A     719     \n",
       "66  2019-08-01  B     713     \n",
       "175 2019-08-02  A     1338    \n",
       "173 2019-08-02  B     1294    \n",
       "291 2019-08-03  A     1845    "
      ]
     },
     "execution_count": 16,
     "metadata": {},
     "output_type": "execute_result"
    }
   ],
   "source": [
    "visitors_grouped = dates_grouped.apply(\n",
    "    lambda x: visitors[\n",
    "        np.logical_and(\n",
    "            visitors['date'] <= x['date'], visitors['group'] == x['group']\n",
    "        )\n",
    "    ].agg(\n",
    "        {\n",
    "            'date': 'max', \n",
    "            'group': 'max', \n",
    "            'visitors': 'sum',\n",
    "        }\n",
    "    ),\n",
    "    axis=1,\n",
    ").sort_values(by=['date', 'group'])\n",
    "\n",
    "visitors_grouped.head()"
   ]
  },
  {
   "cell_type": "markdown",
   "metadata": {},
   "source": [
    "Объединяем кумулятивные данные в одной таблице, меняем названия столбцов"
   ]
  },
  {
   "cell_type": "code",
   "execution_count": 17,
   "metadata": {},
   "outputs": [],
   "source": [
    "cumulative_data = orders_grouped.merge(\n",
    "    visitors_grouped, \n",
    "    left_on=['date', 'group'], \n",
    "    right_on=['date', 'group']\n",
    ")\n",
    "\n",
    "cumulative_data.columns = ['date', 'group', 'orders', 'buyers', 'revenue', 'visitors']"
   ]
  },
  {
   "cell_type": "markdown",
   "metadata": {},
   "source": [
    "Добавим колонку с конверсией"
   ]
  },
  {
   "cell_type": "code",
   "execution_count": 18,
   "metadata": {
    "scrolled": true
   },
   "outputs": [
    {
     "data": {
      "text/html": [
       "<div>\n",
       "<style scoped>\n",
       "    .dataframe tbody tr th:only-of-type {\n",
       "        vertical-align: middle;\n",
       "    }\n",
       "\n",
       "    .dataframe tbody tr th {\n",
       "        vertical-align: top;\n",
       "    }\n",
       "\n",
       "    .dataframe thead th {\n",
       "        text-align: right;\n",
       "    }\n",
       "</style>\n",
       "<table border=\"1\" class=\"dataframe\">\n",
       "  <thead>\n",
       "    <tr style=\"text-align: right;\">\n",
       "      <th></th>\n",
       "      <th>date</th>\n",
       "      <th>group</th>\n",
       "      <th>orders</th>\n",
       "      <th>buyers</th>\n",
       "      <th>revenue</th>\n",
       "      <th>visitors</th>\n",
       "      <th>conversion</th>\n",
       "    </tr>\n",
       "  </thead>\n",
       "  <tbody>\n",
       "    <tr>\n",
       "      <th>0</th>\n",
       "      <td>2019-08-01</td>\n",
       "      <td>A</td>\n",
       "      <td>24</td>\n",
       "      <td>20</td>\n",
       "      <td>148579</td>\n",
       "      <td>719</td>\n",
       "      <td>0.033380</td>\n",
       "    </tr>\n",
       "    <tr>\n",
       "      <th>1</th>\n",
       "      <td>2019-08-01</td>\n",
       "      <td>B</td>\n",
       "      <td>21</td>\n",
       "      <td>20</td>\n",
       "      <td>101217</td>\n",
       "      <td>713</td>\n",
       "      <td>0.029453</td>\n",
       "    </tr>\n",
       "    <tr>\n",
       "      <th>2</th>\n",
       "      <td>2019-08-02</td>\n",
       "      <td>A</td>\n",
       "      <td>44</td>\n",
       "      <td>38</td>\n",
       "      <td>242401</td>\n",
       "      <td>1338</td>\n",
       "      <td>0.032885</td>\n",
       "    </tr>\n",
       "    <tr>\n",
       "      <th>3</th>\n",
       "      <td>2019-08-02</td>\n",
       "      <td>B</td>\n",
       "      <td>45</td>\n",
       "      <td>43</td>\n",
       "      <td>266748</td>\n",
       "      <td>1294</td>\n",
       "      <td>0.034776</td>\n",
       "    </tr>\n",
       "    <tr>\n",
       "      <th>4</th>\n",
       "      <td>2019-08-03</td>\n",
       "      <td>A</td>\n",
       "      <td>68</td>\n",
       "      <td>62</td>\n",
       "      <td>354874</td>\n",
       "      <td>1845</td>\n",
       "      <td>0.036856</td>\n",
       "    </tr>\n",
       "  </tbody>\n",
       "</table>\n",
       "</div>"
      ],
      "text/plain": [
       "        date group  orders  buyers  revenue  visitors  conversion\n",
       "0 2019-08-01  A     24      20      148579   719       0.033380  \n",
       "1 2019-08-01  B     21      20      101217   713       0.029453  \n",
       "2 2019-08-02  A     44      38      242401   1338      0.032885  \n",
       "3 2019-08-02  B     45      43      266748   1294      0.034776  \n",
       "4 2019-08-03  A     68      62      354874   1845      0.036856  "
      ]
     },
     "execution_count": 18,
     "metadata": {},
     "output_type": "execute_result"
    }
   ],
   "source": [
    "cumulative_data['conversion'] = cumulative_data['orders'] / cumulative_data['visitors']\n",
    "cumulative_data.head()"
   ]
  },
  {
   "cell_type": "markdown",
   "metadata": {},
   "source": [
    "Построим график кумулятивной выручки по группам"
   ]
  },
  {
   "cell_type": "code",
   "execution_count": 19,
   "metadata": {},
   "outputs": [
    {
     "data": {
      "image/png": "[encoded data removed]",
      "text/plain": [
       "<Figure size 432x288 with 1 Axes>"
      ]
     },
     "metadata": {
      "needs_background": "light"
     },
     "output_type": "display_data"
    }
   ],
   "source": [
    "cumulative_revenue_a = cumulative_data[cumulative_data['group']=='A'][['date','revenue','orders']]\n",
    "cumulative_revenue_b = cumulative_data[cumulative_data['group']=='B'][['date','revenue','orders']]\n",
    "\n",
    "plt.plot(cumulative_revenue_a['date'], cumulative_revenue_a['revenue'], label='A')\n",
    "plt.plot(cumulative_revenue_b['date'], cumulative_revenue_b['revenue'], label='B')\n",
    "plt.title('График динамики кумулятивной выручки по группам А и В')\n",
    "plt.ylabel(\"Выручка\")\n",
    "plt.xticks(rotation=30)\n",
    "plt.legend()\n",
    "plt.show()"
   ]
  },
  {
   "cell_type": "markdown",
   "metadata": {},
   "source": [
    "Видим, что динамика кумулятивной выручки в группе А достаточно прямая и постепенная, в то время как в группе В присутствует резкий скачок во второй половине месяца, что, скорее всего, связано либо с резким ростом заказов, либо с заказом на крупную сумму."
   ]
  },
  {
   "cell_type": "markdown",
   "metadata": {},
   "source": []
  },
  {
   "cell_type": "markdown",
   "metadata": {},
   "source": [
    "Построим график кумулятивного среднего чека по группам"
   ]
  },
  {
   "cell_type": "code",
   "execution_count": 20,
   "metadata": {},
   "outputs": [
    {
     "data": {
      "image/png": "[encoded data removed]",
      "text/plain": [
       "<Figure size 432x288 with 1 Axes>"
      ]
     },
     "metadata": {
      "needs_background": "light"
     },
     "output_type": "display_data"
    }
   ],
   "source": [
    "plt.plot(cumulative_revenue_a['date'], \n",
    "         cumulative_revenue_a['revenue'] / cumulative_revenue_a['orders'],\n",
    "         label='A')\n",
    "\n",
    "plt.plot(cumulative_revenue_b['date'], \n",
    "         cumulative_revenue_b['revenue'] / cumulative_revenue_b['orders'], \n",
    "         label='B')\n",
    "\n",
    "plt.title('График динамики кумулятивного среднего чека по группам А и В')\n",
    "plt.ylabel(\"Выручка\")\n",
    "plt.xticks(rotation=30)\n",
    "plt.legend()\n",
    "plt.show()\n"
   ]
  },
  {
   "cell_type": "markdown",
   "metadata": {},
   "source": [
    "Видим, что средний чек в группе А имел резкие скачки в первые дни месяца, но далее стабилизировался.\n",
    "Средний чек группы В резко вырос во второй половине месяца, это говорит о том, что предположение о заказе на высокую сумму более вероятно."
   ]
  },
  {
   "cell_type": "markdown",
   "metadata": {},
   "source": []
  },
  {
   "cell_type": "markdown",
   "metadata": {},
   "source": [
    "Построим график относительного изменения кумулятивного среднего чека группы B к группе A"
   ]
  },
  {
   "cell_type": "code",
   "execution_count": 21,
   "metadata": {},
   "outputs": [
    {
     "data": {
      "image/png": "[encoded data removed]",
      "text/plain": [
       "<Figure size 432x288 with 1 Axes>"
      ]
     },
     "metadata": {
      "needs_background": "light"
     },
     "output_type": "display_data"
    }
   ],
   "source": [
    "cumulative_revenue_ab = cumulative_revenue_a.merge(\n",
    "    cumulative_revenue_b, \n",
    "    left_on='date', \n",
    "    right_on='date', \n",
    "    how='left', \n",
    "    suffixes=['_a', '_b']\n",
    ")\n",
    "\n",
    "plt.plot(cumulative_revenue_ab['date'], \n",
    "         (\n",
    "             cumulative_revenue_ab['revenue_b']/cumulative_revenue_ab['orders_b']\n",
    "         )/\n",
    "         (\n",
    "             cumulative_revenue_ab['revenue_a']/cumulative_revenue_ab['orders_a']\n",
    "         )-1\n",
    "        )\n",
    "\n",
    "plt.axhline(y=0, color='black', linestyle='--')\n",
    "plt.title('График относительного изменения кумулятивного среднего чека группы B к группе A')\n",
    "plt.ylabel('Средний чек')\n",
    "plt.xticks(rotation=30)\n",
    "plt.show()"
   ]
  },
  {
   "cell_type": "markdown",
   "metadata": {},
   "source": [
    "Видим резкие скачки графика в нескольких точках. Это говорит о том, что имеются крупные заказы и выбросы."
   ]
  },
  {
   "cell_type": "markdown",
   "metadata": {},
   "source": [
    "Построим график кумулятивного среднего количества заказов на посетителя по группам"
   ]
  },
  {
   "cell_type": "code",
   "execution_count": 22,
   "metadata": {},
   "outputs": [
    {
     "data": {
      "image/png": "[encoded data removed]",
      "text/plain": [
       "<Figure size 432x288 with 1 Axes>"
      ]
     },
     "metadata": {
      "needs_background": "light"
     },
     "output_type": "display_data"
    }
   ],
   "source": [
    "cumulative_data_a = cumulative_data[cumulative_data['group']=='A']\n",
    "\n",
    "cumulative_data_b = cumulative_data[cumulative_data['group']=='B']\n",
    "\n",
    "plt.plot(cumulative_data_a['date'], cumulative_data_a['conversion'], label='A')\n",
    "plt.plot(cumulative_data_b['date'], cumulative_data_b['conversion'], label='B')\n",
    "plt.legend()\n",
    "plt.title('Среднее кумулятивное количество заказов по группам')\n",
    "plt.ylabel('Среднее количество заказов на посетителя')\n",
    "plt.xticks(rotation=30)\n",
    "plt.show()"
   ]
  },
  {
   "cell_type": "markdown",
   "metadata": {},
   "source": [
    "Видим, что в начале периода среднее кумулятивное количество заказов колебалось в обеих группе, но затем выровнялось.\n",
    "\n",
    "Однако видим, что данный показатель у группы В значительно выше, чем у группы А."
   ]
  },
  {
   "cell_type": "markdown",
   "metadata": {},
   "source": [
    "\n"
   ]
  },
  {
   "cell_type": "markdown",
   "metadata": {},
   "source": [
    "Построим график относительного изменения кумулятивного среднего количества заказов на посетителя группы B к группе A"
   ]
  },
  {
   "cell_type": "code",
   "execution_count": 23,
   "metadata": {},
   "outputs": [
    {
     "data": {
      "image/png": "[encoded data removed]",
      "text/plain": [
       "<Figure size 432x288 with 1 Axes>"
      ]
     },
     "metadata": {
      "needs_background": "light"
     },
     "output_type": "display_data"
    }
   ],
   "source": [
    "cumulative_conversions_ab = (\n",
    "    cumulative_data_a[['date','conversion']]\n",
    "    .merge(\n",
    "        cumulative_data_b[['date','conversion']], \n",
    "        left_on='date', \n",
    "        right_on='date', \n",
    "        how='left', \n",
    "        suffixes=['_a', '_b']\n",
    "    )\n",
    ")\n",
    "plt.plot(\n",
    "    cumulative_conversions_ab['date'], \n",
    "    cumulative_conversions_ab['conversion_b']/\n",
    "    cumulative_conversions_ab['conversion_a']-1\n",
    ")\n",
    "\n",
    "plt.axhline(y=0, color='black', linestyle='--')\n",
    "plt.axhline(y=0.15, color='grey', linestyle='--')\n",
    "plt.title('Относительное изменение кумулятивного среднего количества заказов на посетителя группы B к группе A')\n",
    "plt.ylabel('Количество заказов')\n",
    "plt.xticks(rotation=30)\n",
    "plt.show()"
   ]
  },
  {
   "cell_type": "markdown",
   "metadata": {},
   "source": [
    "Видим, что вначале среднее кумулятивное количество заказов группы В проигрывало группе А, но затем, начиная со второй декады месяца, резко возросло. Далее видим медленный спад и затем рост данного значения по группе В.\n",
    "\n",
    "Следует помнить, что ранее графики показывали нам крупный заказ в группе В, который мог стать причиной резкого роста этого значения.\n",
    "\n",
    "Поэтому стоит проанализировать данные после очищения таблицы от выбросов."
   ]
  },
  {
   "cell_type": "markdown",
   "metadata": {},
   "source": []
  },
  {
   "cell_type": "markdown",
   "metadata": {},
   "source": [
    "# Анализ заказов в разрезе пользователей"
   ]
  },
  {
   "cell_type": "markdown",
   "metadata": {},
   "source": [
    "Построим точечный график количества заказов по пользователям\n",
    "\n",
    "Как правило, пользователи редко делают больше 2-3 заказов за короткий период. Рассмотрим ситуацию на примере нашего тестирования.\n",
    "Начнем с гистограммы заказов в разрезе пользователей"
   ]
  },
  {
   "cell_type": "code",
   "execution_count": 24,
   "metadata": {},
   "outputs": [
    {
     "data": {
      "text/plain": [
       "count    1031.000000\n",
       "mean     1.161009   \n",
       "std      0.724919   \n",
       "min      1.000000   \n",
       "25%      1.000000   \n",
       "50%      1.000000   \n",
       "75%      1.000000   \n",
       "max      11.000000  \n",
       "Name: orders, dtype: float64"
      ]
     },
     "metadata": {},
     "output_type": "display_data"
    },
    {
     "data": {
      "image/png": "[encoded data removed]",
      "text/plain": [
       "<Figure size 432x288 with 1 Axes>"
      ]
     },
     "metadata": {
      "needs_background": "light"
     },
     "output_type": "display_data"
    }
   ],
   "source": [
    "orders_by_users = (\n",
    "    orders.groupby('visitor_id', as_index=False)\n",
    "    .agg({'transaction_id': 'nunique'})\n",
    ")\n",
    "orders_by_users.columns =  ['visitor_id', 'orders']\n",
    "display(orders_by_users['orders'].describe())\n",
    "\n",
    "plt.hist(orders_by_users['orders'], alpha=0.5) \n",
    "plt.title('Распределение количества заказов по пользователям')\n",
    "plt.xlabel('Количество заказов')\n",
    "plt.ylabel('Количество пользователей')\n",
    "plt.show()"
   ]
  },
  {
   "cell_type": "markdown",
   "metadata": {},
   "source": [
    "Видим, что большинство пользователей сделали заказ один раз, и есть незначительная часть пользователей, которая сделала до 11 заказов за месяц.\n",
    "\n",
    "Построим точечный график количества заказов по пользователям."
   ]
  },
  {
   "cell_type": "code",
   "execution_count": 25,
   "metadata": {},
   "outputs": [
    {
     "data": {
      "image/png": "[encoded data removed]",
      "text/plain": [
       "<Figure size 432x288 with 1 Axes>"
      ]
     },
     "metadata": {
      "needs_background": "light"
     },
     "output_type": "display_data"
    }
   ],
   "source": [
    "x_values = pd.Series(range(0,len(orders_by_users)))\n",
    "\n",
    "plt.scatter(x_values, orders_by_users['orders'], color='orange', alpha=0.5)\n",
    "plt.title('Распределение количества заказов по пользователям')\n",
    "plt.xlabel('Количество пользователей')\n",
    "plt.ylabel('Количество заказов')\n",
    "plt.show()"
   ]
  },
  {
   "cell_type": "markdown",
   "metadata": {},
   "source": [
    "Видим, что есть много пользователей с 2-3 заказами, но пока не понятно, стоит ли их считать выбросами. Для этого нужно сформировать 95-й и 99-й перцентили заказа."
   ]
  },
  {
   "cell_type": "markdown",
   "metadata": {},
   "source": [
    "Посчитаем 95-й и 99-й перцентили количества заказов на пользователя"
   ]
  },
  {
   "cell_type": "code",
   "execution_count": 26,
   "metadata": {},
   "outputs": [
    {
     "name": "stdout",
     "output_type": "stream",
     "text": [
      "[2. 4.]\n"
     ]
    }
   ],
   "source": [
    "print(np.percentile(orders_by_users['orders'], [95, 99]))"
   ]
  },
  {
   "cell_type": "markdown",
   "metadata": {},
   "source": [
    "Не более 5% пользователей делали заказ 2 и более раз и 1% пользователей делали заказ 4 и более раз.\n",
    "Примем за верхнюю границу колиество заказов 4."
   ]
  },
  {
   "cell_type": "markdown",
   "metadata": {},
   "source": [
    "Построим точечный график стоимостей заказов"
   ]
  },
  {
   "cell_type": "code",
   "execution_count": 27,
   "metadata": {},
   "outputs": [
    {
     "data": {
      "text/plain": [
       "count    1.197000e+03\n",
       "mean     8.348006e+03\n",
       "std      3.919113e+04\n",
       "min      5.000000e+01\n",
       "25%      1.220000e+03\n",
       "50%      2.978000e+03\n",
       "75%      8.290000e+03\n",
       "max      1.294500e+06\n",
       "Name: revenue, dtype: float64"
      ]
     },
     "metadata": {},
     "output_type": "display_data"
    },
    {
     "data": {
      "image/png": "[encoded data removed]",
      "text/plain": [
       "<Figure size 432x288 with 1 Axes>"
      ]
     },
     "metadata": {
      "needs_background": "light"
     },
     "output_type": "display_data"
    }
   ],
   "source": [
    "display(orders['revenue'].describe())\n",
    "\n",
    "plt.hist(orders['revenue'], alpha=0.5) \n",
    "plt.title('Распределение стоимости заказов по пользователям')\n",
    "plt.xlabel('Стоимость заказов')\n",
    "plt.ylabel('Количество пользователей')\n",
    "plt.show()"
   ]
  },
  {
   "cell_type": "markdown",
   "metadata": {},
   "source": [
    "Видим, что при средней стоимости заказа 8.3 тыс., максимальная стоимость заказа составляет почти 1.3 млн."
   ]
  },
  {
   "cell_type": "markdown",
   "metadata": {},
   "source": [
    "Построим точечный график стоимости заказов"
   ]
  },
  {
   "cell_type": "code",
   "execution_count": 28,
   "metadata": {},
   "outputs": [
    {
     "data": {
      "image/png": "[encoded data removed]",
      "text/plain": [
       "<Figure size 432x288 with 1 Axes>"
      ]
     },
     "metadata": {
      "needs_background": "light"
     },
     "output_type": "display_data"
    }
   ],
   "source": [
    "x_values = pd.Series(range(0,len(orders['revenue'])))\n",
    "\n",
    "plt.scatter(x_values, orders['revenue'], color='orange', alpha=0.5)\n",
    "plt.title('Распределение стоимости заказов по пользователям')\n",
    "plt.xlabel('Количество пользователей')\n",
    "plt.ylabel('Стоимость заказов')\n",
    "plt.show()"
   ]
  },
  {
   "cell_type": "markdown",
   "metadata": {},
   "source": [
    "Видим, что есть аномальный заказ на сумму 1.3 млн. и также еще один заказ на сумму 200 тыс., который также может повлиять на результат исследования. "
   ]
  },
  {
   "cell_type": "markdown",
   "metadata": {},
   "source": [
    "Построим точечный график без учета данных заказов"
   ]
  },
  {
   "cell_type": "code",
   "execution_count": 29,
   "metadata": {},
   "outputs": [
    {
     "data": {
      "image/png": "[encoded data removed]",
      "text/plain": [
       "<Figure size 432x288 with 1 Axes>"
      ]
     },
     "metadata": {
      "needs_background": "light"
     },
     "output_type": "display_data"
    }
   ],
   "source": [
    "plt.ylim(0, 100000)\n",
    "plt.scatter(x_values, orders['revenue'], color='orange', alpha=0.5)\n",
    "plt.title('Распределение стоимости заказов по пользователям')\n",
    "plt.xlabel('Количество пользователей')\n",
    "plt.ylabel('Стоимость заказов')\n",
    "plt.show()"
   ]
  },
  {
   "cell_type": "markdown",
   "metadata": {},
   "source": [
    "Видим, что основная часть заказов с суммой до 20 000 руб."
   ]
  },
  {
   "cell_type": "markdown",
   "metadata": {},
   "source": [
    "Посчитаем 95-й и 99-й перцентили стоимости заказов и определим границу аномалий"
   ]
  },
  {
   "cell_type": "code",
   "execution_count": 30,
   "metadata": {},
   "outputs": [
    {
     "name": "stdout",
     "output_type": "stream",
     "text": [
      "[28000.  58233.2]\n"
     ]
    }
   ],
   "source": [
    "print(np.percentile(orders['revenue'], [95, 99])) "
   ]
  },
  {
   "cell_type": "markdown",
   "metadata": {},
   "source": [
    "Видим, что только 5% заказов с суммой более 28 000 и 1% заказов с суммой более 58 233 руб.\n",
    "Границей для определения аномалий будем считать 58 233."
   ]
  },
  {
   "cell_type": "markdown",
   "metadata": {},
   "source": [
    "# Анализ статистической значимости"
   ]
  },
  {
   "cell_type": "markdown",
   "metadata": {},
   "source": [
    "Мы визуализировали результаты А/В-теста и выяснили, что в данных, вероятнее всего, есть выбросы, затем нашли выбросы и определили границу для их определения."
   ]
  },
  {
   "cell_type": "markdown",
   "metadata": {},
   "source": [
    "Теперь посчитаем статистическую значимость различий в среднем количестве заказов на посетителя между группами по «сырым» данным"
   ]
  },
  {
   "cell_type": "markdown",
   "metadata": {},
   "source": [
    "Введем основную и альтернативную гипотезы:\n",
    "\n",
    "- Н0: различий в среднем количестве заказов на посетителя между группами нет\n",
    "- Н1: различия в среднем количестве заказов на посетителя между группами есть\n",
    "\n",
    "Установим стандартный уровень значимости равен α = 0.05\n",
    "\n",
    "Для проверки будем использовать непараметрический тест Уилкоксона-Манна-Уитни"
   ]
  },
  {
   "cell_type": "code",
   "execution_count": 31,
   "metadata": {},
   "outputs": [
    {
     "data": {
      "text/html": [
       "<div>\n",
       "<style scoped>\n",
       "    .dataframe tbody tr th:only-of-type {\n",
       "        vertical-align: middle;\n",
       "    }\n",
       "\n",
       "    .dataframe tbody tr th {\n",
       "        vertical-align: top;\n",
       "    }\n",
       "\n",
       "    .dataframe thead th {\n",
       "        text-align: right;\n",
       "    }\n",
       "</style>\n",
       "<table border=\"1\" class=\"dataframe\">\n",
       "  <thead>\n",
       "    <tr style=\"text-align: right;\">\n",
       "      <th></th>\n",
       "      <th>date</th>\n",
       "      <th>orders_daily_a</th>\n",
       "      <th>revenue_per_date_a</th>\n",
       "      <th>orders_daily_b</th>\n",
       "      <th>revenue_per_date_b</th>\n",
       "      <th>orders_cumulative_a</th>\n",
       "      <th>revenue_cumulative_a</th>\n",
       "      <th>orders_cumulative_b</th>\n",
       "      <th>revenue_cumulative_b</th>\n",
       "      <th>visitors_per_date_a</th>\n",
       "      <th>visitors_per_date_b</th>\n",
       "      <th>visitors_cumulative_a</th>\n",
       "      <th>visitors_cumulative_b</th>\n",
       "    </tr>\n",
       "  </thead>\n",
       "  <tbody>\n",
       "    <tr>\n",
       "      <th>0</th>\n",
       "      <td>2019-08-01</td>\n",
       "      <td>24</td>\n",
       "      <td>148579</td>\n",
       "      <td>21</td>\n",
       "      <td>101217</td>\n",
       "      <td>24</td>\n",
       "      <td>148579</td>\n",
       "      <td>21</td>\n",
       "      <td>101217</td>\n",
       "      <td>719</td>\n",
       "      <td>713</td>\n",
       "      <td>719</td>\n",
       "      <td>713</td>\n",
       "    </tr>\n",
       "    <tr>\n",
       "      <th>1</th>\n",
       "      <td>2019-08-02</td>\n",
       "      <td>20</td>\n",
       "      <td>93822</td>\n",
       "      <td>24</td>\n",
       "      <td>165531</td>\n",
       "      <td>44</td>\n",
       "      <td>242401</td>\n",
       "      <td>45</td>\n",
       "      <td>266748</td>\n",
       "      <td>619</td>\n",
       "      <td>581</td>\n",
       "      <td>1338</td>\n",
       "      <td>1294</td>\n",
       "    </tr>\n",
       "    <tr>\n",
       "      <th>2</th>\n",
       "      <td>2019-08-03</td>\n",
       "      <td>24</td>\n",
       "      <td>112473</td>\n",
       "      <td>16</td>\n",
       "      <td>114248</td>\n",
       "      <td>68</td>\n",
       "      <td>354874</td>\n",
       "      <td>61</td>\n",
       "      <td>380996</td>\n",
       "      <td>507</td>\n",
       "      <td>509</td>\n",
       "      <td>1845</td>\n",
       "      <td>1803</td>\n",
       "    </tr>\n",
       "    <tr>\n",
       "      <th>3</th>\n",
       "      <td>2019-08-04</td>\n",
       "      <td>16</td>\n",
       "      <td>70825</td>\n",
       "      <td>17</td>\n",
       "      <td>108571</td>\n",
       "      <td>84</td>\n",
       "      <td>425699</td>\n",
       "      <td>78</td>\n",
       "      <td>489567</td>\n",
       "      <td>717</td>\n",
       "      <td>770</td>\n",
       "      <td>2562</td>\n",
       "      <td>2573</td>\n",
       "    </tr>\n",
       "    <tr>\n",
       "      <th>4</th>\n",
       "      <td>2019-08-05</td>\n",
       "      <td>25</td>\n",
       "      <td>124218</td>\n",
       "      <td>23</td>\n",
       "      <td>92428</td>\n",
       "      <td>109</td>\n",
       "      <td>549917</td>\n",
       "      <td>101</td>\n",
       "      <td>581995</td>\n",
       "      <td>756</td>\n",
       "      <td>707</td>\n",
       "      <td>3318</td>\n",
       "      <td>3280</td>\n",
       "    </tr>\n",
       "  </tbody>\n",
       "</table>\n",
       "</div>"
      ],
      "text/plain": [
       "        date  orders_daily_a  revenue_per_date_a  orders_daily_b  \\\n",
       "0 2019-08-01  24              148579              21               \n",
       "1 2019-08-02  20              93822               24               \n",
       "2 2019-08-03  24              112473              16               \n",
       "3 2019-08-04  16              70825               17               \n",
       "4 2019-08-05  25              124218              23               \n",
       "\n",
       "   revenue_per_date_b  orders_cumulative_a  revenue_cumulative_a  \\\n",
       "0  101217              24                   148579                 \n",
       "1  165531              44                   242401                 \n",
       "2  114248              68                   354874                 \n",
       "3  108571              84                   425699                 \n",
       "4  92428               109                  549917                 \n",
       "\n",
       "   orders_cumulative_b  revenue_cumulative_b  visitors_per_date_a  \\\n",
       "0  21                   101217                719                   \n",
       "1  45                   266748                619                   \n",
       "2  61                   380996                507                   \n",
       "3  78                   489567                717                   \n",
       "4  101                  581995                756                   \n",
       "\n",
       "   visitors_per_date_b  visitors_cumulative_a  visitors_cumulative_b  \n",
       "0  713                  719                    713                    \n",
       "1  581                  1338                   1294                   \n",
       "2  509                  1845                   1803                   \n",
       "3  770                  2562                   2573                   \n",
       "4  707                  3318                   3280                   "
      ]
     },
     "execution_count": 31,
     "metadata": {},
     "output_type": "execute_result"
    }
   ],
   "source": [
    "visitors_daily_a = visitors[visitors['group'] == 'A'][['date', 'visitors']]\n",
    "visitors_daily_a.columns = ['date', 'visitors_per_date_a']\n",
    "\n",
    "visitors_cumulative_a = visitors_daily_a.apply(\n",
    "    lambda x: visitors_daily_a[visitors_daily_a['date'] <= x['date']].agg(\n",
    "        {'date': 'max', 'visitors_per_date_a': 'sum'}\n",
    "    ),\n",
    "    axis=1,\n",
    ")\n",
    "visitors_cumulative_a.columns = ['date', 'visitors_cumulative_a']\n",
    "\n",
    "visitors_daily_b = visitors[visitors['group'] == 'B'][['date', 'visitors']]\n",
    "visitors_daily_b.columns = ['date', 'visitors_per_date_b']\n",
    "\n",
    "visitors_cumulative_b = visitors_daily_b.apply(\n",
    "    lambda x: visitors_daily_b[visitors_daily_b['date'] <= x['date']].agg(\n",
    "        {'date': 'max', 'visitors_per_date_b': 'sum'}\n",
    "    ),\n",
    "    axis=1,\n",
    ")\n",
    "visitors_cumulative_b.columns = ['date', 'visitors_cumulative_b']\n",
    "\n",
    "orders_daily_a = (\n",
    "    orders[orders['group'] == 'A'][['date', 'transaction_id', 'visitor_id', 'revenue']]\n",
    "    .groupby('date', as_index=False)\n",
    "    .agg({'transaction_id': pd.Series.nunique, 'revenue': 'sum'})\n",
    ")\n",
    "orders_daily_a.columns = ['date', 'orders_daily_a', 'revenue_per_date_a']\n",
    "\n",
    "orders_cumulative_a = orders_daily_a.apply(\n",
    "    lambda x: orders_daily_a[orders_daily_a['date'] <= x['date']].agg(\n",
    "        {'date': 'max', 'orders_daily_a': 'sum', 'revenue_per_date_a': 'sum'}\n",
    "    ),\n",
    "    axis=1,\n",
    ").sort_values(by=['date'])\n",
    "\n",
    "orders_cumulative_a.columns = ['date','orders_cumulative_a','revenue_cumulative_a']\n",
    "\n",
    "orders_daily_b = (\n",
    "    orders[orders['group'] == 'B'][['date', 'transaction_id', 'visitor_id', 'revenue']]\n",
    "    .groupby('date', as_index=False)\n",
    "    .agg({'transaction_id': pd.Series.nunique, 'revenue': 'sum'})\n",
    ")\n",
    "orders_daily_b.columns = ['date', 'orders_daily_b', 'revenue_per_date_b']\n",
    "\n",
    "orders_cumulative_b = orders_daily_b.apply(\n",
    "    lambda x: orders_daily_b[orders_daily_b['date'] <= x['date']].agg(\n",
    "        {'date': 'max', 'orders_daily_b': 'sum', 'revenue_per_date_b': 'sum'}\n",
    "    ),\n",
    "    axis=1,\n",
    ").sort_values(by=['date'])\n",
    "\n",
    "orders_cumulative_b.columns = ['date','orders_cumulative_b','revenue_cumulative_b']\n",
    "\n",
    "\n",
    "data = (\n",
    "    orders_daily_a.merge(\n",
    "        orders_daily_b, left_on='date', right_on='date', how='left'\n",
    "    )\n",
    "    .merge(orders_cumulative_a, left_on='date', right_on='date', how='left')\n",
    "    .merge(orders_cumulative_b, left_on='date', right_on='date', how='left')\n",
    "    .merge(visitors_daily_a, left_on='date', right_on='date', how='left')\n",
    "    .merge(visitors_daily_b, left_on='date', right_on='date', how='left')\n",
    "    .merge(visitors_cumulative_a, left_on='date', right_on='date', how='left')\n",
    "    .merge(visitors_cumulative_b, left_on='date', right_on='date', how='left')\n",
    ")\n",
    "\n",
    "data.head()"
   ]
  },
  {
   "cell_type": "markdown",
   "metadata": {},
   "source": [
    "Получилась таблица со следующими данными:\n",
    "\n",
    "- date — дата;\n",
    "- orders_daily_a — количество заказов в выбранную дату в группе A;\n",
    "- revenue_per_date_a — суммарная выручка в выбранную дату в группе A;\n",
    "- orders_daily_a — количество заказов в выбранную дату в группе B;\n",
    "- revenue_per_date_a — суммарная выручка в выбранную дату в группе B;\n",
    "- orders_cumulative_a — суммарное число заказов до выбранной даты включительно в группе A;\n",
    "- revenue_cumulative_a — суммарная выручка до выбранной даты включительно в группе A;\n",
    "- orders_cumulative_b — суммарное количество заказов до выбранной даты включительно в группе B;\n",
    "- revenue_cumulative_b — суммарная выручка до выбранной даты включительно в группе B;\n",
    "- visitors_per_date_a — количество пользователей в выбранную дату в группе A;\n",
    "- visitors_per_date_b — количество пользователей в выбранную дату в группе B;\n",
    "- visitors_cumulative_a — количество пользователей до выбранной даты включительно в группе A;\n",
    "- visitors_cumulative_b — количество пользователей до выбранной даты включительно в группе B."
   ]
  },
  {
   "cell_type": "markdown",
   "metadata": {},
   "source": [
    "Создадим переменные orders_by_users_a и orders_by_users_b. В них для пользователей, которые заказывали хотя бы 1 раз, укажем число совершённых заказов. "
   ]
  },
  {
   "cell_type": "code",
   "execution_count": 32,
   "metadata": {},
   "outputs": [],
   "source": [
    "orders_by_users_a = (\n",
    "    orders[orders['group'] == 'A']\n",
    "    .groupby('visitor_id', as_index=False)\n",
    "    .agg({'transaction_id': pd.Series.nunique})\n",
    ")\n",
    "orders_by_users_a.columns = ['visitor_id', 'orders']\n",
    "\n",
    "orders_by_users_b = (\n",
    "    orders[orders['group'] == 'B']\n",
    "    .groupby('visitor_id', as_index=False)\n",
    "    .agg({'transaction_id': pd.Series.nunique})\n",
    ")\n",
    "orders_by_users_b.columns = ['visitor_id', 'orders']"
   ]
  },
  {
   "cell_type": "markdown",
   "metadata": {},
   "source": [
    "Oбъявим переменные sample_a и sample_b, в которых пользователям из разных групп будет соответствовать количество заказов. Тем, кто ничего не заказал, будут соответствовать нули. Это нужно, чтобы подготовить выборки к проверке критерием Манна-Уитни."
   ]
  },
  {
   "cell_type": "code",
   "execution_count": 33,
   "metadata": {},
   "outputs": [],
   "source": [
    "sample_a = pd.concat([orders_by_users_a['orders'],\n",
    "                      pd.Series(\n",
    "                          0, \n",
    "                          index=np.arange(data['visitors_per_date_a'].sum() - \n",
    "                                          len(orders_by_users_a['orders'])), \n",
    "                          name='orders')],axis=0\n",
    "                    )\n",
    "\n",
    "sample_b = pd.concat([orders_by_users_b['orders'],\n",
    "                      pd.Series(\n",
    "                          0, \n",
    "                          index=np.arange(data['visitors_per_date_b'].sum() - \n",
    "                                          len(orders_by_users_b['orders'])), \n",
    "                          name='orders')],axis=0\n",
    "                    )"
   ]
  },
  {
   "cell_type": "code",
   "execution_count": 34,
   "metadata": {},
   "outputs": [
    {
     "name": "stdout",
     "output_type": "stream",
     "text": [
      "p-Value: 0.017\n",
      "Относительный прирост группы В к группе А: 13.808%\n"
     ]
    }
   ],
   "source": [
    "print('p-Value:', \"{0:.3f}\".format(stats.mannwhitneyu(sample_a, sample_b)[1]))\n",
    "\n",
    "print('Относительный прирост группы В к группе А:', \"{0:.3%}\".format(sample_b.mean() / sample_a.mean() - 1))\n"
   ]
  },
  {
   "cell_type": "markdown",
   "metadata": {},
   "source": [
    "Вывод: \n",
    "- p-Value = 0.017, что меньше 0.05, значит, по \"сырым\" данным различия в среднем количестве заказов между группами есть, нулевую гипотезу о том, что различий между группами нет, отвергаем\n",
    "- относительный прирост группы В к группе А равен 13.8%"
   ]
  },
  {
   "cell_type": "markdown",
   "metadata": {},
   "source": [
    "Посчитаем статистическую значимость различий в среднем чеке заказа между группами по «сырым» данным\n",
    "\n",
    "Введем основуную и альтернативную гипотезы:\n",
    "\n",
    "- Н0: различий в среднем чеке между группами нет\n",
    "- Н1: различия в среднем чеке между группами есть\n",
    "\n",
    "Установим стандартный уровень значимости равен α = 0.05\n",
    "\n",
    "Чтобы рассчитать статистическую значимость различий в среднем чеке, передадим критерию mannwhitneyu() данные о выручке с заказов. \n",
    "А ещё найдём относительные различия в среднем чеке между группами:"
   ]
  },
  {
   "cell_type": "code",
   "execution_count": 35,
   "metadata": {},
   "outputs": [
    {
     "name": "stdout",
     "output_type": "stream",
     "text": [
      "p-Value: 0.729\n",
      "Относительный прирост группы В к группе А: 25.871%\n"
     ]
    }
   ],
   "source": [
    "print('p-Value:', '{0:.3f}'.format(stats.mannwhitneyu(orders[orders['group']=='A']['revenue'], orders[orders['group']=='B']['revenue'])[1]))\n",
    "print('Относительный прирост группы В к группе А:', '{0:.3%}'.format(orders[orders['group']=='B']['revenue'].mean()/orders[orders['group']=='A']['revenue'].mean()-1))"
   ]
  },
  {
   "cell_type": "markdown",
   "metadata": {},
   "source": [
    "p-Value значительно больше 0.05, это говорит о том, что нулевая гипотеза подтверждена, различий в среднем чеке между группами нет."
   ]
  },
  {
   "cell_type": "markdown",
   "metadata": {},
   "source": [
    "Посчитаем статистическую значимость различий в среднем количестве заказов на посетителя между группами по «очищенным» данным. \n",
    "\n",
    "Ранее мы определили границы аномальных значений.\n",
    "\n",
    "За аномальных пользователей примем тех, которые совершили более 4 заказов или заказ дороже 58233. Таким образом мы уберём 1% пользователей с наибольшим числом заказов и от 1% пользователей с дорогими заказами. Сделаем срезы пользователей с числом заказов больше 4 — users_with_many_orders и пользователей, совершивших заказы дороже 58233 — users_with_expensive_orders. Объединим их в таблице abnormal_users.\n",
    "\n",
    "Узнаем, сколько всего аномальных пользователей методом shape()."
   ]
  },
  {
   "cell_type": "code",
   "execution_count": 36,
   "metadata": {},
   "outputs": [
    {
     "data": {
      "text/plain": [
       "1099    148427295 \n",
       "949     887908475 \n",
       "744     888512513 \n",
       "1103    1164614297\n",
       "1136    1307669133\n",
       "Name: visitor_id, dtype: int64"
      ]
     },
     "metadata": {},
     "output_type": "display_data"
    },
    {
     "data": {
      "text/plain": [
       "15"
      ]
     },
     "execution_count": 36,
     "metadata": {},
     "output_type": "execute_result"
    }
   ],
   "source": [
    "many_orders = np.percentile(orders_by_users['orders'], 99)\n",
    "expensive_orders = np.percentile(orders['revenue'], 99)\n",
    "\n",
    "\n",
    "users_with_many_orders = pd.concat(\n",
    "    [\n",
    "        orders_by_users_a[orders_by_users_a['orders'] > many_orders]['visitor_id'],\n",
    "        orders_by_users_b[orders_by_users_b['orders'] > many_orders]['visitor_id'],\n",
    "    ],\n",
    "    axis=0,\n",
    ")\n",
    "\n",
    "\n",
    "users_with_expensive_orders = orders[orders['revenue'] > expensive_orders]['visitor_id']\n",
    "\n",
    "\n",
    "abnormal_users = (\n",
    "    pd.concat([users_with_many_orders, users_with_expensive_orders], axis=0)\n",
    "    .drop_duplicates()\n",
    "    .sort_values()\n",
    ")\n",
    "display(abnormal_users.head(5))\n",
    "abnormal_users.shape[0]"
   ]
  },
  {
   "cell_type": "markdown",
   "metadata": {},
   "source": [
    "Количество аномальных пользователей равно 15.\n",
    "\n",
    "Узнаем, как их действия повлияли на результаты теста. Посчитаем статистическую значимость различий в среднем количестве заказов между группами теста по очищенным данным. Сначала подготовим выборки количества заказов по пользователям по группам теста:"
   ]
  },
  {
   "cell_type": "code",
   "execution_count": 37,
   "metadata": {},
   "outputs": [],
   "source": [
    "sample_a_filtered = pd.concat(\n",
    "    [\n",
    "        orders_by_users_a[\n",
    "            np.logical_not(orders_by_users_a['visitor_id'].isin(abnormal_users))\n",
    "        ]['orders'],\n",
    "        pd.Series(\n",
    "            0,\n",
    "            index=np.arange(\n",
    "                data['visitors_per_date_a'].sum() - len(orders_by_users_a['orders'])\n",
    "            ),\n",
    "            name='orders',\n",
    "        ),\n",
    "    ],\n",
    "    axis=0,\n",
    ")\n",
    "\n",
    "sample_b_filtered = pd.concat(\n",
    "    [\n",
    "        orders_by_users_b[\n",
    "            np.logical_not(orders_by_users_b['visitor_id'].isin(abnormal_users))\n",
    "        ]['orders'],\n",
    "        pd.Series(\n",
    "            0,\n",
    "            index=np.arange(\n",
    "                data['visitors_per_date_b'].sum() - len(orders_by_users_b['orders'])\n",
    "            ),\n",
    "            name='orders',\n",
    "        ),\n",
    "    ],\n",
    "    axis=0,\n",
    ")"
   ]
  },
  {
   "cell_type": "code",
   "execution_count": 38,
   "metadata": {},
   "outputs": [
    {
     "name": "stdout",
     "output_type": "stream",
     "text": [
      "p-Value: 0.014\n",
      "Относительный прирост В к А: 15.331%\n"
     ]
    }
   ],
   "source": [
    "print('p-Value:', '{0:.3f}'.format(stats.mannwhitneyu(sample_a_filtered, sample_b_filtered)[1]))\n",
    "print('Относительный прирост В к А:', '{0:.3%}'.format(sample_b_filtered.mean()/sample_a_filtered.mean()-1)) "
   ]
  },
  {
   "cell_type": "markdown",
   "metadata": {},
   "source": [
    "Вывод:\n",
    "- p-Value значительно меньше 0.05, нулевую гипотезу отвергаем, различия между группами есть\n",
    "- Относительный прирост группы В к А на очищенных данных увеличился с 13.8% до 15.3%"
   ]
  },
  {
   "cell_type": "markdown",
   "metadata": {},
   "source": [
    "Посчитаем статистическую значимость различий в среднем чеке заказа между группами по «очищенным» данным. "
   ]
  },
  {
   "cell_type": "code",
   "execution_count": 39,
   "metadata": {},
   "outputs": [
    {
     "name": "stdout",
     "output_type": "stream",
     "text": [
      "p-Value: 0.851\n",
      "Относительный прирост В к А: -0.575%\n"
     ]
    }
   ],
   "source": [
    "print(\n",
    "    'p-Value:', '{0:.3f}'.format(\n",
    "        stats.mannwhitneyu(\n",
    "            orders[\n",
    "                np.logical_and(\n",
    "                    orders['group'] == 'A',\n",
    "                    np.logical_not(orders['visitor_id'].isin(abnormal_users)),\n",
    "                )\n",
    "            ]['revenue'],\n",
    "            orders[\n",
    "                np.logical_and(\n",
    "                    orders['group'] == 'B',\n",
    "                    np.logical_not(orders['visitor_id'].isin(abnormal_users)),\n",
    "                )\n",
    "            ]['revenue'],\n",
    "        )[1]\n",
    "    )\n",
    ")\n",
    "\n",
    "print(\n",
    "    'Относительный прирост В к А:',\"{0:.3%}\".format(\n",
    "        orders[\n",
    "            np.logical_and(\n",
    "                orders['group'] == 'B',\n",
    "                np.logical_not(orders['visitor_id'].isin(abnormal_users)),\n",
    "            )\n",
    "        ]['revenue'].mean()\n",
    "        / orders[\n",
    "            np.logical_and(\n",
    "                orders['group'] == 'A',\n",
    "                np.logical_not(orders['visitor_id'].isin(abnormal_users)),\n",
    "            )\n",
    "        ]['revenue'].mean()\n",
    "        - 1\n",
    "    )\n",
    ")"
   ]
  },
  {
   "cell_type": "markdown",
   "metadata": {},
   "source": [
    "Вывод:\n",
    "- p-Value значительно больше 0.05, не получилось отвергнуть нулевую гипотезу, т.е. нет причин считать, что в среднем чеке групп есть различия"
   ]
  },
  {
   "cell_type": "markdown",
   "metadata": {},
   "source": [
    "# Общий вывод"
   ]
  },
  {
   "cell_type": "markdown",
   "metadata": {},
   "source": [
    "На основании данных, полученных от интернет-магазина, был проведен анализ и вынесены рекомендации, описанные ниже.\n",
    "\n",
    "1. При анализе гипотез  по методу ICE из списка, полученных от отдела Маркетинга, было выявлено, что в первую очередь следует обратить внимание на гипотезы:\n",
    "\n",
    "\"Запустить акцию, дающую скидку на товар в день рождения\",\n",
    "\"Добавить два новых канала привлечения трафика, что позволит привлекать на 30% больше пользователей\",\n",
    "\"Добавить форму подписки на все основные страницы, чтобы собрать базу клиентов для email-рассылок\";\n",
    "\n",
    "2. В случае если при приоритезации гипотез учитывать и охват пользователей интернет-магазина, то места необходимо распределить таким образом:\n",
    "\n",
    "\"Добавить форму подписки на все основные страницы, чтобы собрать базу клиентов для email-рассылок\",\n",
    "\"Добавить блоки рекомендаций товаров на сайт интернет магазина, чтобы повысить конверсию и средний чек заказа\",\n",
    "\"Добавить два новых канала привлечения трафика, что позволит привлекать на 30% больше пользователей\".\n",
    "\n",
    "3. При проведении анализа А/В-теста было выявлено:\n",
    "\n",
    "Есть статистически значимое различие по кумулятивному среднему количеству заказов на одного пользователя между группами как по «сырым», так и по данным после фильтрации аномалий. Данный показатель группы В выше, чем в А на 14-15%;\n",
    "\n",
    "Нет статистически значимого различия по среднему чеку между группами ни по «сырым», ни по данным после фильтрации аномалий. При этом средний чек группы В выше (на \"очищенных\" данных - на ~2%);\n",
    "\n",
    "График относительного изменения кумулятивной конверсии группы B к группе A показывает, что результаты группы В стабильно лучше группы А;\n",
    "\n",
    "На основании вышеизложенного рекомендуем остановить тест, зафиксировав победу группы B (ее конверсия значительно выше конверсии группы А)."
   ]
  }
 ],
 "metadata": {
  "ExecuteTimeLog": [
   {
    "duration": 1292,
    "start_time": "2023-07-01T14:17:52.483Z"
   },
   {
    "duration": 2,
    "start_time": "2023-07-01T14:18:20.589Z"
   },
   {
    "duration": 3,
    "start_time": "2023-07-01T14:18:29.401Z"
   },
   {
    "duration": 68,
    "start_time": "2023-07-01T14:21:03.124Z"
   },
   {
    "duration": 3,
    "start_time": "2023-07-01T14:21:54.635Z"
   },
   {
    "duration": 26,
    "start_time": "2023-07-01T14:21:55.800Z"
   },
   {
    "duration": 26,
    "start_time": "2023-07-01T14:22:37.304Z"
   },
   {
    "duration": 160,
    "start_time": "2023-07-01T14:32:22.119Z"
   },
   {
    "duration": 10,
    "start_time": "2023-07-01T14:33:36.086Z"
   },
   {
    "duration": 15,
    "start_time": "2023-07-01T14:33:53.408Z"
   },
   {
    "duration": 14,
    "start_time": "2023-07-01T14:35:18.563Z"
   },
   {
    "duration": 14,
    "start_time": "2023-07-01T14:36:28.144Z"
   },
   {
    "duration": 3,
    "start_time": "2023-07-01T15:02:47.964Z"
   },
   {
    "duration": 4,
    "start_time": "2023-07-01T15:03:25.767Z"
   },
   {
    "duration": 118,
    "start_time": "2023-07-01T15:04:00.520Z"
   },
   {
    "duration": 6,
    "start_time": "2023-07-01T15:04:46.272Z"
   },
   {
    "duration": 5,
    "start_time": "2023-07-01T15:05:19.361Z"
   },
   {
    "duration": 6,
    "start_time": "2023-07-01T15:05:28.352Z"
   },
   {
    "duration": 7,
    "start_time": "2023-07-01T15:05:37.295Z"
   },
   {
    "duration": 4,
    "start_time": "2023-07-01T15:07:19.675Z"
   },
   {
    "duration": 9,
    "start_time": "2023-07-01T15:07:48.310Z"
   },
   {
    "duration": 29,
    "start_time": "2023-07-01T15:08:13.940Z"
   },
   {
    "duration": 7,
    "start_time": "2023-07-01T15:08:55.476Z"
   },
   {
    "duration": 6,
    "start_time": "2023-07-01T15:09:50.080Z"
   },
   {
    "duration": 8,
    "start_time": "2023-07-01T15:10:05.675Z"
   },
   {
    "duration": 6,
    "start_time": "2023-07-01T15:10:25.050Z"
   },
   {
    "duration": 7,
    "start_time": "2023-07-01T15:17:53.614Z"
   },
   {
    "duration": 5,
    "start_time": "2023-07-01T15:23:05.927Z"
   },
   {
    "duration": 11,
    "start_time": "2023-07-01T15:24:09.887Z"
   },
   {
    "duration": 12,
    "start_time": "2023-07-01T15:27:11.516Z"
   },
   {
    "duration": 10,
    "start_time": "2023-07-01T16:34:35.288Z"
   },
   {
    "duration": 157,
    "start_time": "2023-07-01T17:39:33.148Z"
   },
   {
    "duration": 133,
    "start_time": "2023-07-01T17:40:50.328Z"
   },
   {
    "duration": 8,
    "start_time": "2023-07-01T17:41:10.972Z"
   },
   {
    "duration": 176,
    "start_time": "2023-07-01T17:43:03.356Z"
   },
   {
    "duration": 11,
    "start_time": "2023-07-01T17:55:40.293Z"
   },
   {
    "duration": 7,
    "start_time": "2023-07-01T18:00:45.185Z"
   },
   {
    "duration": 111,
    "start_time": "2023-07-01T18:02:21.013Z"
   },
   {
    "duration": 15,
    "start_time": "2023-07-01T18:02:47.521Z"
   },
   {
    "duration": 236,
    "start_time": "2023-07-01T18:04:22.493Z"
   },
   {
    "duration": 160,
    "start_time": "2023-07-01T18:05:02.114Z"
   },
   {
    "duration": 161,
    "start_time": "2023-07-01T18:05:28.050Z"
   },
   {
    "duration": 1227,
    "start_time": "2023-07-01T18:06:45.375Z"
   },
   {
    "duration": 75,
    "start_time": "2023-07-01T18:06:46.604Z"
   },
   {
    "duration": 21,
    "start_time": "2023-07-01T18:06:46.681Z"
   },
   {
    "duration": 16,
    "start_time": "2023-07-01T18:06:46.705Z"
   },
   {
    "duration": 29,
    "start_time": "2023-07-01T18:06:46.722Z"
   },
   {
    "duration": 23,
    "start_time": "2023-07-01T18:06:46.753Z"
   },
   {
    "duration": 18,
    "start_time": "2023-07-01T18:06:46.778Z"
   },
   {
    "duration": 24,
    "start_time": "2023-07-01T18:06:46.798Z"
   },
   {
    "duration": 9,
    "start_time": "2023-07-01T18:06:46.824Z"
   },
   {
    "duration": 10,
    "start_time": "2023-07-01T18:06:46.835Z"
   },
   {
    "duration": 11,
    "start_time": "2023-07-01T18:06:46.846Z"
   },
   {
    "duration": 24,
    "start_time": "2023-07-01T18:06:46.859Z"
   },
   {
    "duration": 11,
    "start_time": "2023-07-01T18:06:46.884Z"
   },
   {
    "duration": 16,
    "start_time": "2023-07-01T18:06:46.897Z"
   },
   {
    "duration": 214,
    "start_time": "2023-07-01T18:06:46.915Z"
   },
   {
    "duration": 141,
    "start_time": "2023-07-01T18:06:47.131Z"
   },
   {
    "duration": 7,
    "start_time": "2023-07-01T18:06:47.274Z"
   },
   {
    "duration": 15,
    "start_time": "2023-07-01T18:06:47.283Z"
   },
   {
    "duration": 297,
    "start_time": "2023-07-01T18:06:47.300Z"
   },
   {
    "duration": 115,
    "start_time": "2023-07-01T18:09:19.283Z"
   },
   {
    "duration": 131,
    "start_time": "2023-07-01T18:11:04.081Z"
   },
   {
    "duration": 113,
    "start_time": "2023-07-01T18:11:09.884Z"
   },
   {
    "duration": 151,
    "start_time": "2023-07-01T18:11:23.084Z"
   },
   {
    "duration": 112,
    "start_time": "2023-07-01T18:11:25.384Z"
   },
   {
    "duration": 114,
    "start_time": "2023-07-01T18:14:18.364Z"
   },
   {
    "duration": 164,
    "start_time": "2023-07-01T18:14:50.674Z"
   },
   {
    "duration": 7,
    "start_time": "2023-07-01T18:15:20.425Z"
   },
   {
    "duration": 9,
    "start_time": "2023-07-01T18:15:22.394Z"
   },
   {
    "duration": 167,
    "start_time": "2023-07-01T18:15:25.550Z"
   },
   {
    "duration": 6,
    "start_time": "2023-07-01T18:15:46.929Z"
   },
   {
    "duration": 9,
    "start_time": "2023-07-01T18:15:49.233Z"
   },
   {
    "duration": 121,
    "start_time": "2023-07-01T18:17:08.642Z"
   },
   {
    "duration": 115,
    "start_time": "2023-07-01T18:17:27.971Z"
   },
   {
    "duration": 119,
    "start_time": "2023-07-01T18:17:33.893Z"
   },
   {
    "duration": 120,
    "start_time": "2023-07-01T18:17:46.892Z"
   },
   {
    "duration": 6,
    "start_time": "2023-07-01T18:17:48.326Z"
   },
   {
    "duration": 11,
    "start_time": "2023-07-01T18:17:50.609Z"
   },
   {
    "duration": 115,
    "start_time": "2023-07-01T18:18:00.911Z"
   },
   {
    "duration": 162,
    "start_time": "2023-07-01T18:19:21.348Z"
   },
   {
    "duration": 110,
    "start_time": "2023-07-01T18:20:11.276Z"
   },
   {
    "duration": 7,
    "start_time": "2023-07-01T18:20:55.206Z"
   },
   {
    "duration": 11,
    "start_time": "2023-07-01T18:21:00.375Z"
   },
   {
    "duration": 10,
    "start_time": "2023-07-01T18:21:08.886Z"
   },
   {
    "duration": 168,
    "start_time": "2023-07-01T18:21:32.637Z"
   },
   {
    "duration": 250,
    "start_time": "2023-07-01T18:55:00.899Z"
   },
   {
    "duration": 170,
    "start_time": "2023-07-01T18:55:09.680Z"
   },
   {
    "duration": 122,
    "start_time": "2023-07-01T19:00:31.459Z"
   },
   {
    "duration": 1165,
    "start_time": "2023-07-01T19:01:35.602Z"
   },
   {
    "duration": 73,
    "start_time": "2023-07-01T19:01:36.769Z"
   },
   {
    "duration": 17,
    "start_time": "2023-07-01T19:01:36.844Z"
   },
   {
    "duration": 15,
    "start_time": "2023-07-01T19:01:36.862Z"
   },
   {
    "duration": 12,
    "start_time": "2023-07-01T19:01:36.880Z"
   },
   {
    "duration": 6,
    "start_time": "2023-07-01T19:01:36.893Z"
   },
   {
    "duration": 9,
    "start_time": "2023-07-01T19:01:36.901Z"
   },
   {
    "duration": 6,
    "start_time": "2023-07-01T19:01:36.912Z"
   },
   {
    "duration": 6,
    "start_time": "2023-07-01T19:01:36.920Z"
   },
   {
    "duration": 6,
    "start_time": "2023-07-01T19:01:36.928Z"
   },
   {
    "duration": 39,
    "start_time": "2023-07-01T19:01:36.935Z"
   },
   {
    "duration": 12,
    "start_time": "2023-07-01T19:01:36.975Z"
   },
   {
    "duration": 9,
    "start_time": "2023-07-01T19:01:36.988Z"
   },
   {
    "duration": 9,
    "start_time": "2023-07-01T19:01:37.000Z"
   },
   {
    "duration": 190,
    "start_time": "2023-07-01T19:01:37.010Z"
   },
   {
    "duration": 134,
    "start_time": "2023-07-01T19:01:37.202Z"
   },
   {
    "duration": 6,
    "start_time": "2023-07-01T19:01:37.338Z"
   },
   {
    "duration": 25,
    "start_time": "2023-07-01T19:01:37.346Z"
   },
   {
    "duration": 253,
    "start_time": "2023-07-01T19:01:37.372Z"
   },
   {
    "duration": 174,
    "start_time": "2023-07-01T19:15:04.628Z"
   },
   {
    "duration": 112,
    "start_time": "2023-07-01T19:16:52.048Z"
   },
   {
    "duration": 103,
    "start_time": "2023-07-01T19:19:04.934Z"
   },
   {
    "duration": 299,
    "start_time": "2023-07-01T19:20:00.861Z"
   },
   {
    "duration": 11,
    "start_time": "2023-07-01T19:31:03.040Z"
   },
   {
    "duration": 7,
    "start_time": "2023-07-01T19:44:28.292Z"
   },
   {
    "duration": 10,
    "start_time": "2023-07-01T19:44:29.953Z"
   },
   {
    "duration": 195,
    "start_time": "2023-07-01T19:44:31.408Z"
   },
   {
    "duration": 95,
    "start_time": "2023-07-02T07:54:27.779Z"
   },
   {
    "duration": 1709,
    "start_time": "2023-07-02T07:54:36.890Z"
   },
   {
    "duration": 293,
    "start_time": "2023-07-02T07:54:38.602Z"
   },
   {
    "duration": 26,
    "start_time": "2023-07-02T07:54:38.897Z"
   },
   {
    "duration": 20,
    "start_time": "2023-07-02T07:54:38.927Z"
   },
   {
    "duration": 24,
    "start_time": "2023-07-02T07:54:38.950Z"
   },
   {
    "duration": 9,
    "start_time": "2023-07-02T07:54:38.977Z"
   },
   {
    "duration": 13,
    "start_time": "2023-07-02T07:54:38.989Z"
   },
   {
    "duration": 8,
    "start_time": "2023-07-02T07:54:39.005Z"
   },
   {
    "duration": 9,
    "start_time": "2023-07-02T07:54:39.015Z"
   },
   {
    "duration": 13,
    "start_time": "2023-07-02T07:54:39.056Z"
   },
   {
    "duration": 11,
    "start_time": "2023-07-02T07:54:39.072Z"
   },
   {
    "duration": 18,
    "start_time": "2023-07-02T07:54:39.086Z"
   },
   {
    "duration": 14,
    "start_time": "2023-07-02T07:54:39.106Z"
   },
   {
    "duration": 55,
    "start_time": "2023-07-02T07:54:39.123Z"
   },
   {
    "duration": 214,
    "start_time": "2023-07-02T07:54:39.181Z"
   },
   {
    "duration": 164,
    "start_time": "2023-07-02T07:54:39.397Z"
   },
   {
    "duration": 19,
    "start_time": "2023-07-02T07:54:39.563Z"
   },
   {
    "duration": 27,
    "start_time": "2023-07-02T07:54:39.584Z"
   },
   {
    "duration": 364,
    "start_time": "2023-07-02T07:54:39.613Z"
   },
   {
    "duration": 278,
    "start_time": "2023-07-02T07:54:39.980Z"
   },
   {
    "duration": 413,
    "start_time": "2023-07-02T07:54:40.260Z"
   },
   {
    "duration": 333,
    "start_time": "2023-07-02T07:55:00.221Z"
   },
   {
    "duration": 315,
    "start_time": "2023-07-02T07:55:36.226Z"
   },
   {
    "duration": 303,
    "start_time": "2023-07-02T07:57:36.139Z"
   },
   {
    "duration": 373,
    "start_time": "2023-07-02T07:59:11.713Z"
   },
   {
    "duration": 294,
    "start_time": "2023-07-02T07:59:44.249Z"
   },
   {
    "duration": 300,
    "start_time": "2023-07-02T08:05:54.423Z"
   },
   {
    "duration": 276,
    "start_time": "2023-07-02T08:06:08.993Z"
   },
   {
    "duration": 237,
    "start_time": "2023-07-02T08:07:28.600Z"
   },
   {
    "duration": 237,
    "start_time": "2023-07-02T08:55:05.365Z"
   },
   {
    "duration": 428,
    "start_time": "2023-07-02T08:56:02.176Z"
   },
   {
    "duration": 205,
    "start_time": "2023-07-02T09:55:03.032Z"
   },
   {
    "duration": 187,
    "start_time": "2023-07-02T09:55:27.907Z"
   },
   {
    "duration": 175,
    "start_time": "2023-07-02T09:56:10.802Z"
   },
   {
    "duration": 220,
    "start_time": "2023-07-02T10:03:44.216Z"
   },
   {
    "duration": 7,
    "start_time": "2023-07-02T10:07:33.513Z"
   },
   {
    "duration": 11,
    "start_time": "2023-07-02T10:07:47.816Z"
   },
   {
    "duration": 298,
    "start_time": "2023-07-02T10:13:40.838Z"
   },
   {
    "duration": 204,
    "start_time": "2023-07-02T10:14:19.417Z"
   },
   {
    "duration": 8,
    "start_time": "2023-07-02T10:14:22.895Z"
   },
   {
    "duration": 197,
    "start_time": "2023-07-02T10:14:55.420Z"
   },
   {
    "duration": 903,
    "start_time": "2023-07-02T10:25:12.813Z"
   },
   {
    "duration": 1540,
    "start_time": "2023-07-02T10:25:30.796Z"
   },
   {
    "duration": 154,
    "start_time": "2023-07-02T10:25:32.341Z"
   },
   {
    "duration": 42,
    "start_time": "2023-07-02T10:25:32.503Z"
   },
   {
    "duration": 26,
    "start_time": "2023-07-02T10:25:32.549Z"
   },
   {
    "duration": 23,
    "start_time": "2023-07-02T10:25:32.577Z"
   },
   {
    "duration": 20,
    "start_time": "2023-07-02T10:25:32.602Z"
   },
   {
    "duration": 30,
    "start_time": "2023-07-02T10:25:32.624Z"
   },
   {
    "duration": 15,
    "start_time": "2023-07-02T10:25:32.657Z"
   },
   {
    "duration": 25,
    "start_time": "2023-07-02T10:25:32.674Z"
   },
   {
    "duration": 11,
    "start_time": "2023-07-02T10:25:32.707Z"
   },
   {
    "duration": 22,
    "start_time": "2023-07-02T10:25:32.723Z"
   },
   {
    "duration": 45,
    "start_time": "2023-07-02T10:25:32.748Z"
   },
   {
    "duration": 20,
    "start_time": "2023-07-02T10:25:32.799Z"
   },
   {
    "duration": 14,
    "start_time": "2023-07-02T10:25:32.824Z"
   },
   {
    "duration": 231,
    "start_time": "2023-07-02T10:25:32.840Z"
   },
   {
    "duration": 175,
    "start_time": "2023-07-02T10:25:33.074Z"
   },
   {
    "duration": 7,
    "start_time": "2023-07-02T10:25:33.252Z"
   },
   {
    "duration": 45,
    "start_time": "2023-07-02T10:25:33.264Z"
   },
   {
    "duration": 423,
    "start_time": "2023-07-02T10:25:33.322Z"
   },
   {
    "duration": 285,
    "start_time": "2023-07-02T10:25:33.747Z"
   },
   {
    "duration": 348,
    "start_time": "2023-07-02T10:25:34.040Z"
   },
   {
    "duration": 298,
    "start_time": "2023-07-02T10:25:34.393Z"
   },
   {
    "duration": 406,
    "start_time": "2023-07-02T10:25:34.699Z"
   },
   {
    "duration": 192,
    "start_time": "2023-07-02T10:25:35.111Z"
   },
   {
    "duration": 169,
    "start_time": "2023-07-02T10:25:35.305Z"
   },
   {
    "duration": 9,
    "start_time": "2023-07-02T10:25:35.479Z"
   },
   {
    "duration": 327,
    "start_time": "2023-07-02T10:25:35.493Z"
   },
   {
    "duration": 18,
    "start_time": "2023-07-02T10:26:08.493Z"
   },
   {
    "duration": 196,
    "start_time": "2023-07-02T10:33:59.411Z"
   },
   {
    "duration": 146,
    "start_time": "2023-07-02T10:34:22.503Z"
   },
   {
    "duration": 206,
    "start_time": "2023-07-02T10:34:26.240Z"
   },
   {
    "duration": 222,
    "start_time": "2023-07-02T10:34:43.326Z"
   },
   {
    "duration": 136,
    "start_time": "2023-07-02T10:34:57.715Z"
   },
   {
    "duration": 202,
    "start_time": "2023-07-02T10:35:03.813Z"
   },
   {
    "duration": 221,
    "start_time": "2023-07-02T10:35:11.236Z"
   },
   {
    "duration": 173,
    "start_time": "2023-07-02T10:35:25.416Z"
   },
   {
    "duration": 200,
    "start_time": "2023-07-02T10:35:33.747Z"
   },
   {
    "duration": 178,
    "start_time": "2023-07-02T10:35:47.186Z"
   },
   {
    "duration": 224,
    "start_time": "2023-07-02T10:35:57.847Z"
   },
   {
    "duration": 227,
    "start_time": "2023-07-02T10:36:06.686Z"
   },
   {
    "duration": 231,
    "start_time": "2023-07-02T10:36:16.342Z"
   },
   {
    "duration": 168,
    "start_time": "2023-07-02T10:36:27.012Z"
   },
   {
    "duration": 252,
    "start_time": "2023-07-02T10:45:12.504Z"
   },
   {
    "duration": 132,
    "start_time": "2023-07-02T10:45:28.596Z"
   },
   {
    "duration": 238,
    "start_time": "2023-07-02T10:45:46.803Z"
   },
   {
    "duration": 184,
    "start_time": "2023-07-02T10:46:43.552Z"
   },
   {
    "duration": 194,
    "start_time": "2023-07-02T10:46:45.824Z"
   },
   {
    "duration": 11,
    "start_time": "2023-07-02T10:55:20.088Z"
   },
   {
    "duration": 324,
    "start_time": "2023-07-02T13:13:27.772Z"
   },
   {
    "duration": 380,
    "start_time": "2023-07-02T13:15:48.205Z"
   },
   {
    "duration": 181,
    "start_time": "2023-07-02T13:22:13.719Z"
   },
   {
    "duration": 9,
    "start_time": "2023-07-02T13:23:42.926Z"
   },
   {
    "duration": 27,
    "start_time": "2023-07-02T13:32:40.251Z"
   },
   {
    "duration": 28,
    "start_time": "2023-07-02T13:33:01.203Z"
   },
   {
    "duration": 204,
    "start_time": "2023-07-02T13:33:15.733Z"
   },
   {
    "duration": 7,
    "start_time": "2023-07-02T13:33:16.919Z"
   },
   {
    "duration": 18,
    "start_time": "2023-07-02T13:33:18.495Z"
   },
   {
    "duration": 30,
    "start_time": "2023-07-02T13:34:29.918Z"
   },
   {
    "duration": 10,
    "start_time": "2023-07-02T13:46:46.700Z"
   },
   {
    "duration": 25,
    "start_time": "2023-07-02T13:48:55.956Z"
   },
   {
    "duration": 34,
    "start_time": "2023-07-02T13:49:46.548Z"
   },
   {
    "duration": 21,
    "start_time": "2023-07-02T13:50:00.683Z"
   },
   {
    "duration": 13,
    "start_time": "2023-07-02T13:50:25.721Z"
   },
   {
    "duration": 26,
    "start_time": "2023-07-02T13:51:04.426Z"
   },
   {
    "duration": 26,
    "start_time": "2023-07-02T13:51:14.709Z"
   },
   {
    "duration": 26,
    "start_time": "2023-07-02T13:51:37.705Z"
   },
   {
    "duration": 15,
    "start_time": "2023-07-02T14:00:04.136Z"
   },
   {
    "duration": 9,
    "start_time": "2023-07-02T14:02:31.326Z"
   },
   {
    "duration": 9,
    "start_time": "2023-07-02T14:02:40.836Z"
   },
   {
    "duration": 10,
    "start_time": "2023-07-02T14:02:46.520Z"
   },
   {
    "duration": 8,
    "start_time": "2023-07-02T14:02:47.327Z"
   },
   {
    "duration": 11,
    "start_time": "2023-07-02T14:03:18.224Z"
   },
   {
    "duration": 44,
    "start_time": "2023-07-02T14:04:08.637Z"
   },
   {
    "duration": 26,
    "start_time": "2023-07-02T14:04:55.597Z"
   },
   {
    "duration": 46,
    "start_time": "2023-07-02T14:05:55.753Z"
   },
   {
    "duration": 45,
    "start_time": "2023-07-02T14:06:37.130Z"
   },
   {
    "duration": 15,
    "start_time": "2023-07-02T14:09:49.336Z"
   },
   {
    "duration": 133,
    "start_time": "2023-07-02T14:11:11.981Z"
   },
   {
    "duration": 150,
    "start_time": "2023-07-02T14:11:26.543Z"
   },
   {
    "duration": 17,
    "start_time": "2023-07-02T14:11:33.017Z"
   },
   {
    "duration": 178,
    "start_time": "2023-07-02T14:21:48.200Z"
   },
   {
    "duration": 183,
    "start_time": "2023-07-02T14:23:13.296Z"
   },
   {
    "duration": 178,
    "start_time": "2023-07-02T14:23:35.315Z"
   },
   {
    "duration": 181,
    "start_time": "2023-07-02T14:24:04.304Z"
   },
   {
    "duration": 151,
    "start_time": "2023-07-02T14:24:34.076Z"
   },
   {
    "duration": 428,
    "start_time": "2023-07-02T14:25:15.451Z"
   },
   {
    "duration": 330,
    "start_time": "2023-07-02T14:25:43.291Z"
   },
   {
    "duration": 1409,
    "start_time": "2023-07-02T16:20:10.948Z"
   },
   {
    "duration": 204,
    "start_time": "2023-07-02T16:20:12.360Z"
   },
   {
    "duration": 22,
    "start_time": "2023-07-02T16:20:12.565Z"
   },
   {
    "duration": 18,
    "start_time": "2023-07-02T16:20:12.589Z"
   },
   {
    "duration": 21,
    "start_time": "2023-07-02T16:20:12.608Z"
   },
   {
    "duration": 7,
    "start_time": "2023-07-02T16:20:12.631Z"
   },
   {
    "duration": 17,
    "start_time": "2023-07-02T16:20:12.640Z"
   },
   {
    "duration": 30,
    "start_time": "2023-07-02T16:20:12.658Z"
   },
   {
    "duration": 9,
    "start_time": "2023-07-02T16:20:12.689Z"
   },
   {
    "duration": 6,
    "start_time": "2023-07-02T16:20:12.700Z"
   },
   {
    "duration": 22,
    "start_time": "2023-07-02T16:20:12.707Z"
   },
   {
    "duration": 29,
    "start_time": "2023-07-02T16:20:12.731Z"
   },
   {
    "duration": 11,
    "start_time": "2023-07-02T16:20:12.762Z"
   },
   {
    "duration": 14,
    "start_time": "2023-07-02T16:20:12.774Z"
   },
   {
    "duration": 189,
    "start_time": "2023-07-02T16:20:12.789Z"
   },
   {
    "duration": 131,
    "start_time": "2023-07-02T16:20:12.979Z"
   },
   {
    "duration": 7,
    "start_time": "2023-07-02T16:20:13.113Z"
   },
   {
    "duration": 14,
    "start_time": "2023-07-02T16:20:13.122Z"
   },
   {
    "duration": 299,
    "start_time": "2023-07-02T16:20:13.137Z"
   },
   {
    "duration": 208,
    "start_time": "2023-07-02T16:20:13.438Z"
   },
   {
    "duration": 374,
    "start_time": "2023-07-02T16:20:13.648Z"
   },
   {
    "duration": 225,
    "start_time": "2023-07-02T16:20:14.024Z"
   },
   {
    "duration": 302,
    "start_time": "2023-07-02T16:20:14.251Z"
   },
   {
    "duration": 155,
    "start_time": "2023-07-02T16:20:14.555Z"
   },
   {
    "duration": 145,
    "start_time": "2023-07-02T16:20:14.713Z"
   },
   {
    "duration": 4,
    "start_time": "2023-07-02T16:20:14.860Z"
   },
   {
    "duration": 255,
    "start_time": "2023-07-02T16:20:14.866Z"
   },
   {
    "duration": 152,
    "start_time": "2023-07-02T16:20:15.125Z"
   },
   {
    "duration": 159,
    "start_time": "2023-07-02T16:20:15.279Z"
   },
   {
    "duration": 5,
    "start_time": "2023-07-02T16:20:15.439Z"
   },
   {
    "duration": 323,
    "start_time": "2023-07-02T16:20:15.446Z"
   },
   {
    "duration": 0,
    "start_time": "2023-07-02T16:20:15.771Z"
   },
   {
    "duration": 0,
    "start_time": "2023-07-02T16:20:15.772Z"
   },
   {
    "duration": 0,
    "start_time": "2023-07-02T16:20:15.774Z"
   },
   {
    "duration": 0,
    "start_time": "2023-07-02T16:20:15.775Z"
   },
   {
    "duration": 0,
    "start_time": "2023-07-02T16:20:15.776Z"
   },
   {
    "duration": 0,
    "start_time": "2023-07-02T16:20:15.777Z"
   },
   {
    "duration": 0,
    "start_time": "2023-07-02T16:20:15.778Z"
   },
   {
    "duration": 0,
    "start_time": "2023-07-02T16:20:15.780Z"
   },
   {
    "duration": 145,
    "start_time": "2023-07-02T16:34:40.311Z"
   },
   {
    "duration": 127,
    "start_time": "2023-07-02T16:34:45.360Z"
   },
   {
    "duration": 10,
    "start_time": "2023-07-02T16:34:45.488Z"
   },
   {
    "duration": 0,
    "start_time": "2023-07-02T16:34:45.499Z"
   },
   {
    "duration": 1,
    "start_time": "2023-07-02T16:34:45.500Z"
   },
   {
    "duration": 0,
    "start_time": "2023-07-02T16:34:45.502Z"
   },
   {
    "duration": 0,
    "start_time": "2023-07-02T16:34:45.502Z"
   },
   {
    "duration": 0,
    "start_time": "2023-07-02T16:34:45.514Z"
   },
   {
    "duration": 10,
    "start_time": "2023-07-02T16:34:45.641Z"
   },
   {
    "duration": 9,
    "start_time": "2023-07-02T16:35:15.982Z"
   },
   {
    "duration": 72,
    "start_time": "2023-07-02T18:17:38.652Z"
   },
   {
    "duration": 1616,
    "start_time": "2023-07-02T18:17:49.145Z"
   },
   {
    "duration": 317,
    "start_time": "2023-07-02T18:17:50.763Z"
   },
   {
    "duration": 24,
    "start_time": "2023-07-02T18:17:51.082Z"
   },
   {
    "duration": 18,
    "start_time": "2023-07-02T18:17:51.109Z"
   },
   {
    "duration": 20,
    "start_time": "2023-07-02T18:17:51.129Z"
   },
   {
    "duration": 40,
    "start_time": "2023-07-02T18:17:51.154Z"
   },
   {
    "duration": 25,
    "start_time": "2023-07-02T18:17:51.195Z"
   },
   {
    "duration": 12,
    "start_time": "2023-07-02T18:17:51.222Z"
   },
   {
    "duration": 17,
    "start_time": "2023-07-02T18:17:51.236Z"
   },
   {
    "duration": 26,
    "start_time": "2023-07-02T18:17:51.267Z"
   },
   {
    "duration": 21,
    "start_time": "2023-07-02T18:17:51.295Z"
   },
   {
    "duration": 16,
    "start_time": "2023-07-02T18:17:51.318Z"
   },
   {
    "duration": 13,
    "start_time": "2023-07-02T18:17:51.336Z"
   },
   {
    "duration": 38,
    "start_time": "2023-07-02T18:17:51.365Z"
   },
   {
    "duration": 213,
    "start_time": "2023-07-02T18:17:51.406Z"
   },
   {
    "duration": 165,
    "start_time": "2023-07-02T18:17:51.621Z"
   },
   {
    "duration": 8,
    "start_time": "2023-07-02T18:17:51.788Z"
   },
   {
    "duration": 21,
    "start_time": "2023-07-02T18:17:51.798Z"
   },
   {
    "duration": 344,
    "start_time": "2023-07-02T18:17:51.821Z"
   },
   {
    "duration": 237,
    "start_time": "2023-07-02T18:17:52.167Z"
   },
   {
    "duration": 392,
    "start_time": "2023-07-02T18:17:52.406Z"
   },
   {
    "duration": 268,
    "start_time": "2023-07-02T18:17:52.799Z"
   },
   {
    "duration": 320,
    "start_time": "2023-07-02T18:17:53.068Z"
   },
   {
    "duration": 195,
    "start_time": "2023-07-02T18:17:53.390Z"
   },
   {
    "duration": 197,
    "start_time": "2023-07-02T18:17:53.587Z"
   },
   {
    "duration": 5,
    "start_time": "2023-07-02T18:17:53.787Z"
   },
   {
    "duration": 276,
    "start_time": "2023-07-02T18:17:53.793Z"
   },
   {
    "duration": 158,
    "start_time": "2023-07-02T18:17:54.083Z"
   },
   {
    "duration": 192,
    "start_time": "2023-07-02T18:17:54.243Z"
   },
   {
    "duration": 4,
    "start_time": "2023-07-02T18:17:54.438Z"
   },
   {
    "duration": 356,
    "start_time": "2023-07-02T18:17:54.444Z"
   },
   {
    "duration": 0,
    "start_time": "2023-07-02T18:17:54.801Z"
   },
   {
    "duration": 0,
    "start_time": "2023-07-02T18:17:54.802Z"
   },
   {
    "duration": 0,
    "start_time": "2023-07-02T18:17:54.804Z"
   },
   {
    "duration": 0,
    "start_time": "2023-07-02T18:17:54.805Z"
   },
   {
    "duration": 0,
    "start_time": "2023-07-02T18:17:54.806Z"
   },
   {
    "duration": 0,
    "start_time": "2023-07-02T18:17:54.807Z"
   },
   {
    "duration": 0,
    "start_time": "2023-07-02T18:17:54.809Z"
   },
   {
    "duration": 0,
    "start_time": "2023-07-02T18:17:54.810Z"
   },
   {
    "duration": 20,
    "start_time": "2023-07-02T18:18:51.278Z"
   },
   {
    "duration": 12,
    "start_time": "2023-07-02T18:19:45.587Z"
   },
   {
    "duration": 12,
    "start_time": "2023-07-02T18:19:53.538Z"
   },
   {
    "duration": 12,
    "start_time": "2023-07-02T18:20:08.018Z"
   },
   {
    "duration": 147,
    "start_time": "2023-07-02T18:36:30.235Z"
   },
   {
    "duration": 103,
    "start_time": "2023-07-02T18:47:32.607Z"
   },
   {
    "duration": 290,
    "start_time": "2023-07-02T18:56:07.178Z"
   },
   {
    "duration": 322,
    "start_time": "2023-07-02T18:56:23.871Z"
   },
   {
    "duration": 1549,
    "start_time": "2023-07-02T20:19:24.886Z"
   },
   {
    "duration": 257,
    "start_time": "2023-07-02T20:19:26.437Z"
   },
   {
    "duration": 20,
    "start_time": "2023-07-02T20:19:26.696Z"
   },
   {
    "duration": 14,
    "start_time": "2023-07-02T20:19:26.718Z"
   },
   {
    "duration": 19,
    "start_time": "2023-07-02T20:19:26.734Z"
   },
   {
    "duration": 6,
    "start_time": "2023-07-02T20:19:26.754Z"
   },
   {
    "duration": 15,
    "start_time": "2023-07-02T20:19:26.761Z"
   },
   {
    "duration": 7,
    "start_time": "2023-07-02T20:19:26.778Z"
   },
   {
    "duration": 7,
    "start_time": "2023-07-02T20:19:26.787Z"
   },
   {
    "duration": 14,
    "start_time": "2023-07-02T20:19:26.795Z"
   },
   {
    "duration": 14,
    "start_time": "2023-07-02T20:19:26.810Z"
   },
   {
    "duration": 15,
    "start_time": "2023-07-02T20:19:26.825Z"
   },
   {
    "duration": 9,
    "start_time": "2023-07-02T20:19:26.842Z"
   },
   {
    "duration": 9,
    "start_time": "2023-07-02T20:19:26.853Z"
   },
   {
    "duration": 339,
    "start_time": "2023-07-02T20:19:26.863Z"
   },
   {
    "duration": 153,
    "start_time": "2023-07-02T20:19:27.204Z"
   },
   {
    "duration": 7,
    "start_time": "2023-07-02T20:19:27.359Z"
   },
   {
    "duration": 34,
    "start_time": "2023-07-02T20:19:27.367Z"
   },
   {
    "duration": 339,
    "start_time": "2023-07-02T20:19:27.407Z"
   },
   {
    "duration": 370,
    "start_time": "2023-07-02T20:19:27.747Z"
   },
   {
    "duration": 410,
    "start_time": "2023-07-02T20:19:28.119Z"
   },
   {
    "duration": 233,
    "start_time": "2023-07-02T20:19:28.531Z"
   },
   {
    "duration": 339,
    "start_time": "2023-07-02T20:19:28.766Z"
   },
   {
    "duration": 163,
    "start_time": "2023-07-02T20:19:29.107Z"
   },
   {
    "duration": 156,
    "start_time": "2023-07-02T20:19:29.273Z"
   },
   {
    "duration": 4,
    "start_time": "2023-07-02T20:19:29.430Z"
   },
   {
    "duration": 273,
    "start_time": "2023-07-02T20:19:29.436Z"
   },
   {
    "duration": 162,
    "start_time": "2023-07-02T20:19:29.713Z"
   },
   {
    "duration": 167,
    "start_time": "2023-07-02T20:19:29.877Z"
   },
   {
    "duration": 4,
    "start_time": "2023-07-02T20:19:30.046Z"
   },
   {
    "duration": 286,
    "start_time": "2023-07-02T20:19:30.051Z"
   },
   {
    "duration": 191,
    "start_time": "2023-07-02T20:19:30.338Z"
   },
   {
    "duration": 10,
    "start_time": "2023-07-02T20:19:30.532Z"
   },
   {
    "duration": 79,
    "start_time": "2023-07-02T20:19:30.544Z"
   },
   {
    "duration": 13,
    "start_time": "2023-07-02T20:19:30.625Z"
   },
   {
    "duration": 28,
    "start_time": "2023-07-02T20:19:30.639Z"
   },
   {
    "duration": 27,
    "start_time": "2023-07-02T20:19:30.678Z"
   },
   {
    "duration": 58,
    "start_time": "2023-07-02T20:19:30.706Z"
   },
   {
    "duration": 22,
    "start_time": "2023-07-02T20:19:30.766Z"
   },
   {
    "duration": 77,
    "start_time": "2023-09-23T09:11:44.181Z"
   },
   {
    "duration": 1582,
    "start_time": "2023-09-23T09:11:55.535Z"
   },
   {
    "duration": 203,
    "start_time": "2023-09-23T09:11:57.120Z"
   },
   {
    "duration": 28,
    "start_time": "2023-09-23T09:11:57.326Z"
   },
   {
    "duration": 18,
    "start_time": "2023-09-23T09:11:57.359Z"
   },
   {
    "duration": 14,
    "start_time": "2023-09-23T09:11:57.380Z"
   },
   {
    "duration": 18,
    "start_time": "2023-09-23T09:11:57.396Z"
   },
   {
    "duration": 47,
    "start_time": "2023-09-23T09:11:57.416Z"
   },
   {
    "duration": 16,
    "start_time": "2023-09-23T09:11:57.468Z"
   },
   {
    "duration": 76,
    "start_time": "2023-09-23T09:11:57.486Z"
   },
   {
    "duration": 41,
    "start_time": "2023-09-23T09:11:57.566Z"
   },
   {
    "duration": 74,
    "start_time": "2023-09-23T09:11:57.609Z"
   },
   {
    "duration": 77,
    "start_time": "2023-09-23T09:11:57.685Z"
   },
   {
    "duration": 46,
    "start_time": "2023-09-23T09:11:57.768Z"
   },
   {
    "duration": 54,
    "start_time": "2023-09-23T09:11:57.816Z"
   },
   {
    "duration": 228,
    "start_time": "2023-09-23T09:11:57.872Z"
   },
   {
    "duration": 172,
    "start_time": "2023-09-23T09:11:58.103Z"
   },
   {
    "duration": 7,
    "start_time": "2023-09-23T09:11:58.277Z"
   },
   {
    "duration": 51,
    "start_time": "2023-09-23T09:11:58.286Z"
   },
   {
    "duration": 375,
    "start_time": "2023-09-23T09:11:58.339Z"
   },
   {
    "duration": 251,
    "start_time": "2023-09-23T09:11:58.716Z"
   },
   {
    "duration": 383,
    "start_time": "2023-09-23T09:11:58.969Z"
   },
   {
    "duration": 237,
    "start_time": "2023-09-23T09:11:59.354Z"
   },
   {
    "duration": 320,
    "start_time": "2023-09-23T09:11:59.592Z"
   },
   {
    "duration": 203,
    "start_time": "2023-09-23T09:11:59.915Z"
   },
   {
    "duration": 162,
    "start_time": "2023-09-23T09:12:00.120Z"
   },
   {
    "duration": 5,
    "start_time": "2023-09-23T09:12:00.284Z"
   },
   {
    "duration": 360,
    "start_time": "2023-09-23T09:12:00.291Z"
   },
   {
    "duration": 170,
    "start_time": "2023-09-23T09:12:00.655Z"
   },
   {
    "duration": 176,
    "start_time": "2023-09-23T09:12:00.828Z"
   },
   {
    "duration": 5,
    "start_time": "2023-09-23T09:12:01.006Z"
   },
   {
    "duration": 413,
    "start_time": "2023-09-23T09:12:01.013Z"
   },
   {
    "duration": 172,
    "start_time": "2023-09-23T09:12:01.429Z"
   },
   {
    "duration": 8,
    "start_time": "2023-09-23T09:12:01.603Z"
   },
   {
    "duration": 269,
    "start_time": "2023-09-23T09:12:01.613Z"
   },
   {
    "duration": 151,
    "start_time": "2023-09-23T09:12:01.884Z"
   },
   {
    "duration": 100,
    "start_time": "2023-09-23T09:12:02.037Z"
   },
   {
    "duration": 74,
    "start_time": "2023-09-23T09:12:02.139Z"
   },
   {
    "duration": 143,
    "start_time": "2023-09-23T09:12:02.215Z"
   },
   {
    "duration": 135,
    "start_time": "2023-09-23T09:12:02.360Z"
   },
   {
    "duration": 32,
    "start_time": "2023-09-23T09:13:11.245Z"
   }
  ],
  "kernelspec": {
   "display_name": "Python 3 (ipykernel)",
   "language": "python",
   "name": "python3"
  },
  "language_info": {
   "codemirror_mode": {
    "name": "ipython",
    "version": 3
   },
   "file_extension": ".py",
   "mimetype": "text/x-python",
   "name": "python",
   "nbconvert_exporter": "python",
   "pygments_lexer": "ipython3",
   "version": "3.11.4"
  },
  "toc": {
   "base_numbering": 1,
   "nav_menu": {},
   "number_sections": true,
   "sideBar": true,
   "skip_h1_title": true,
   "title_cell": "Table of Contents",
   "title_sidebar": "Contents",
   "toc_cell": false,
   "toc_position": {},
   "toc_section_display": true,
   "toc_window_display": false
  }
 },
 "nbformat": 4,
 "nbformat_minor": 2
}
