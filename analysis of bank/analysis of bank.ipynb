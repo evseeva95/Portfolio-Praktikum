{
 "cells": [
  {
   "cell_type": "markdown",
   "id": "386f2ae7",
   "metadata": {
    "deletable": false,
    "editable": false,
    "id": "386f2ae7"
   },
   "source": [
    "# Исследование надежности заемщиков\n"
   ]
  },
  {
   "cell_type": "markdown",
   "id": "ffe86f65",
   "metadata": {
    "deletable": false,
    "editable": false,
    "id": "ffe86f65"
   },
   "source": [
    "Во второй части проекта вы выполните шаги 3 и 4. Их вручную проверит ревьюер.\n",
    "Чтобы вам не пришлось писать код заново для шагов 1 и 2, мы добавили авторские решения в ячейки с кодом. \n",
    "\n"
   ]
  },
  {
   "cell_type": "markdown",
   "id": "26613308",
   "metadata": {
    "deletable": false,
    "editable": false,
    "id": "26613308"
   },
   "source": [
    "## Откройте таблицу и изучите общую информацию о данных"
   ]
  },
  {
   "cell_type": "markdown",
   "id": "3c9f838e",
   "metadata": {
    "deletable": false,
    "editable": false,
    "id": "3c9f838e"
   },
   "source": [
    "**Задание 1. Импортируйте библиотеку pandas. Считайте данные из csv-файла в датафрейм и сохраните в переменную `data`. Путь к файлу:**\n",
    "\n",
    "`/datasets/data.csv`"
   ]
  },
  {
   "cell_type": "code",
   "execution_count": 1,
   "id": "77a68a90",
   "metadata": {
    "deletable": false,
    "id": "77a68a90"
   },
   "outputs": [],
   "source": [
    "import pandas as pd\n",
    "\n",
    "try:\n",
    "    data = pd.read_csv('/datasets/data.csv')\n",
    "except:\n",
    "    data = pd.read_csv('https://code.s3.yandex.net/datasets/data.csv')"
   ]
  },
  {
   "cell_type": "markdown",
   "id": "45365635",
   "metadata": {
    "deletable": false,
    "editable": false,
    "id": "45365635"
   },
   "source": [
    "**Задание 2. Выведите первые 20 строчек датафрейма `data` на экран.**"
   ]
  },
  {
   "cell_type": "code",
   "execution_count": 2,
   "id": "b0451a9a",
   "metadata": {
    "deletable": false,
    "id": "b0451a9a",
    "outputId": "1a8f3ef2-d323-4ec2-ddf7-89670b5944c4"
   },
   "outputs": [
    {
     "data": {
      "text/html": [
       "<div>\n",
       "<style scoped>\n",
       "    .dataframe tbody tr th:only-of-type {\n",
       "        vertical-align: middle;\n",
       "    }\n",
       "\n",
       "    .dataframe tbody tr th {\n",
       "        vertical-align: top;\n",
       "    }\n",
       "\n",
       "    .dataframe thead th {\n",
       "        text-align: right;\n",
       "    }\n",
       "</style>\n",
       "<table border=\"1\" class=\"dataframe\">\n",
       "  <thead>\n",
       "    <tr style=\"text-align: right;\">\n",
       "      <th></th>\n",
       "      <th>children</th>\n",
       "      <th>days_employed</th>\n",
       "      <th>dob_years</th>\n",
       "      <th>education</th>\n",
       "      <th>education_id</th>\n",
       "      <th>family_status</th>\n",
       "      <th>family_status_id</th>\n",
       "      <th>gender</th>\n",
       "      <th>income_type</th>\n",
       "      <th>debt</th>\n",
       "      <th>total_income</th>\n",
       "      <th>purpose</th>\n",
       "    </tr>\n",
       "  </thead>\n",
       "  <tbody>\n",
       "    <tr>\n",
       "      <th>0</th>\n",
       "      <td>1</td>\n",
       "      <td>-8437.673028</td>\n",
       "      <td>42</td>\n",
       "      <td>высшее</td>\n",
       "      <td>0</td>\n",
       "      <td>женат / замужем</td>\n",
       "      <td>0</td>\n",
       "      <td>F</td>\n",
       "      <td>сотрудник</td>\n",
       "      <td>0</td>\n",
       "      <td>253875.639453</td>\n",
       "      <td>покупка жилья</td>\n",
       "    </tr>\n",
       "    <tr>\n",
       "      <th>1</th>\n",
       "      <td>1</td>\n",
       "      <td>-4024.803754</td>\n",
       "      <td>36</td>\n",
       "      <td>среднее</td>\n",
       "      <td>1</td>\n",
       "      <td>женат / замужем</td>\n",
       "      <td>0</td>\n",
       "      <td>F</td>\n",
       "      <td>сотрудник</td>\n",
       "      <td>0</td>\n",
       "      <td>112080.014102</td>\n",
       "      <td>приобретение автомобиля</td>\n",
       "    </tr>\n",
       "    <tr>\n",
       "      <th>2</th>\n",
       "      <td>0</td>\n",
       "      <td>-5623.422610</td>\n",
       "      <td>33</td>\n",
       "      <td>Среднее</td>\n",
       "      <td>1</td>\n",
       "      <td>женат / замужем</td>\n",
       "      <td>0</td>\n",
       "      <td>M</td>\n",
       "      <td>сотрудник</td>\n",
       "      <td>0</td>\n",
       "      <td>145885.952297</td>\n",
       "      <td>покупка жилья</td>\n",
       "    </tr>\n",
       "    <tr>\n",
       "      <th>3</th>\n",
       "      <td>3</td>\n",
       "      <td>-4124.747207</td>\n",
       "      <td>32</td>\n",
       "      <td>среднее</td>\n",
       "      <td>1</td>\n",
       "      <td>женат / замужем</td>\n",
       "      <td>0</td>\n",
       "      <td>M</td>\n",
       "      <td>сотрудник</td>\n",
       "      <td>0</td>\n",
       "      <td>267628.550329</td>\n",
       "      <td>дополнительное образование</td>\n",
       "    </tr>\n",
       "    <tr>\n",
       "      <th>4</th>\n",
       "      <td>0</td>\n",
       "      <td>340266.072047</td>\n",
       "      <td>53</td>\n",
       "      <td>среднее</td>\n",
       "      <td>1</td>\n",
       "      <td>гражданский брак</td>\n",
       "      <td>1</td>\n",
       "      <td>F</td>\n",
       "      <td>пенсионер</td>\n",
       "      <td>0</td>\n",
       "      <td>158616.077870</td>\n",
       "      <td>сыграть свадьбу</td>\n",
       "    </tr>\n",
       "    <tr>\n",
       "      <th>5</th>\n",
       "      <td>0</td>\n",
       "      <td>-926.185831</td>\n",
       "      <td>27</td>\n",
       "      <td>высшее</td>\n",
       "      <td>0</td>\n",
       "      <td>гражданский брак</td>\n",
       "      <td>1</td>\n",
       "      <td>M</td>\n",
       "      <td>компаньон</td>\n",
       "      <td>0</td>\n",
       "      <td>255763.565419</td>\n",
       "      <td>покупка жилья</td>\n",
       "    </tr>\n",
       "    <tr>\n",
       "      <th>6</th>\n",
       "      <td>0</td>\n",
       "      <td>-2879.202052</td>\n",
       "      <td>43</td>\n",
       "      <td>высшее</td>\n",
       "      <td>0</td>\n",
       "      <td>женат / замужем</td>\n",
       "      <td>0</td>\n",
       "      <td>F</td>\n",
       "      <td>компаньон</td>\n",
       "      <td>0</td>\n",
       "      <td>240525.971920</td>\n",
       "      <td>операции с жильем</td>\n",
       "    </tr>\n",
       "    <tr>\n",
       "      <th>7</th>\n",
       "      <td>0</td>\n",
       "      <td>-152.779569</td>\n",
       "      <td>50</td>\n",
       "      <td>СРЕДНЕЕ</td>\n",
       "      <td>1</td>\n",
       "      <td>женат / замужем</td>\n",
       "      <td>0</td>\n",
       "      <td>M</td>\n",
       "      <td>сотрудник</td>\n",
       "      <td>0</td>\n",
       "      <td>135823.934197</td>\n",
       "      <td>образование</td>\n",
       "    </tr>\n",
       "    <tr>\n",
       "      <th>8</th>\n",
       "      <td>2</td>\n",
       "      <td>-6929.865299</td>\n",
       "      <td>35</td>\n",
       "      <td>ВЫСШЕЕ</td>\n",
       "      <td>0</td>\n",
       "      <td>гражданский брак</td>\n",
       "      <td>1</td>\n",
       "      <td>F</td>\n",
       "      <td>сотрудник</td>\n",
       "      <td>0</td>\n",
       "      <td>95856.832424</td>\n",
       "      <td>на проведение свадьбы</td>\n",
       "    </tr>\n",
       "    <tr>\n",
       "      <th>9</th>\n",
       "      <td>0</td>\n",
       "      <td>-2188.756445</td>\n",
       "      <td>41</td>\n",
       "      <td>среднее</td>\n",
       "      <td>1</td>\n",
       "      <td>женат / замужем</td>\n",
       "      <td>0</td>\n",
       "      <td>M</td>\n",
       "      <td>сотрудник</td>\n",
       "      <td>0</td>\n",
       "      <td>144425.938277</td>\n",
       "      <td>покупка жилья для семьи</td>\n",
       "    </tr>\n",
       "    <tr>\n",
       "      <th>10</th>\n",
       "      <td>2</td>\n",
       "      <td>-4171.483647</td>\n",
       "      <td>36</td>\n",
       "      <td>высшее</td>\n",
       "      <td>0</td>\n",
       "      <td>женат / замужем</td>\n",
       "      <td>0</td>\n",
       "      <td>M</td>\n",
       "      <td>компаньон</td>\n",
       "      <td>0</td>\n",
       "      <td>113943.491460</td>\n",
       "      <td>покупка недвижимости</td>\n",
       "    </tr>\n",
       "    <tr>\n",
       "      <th>11</th>\n",
       "      <td>0</td>\n",
       "      <td>-792.701887</td>\n",
       "      <td>40</td>\n",
       "      <td>среднее</td>\n",
       "      <td>1</td>\n",
       "      <td>женат / замужем</td>\n",
       "      <td>0</td>\n",
       "      <td>F</td>\n",
       "      <td>сотрудник</td>\n",
       "      <td>0</td>\n",
       "      <td>77069.234271</td>\n",
       "      <td>покупка коммерческой недвижимости</td>\n",
       "    </tr>\n",
       "    <tr>\n",
       "      <th>12</th>\n",
       "      <td>0</td>\n",
       "      <td>NaN</td>\n",
       "      <td>65</td>\n",
       "      <td>среднее</td>\n",
       "      <td>1</td>\n",
       "      <td>гражданский брак</td>\n",
       "      <td>1</td>\n",
       "      <td>M</td>\n",
       "      <td>пенсионер</td>\n",
       "      <td>0</td>\n",
       "      <td>NaN</td>\n",
       "      <td>сыграть свадьбу</td>\n",
       "    </tr>\n",
       "    <tr>\n",
       "      <th>13</th>\n",
       "      <td>0</td>\n",
       "      <td>-1846.641941</td>\n",
       "      <td>54</td>\n",
       "      <td>неоконченное высшее</td>\n",
       "      <td>2</td>\n",
       "      <td>женат / замужем</td>\n",
       "      <td>0</td>\n",
       "      <td>F</td>\n",
       "      <td>сотрудник</td>\n",
       "      <td>0</td>\n",
       "      <td>130458.228857</td>\n",
       "      <td>приобретение автомобиля</td>\n",
       "    </tr>\n",
       "    <tr>\n",
       "      <th>14</th>\n",
       "      <td>0</td>\n",
       "      <td>-1844.956182</td>\n",
       "      <td>56</td>\n",
       "      <td>высшее</td>\n",
       "      <td>0</td>\n",
       "      <td>гражданский брак</td>\n",
       "      <td>1</td>\n",
       "      <td>F</td>\n",
       "      <td>компаньон</td>\n",
       "      <td>1</td>\n",
       "      <td>165127.911772</td>\n",
       "      <td>покупка жилой недвижимости</td>\n",
       "    </tr>\n",
       "    <tr>\n",
       "      <th>15</th>\n",
       "      <td>1</td>\n",
       "      <td>-972.364419</td>\n",
       "      <td>26</td>\n",
       "      <td>среднее</td>\n",
       "      <td>1</td>\n",
       "      <td>женат / замужем</td>\n",
       "      <td>0</td>\n",
       "      <td>F</td>\n",
       "      <td>сотрудник</td>\n",
       "      <td>0</td>\n",
       "      <td>116820.904450</td>\n",
       "      <td>строительство собственной недвижимости</td>\n",
       "    </tr>\n",
       "    <tr>\n",
       "      <th>16</th>\n",
       "      <td>0</td>\n",
       "      <td>-1719.934226</td>\n",
       "      <td>35</td>\n",
       "      <td>среднее</td>\n",
       "      <td>1</td>\n",
       "      <td>женат / замужем</td>\n",
       "      <td>0</td>\n",
       "      <td>F</td>\n",
       "      <td>сотрудник</td>\n",
       "      <td>0</td>\n",
       "      <td>289202.704229</td>\n",
       "      <td>недвижимость</td>\n",
       "    </tr>\n",
       "    <tr>\n",
       "      <th>17</th>\n",
       "      <td>0</td>\n",
       "      <td>-2369.999720</td>\n",
       "      <td>33</td>\n",
       "      <td>высшее</td>\n",
       "      <td>0</td>\n",
       "      <td>гражданский брак</td>\n",
       "      <td>1</td>\n",
       "      <td>M</td>\n",
       "      <td>сотрудник</td>\n",
       "      <td>0</td>\n",
       "      <td>90410.586745</td>\n",
       "      <td>строительство недвижимости</td>\n",
       "    </tr>\n",
       "    <tr>\n",
       "      <th>18</th>\n",
       "      <td>0</td>\n",
       "      <td>400281.136913</td>\n",
       "      <td>53</td>\n",
       "      <td>среднее</td>\n",
       "      <td>1</td>\n",
       "      <td>вдовец / вдова</td>\n",
       "      <td>2</td>\n",
       "      <td>F</td>\n",
       "      <td>пенсионер</td>\n",
       "      <td>0</td>\n",
       "      <td>56823.777243</td>\n",
       "      <td>на покупку подержанного автомобиля</td>\n",
       "    </tr>\n",
       "    <tr>\n",
       "      <th>19</th>\n",
       "      <td>0</td>\n",
       "      <td>-10038.818549</td>\n",
       "      <td>48</td>\n",
       "      <td>СРЕДНЕЕ</td>\n",
       "      <td>1</td>\n",
       "      <td>в разводе</td>\n",
       "      <td>3</td>\n",
       "      <td>F</td>\n",
       "      <td>сотрудник</td>\n",
       "      <td>0</td>\n",
       "      <td>242831.107982</td>\n",
       "      <td>на покупку своего автомобиля</td>\n",
       "    </tr>\n",
       "  </tbody>\n",
       "</table>\n",
       "</div>"
      ],
      "text/plain": [
       "    children  days_employed  dob_years            education  education_id  \\\n",
       "0          1   -8437.673028         42               высшее             0   \n",
       "1          1   -4024.803754         36              среднее             1   \n",
       "2          0   -5623.422610         33              Среднее             1   \n",
       "3          3   -4124.747207         32              среднее             1   \n",
       "4          0  340266.072047         53              среднее             1   \n",
       "5          0    -926.185831         27               высшее             0   \n",
       "6          0   -2879.202052         43               высшее             0   \n",
       "7          0    -152.779569         50              СРЕДНЕЕ             1   \n",
       "8          2   -6929.865299         35               ВЫСШЕЕ             0   \n",
       "9          0   -2188.756445         41              среднее             1   \n",
       "10         2   -4171.483647         36               высшее             0   \n",
       "11         0    -792.701887         40              среднее             1   \n",
       "12         0            NaN         65              среднее             1   \n",
       "13         0   -1846.641941         54  неоконченное высшее             2   \n",
       "14         0   -1844.956182         56               высшее             0   \n",
       "15         1    -972.364419         26              среднее             1   \n",
       "16         0   -1719.934226         35              среднее             1   \n",
       "17         0   -2369.999720         33               высшее             0   \n",
       "18         0  400281.136913         53              среднее             1   \n",
       "19         0  -10038.818549         48              СРЕДНЕЕ             1   \n",
       "\n",
       "       family_status  family_status_id gender income_type  debt  \\\n",
       "0    женат / замужем                 0      F   сотрудник     0   \n",
       "1    женат / замужем                 0      F   сотрудник     0   \n",
       "2    женат / замужем                 0      M   сотрудник     0   \n",
       "3    женат / замужем                 0      M   сотрудник     0   \n",
       "4   гражданский брак                 1      F   пенсионер     0   \n",
       "5   гражданский брак                 1      M   компаньон     0   \n",
       "6    женат / замужем                 0      F   компаньон     0   \n",
       "7    женат / замужем                 0      M   сотрудник     0   \n",
       "8   гражданский брак                 1      F   сотрудник     0   \n",
       "9    женат / замужем                 0      M   сотрудник     0   \n",
       "10   женат / замужем                 0      M   компаньон     0   \n",
       "11   женат / замужем                 0      F   сотрудник     0   \n",
       "12  гражданский брак                 1      M   пенсионер     0   \n",
       "13   женат / замужем                 0      F   сотрудник     0   \n",
       "14  гражданский брак                 1      F   компаньон     1   \n",
       "15   женат / замужем                 0      F   сотрудник     0   \n",
       "16   женат / замужем                 0      F   сотрудник     0   \n",
       "17  гражданский брак                 1      M   сотрудник     0   \n",
       "18    вдовец / вдова                 2      F   пенсионер     0   \n",
       "19         в разводе                 3      F   сотрудник     0   \n",
       "\n",
       "     total_income                                 purpose  \n",
       "0   253875.639453                           покупка жилья  \n",
       "1   112080.014102                 приобретение автомобиля  \n",
       "2   145885.952297                           покупка жилья  \n",
       "3   267628.550329              дополнительное образование  \n",
       "4   158616.077870                         сыграть свадьбу  \n",
       "5   255763.565419                           покупка жилья  \n",
       "6   240525.971920                       операции с жильем  \n",
       "7   135823.934197                             образование  \n",
       "8    95856.832424                   на проведение свадьбы  \n",
       "9   144425.938277                 покупка жилья для семьи  \n",
       "10  113943.491460                    покупка недвижимости  \n",
       "11   77069.234271       покупка коммерческой недвижимости  \n",
       "12            NaN                         сыграть свадьбу  \n",
       "13  130458.228857                 приобретение автомобиля  \n",
       "14  165127.911772              покупка жилой недвижимости  \n",
       "15  116820.904450  строительство собственной недвижимости  \n",
       "16  289202.704229                            недвижимость  \n",
       "17   90410.586745              строительство недвижимости  \n",
       "18   56823.777243      на покупку подержанного автомобиля  \n",
       "19  242831.107982            на покупку своего автомобиля  "
      ]
     },
     "execution_count": 2,
     "metadata": {},
     "output_type": "execute_result"
    }
   ],
   "source": [
    "data.head(20)"
   ]
  },
  {
   "cell_type": "markdown",
   "id": "0ed8f27f",
   "metadata": {
    "deletable": false,
    "editable": false,
    "id": "0ed8f27f"
   },
   "source": [
    "**Задание 3. Выведите основную информацию о датафрейме с помощью метода `info()`.**"
   ]
  },
  {
   "cell_type": "code",
   "execution_count": 3,
   "id": "ab3f863b",
   "metadata": {
    "deletable": false,
    "id": "ab3f863b",
    "outputId": "15376089-8dad-46c9-b520-c05248d43158"
   },
   "outputs": [
    {
     "name": "stdout",
     "output_type": "stream",
     "text": [
      "<class 'pandas.core.frame.DataFrame'>\n",
      "RangeIndex: 21525 entries, 0 to 21524\n",
      "Data columns (total 12 columns):\n",
      " #   Column            Non-Null Count  Dtype  \n",
      "---  ------            --------------  -----  \n",
      " 0   children          21525 non-null  int64  \n",
      " 1   days_employed     19351 non-null  float64\n",
      " 2   dob_years         21525 non-null  int64  \n",
      " 3   education         21525 non-null  object \n",
      " 4   education_id      21525 non-null  int64  \n",
      " 5   family_status     21525 non-null  object \n",
      " 6   family_status_id  21525 non-null  int64  \n",
      " 7   gender            21525 non-null  object \n",
      " 8   income_type       21525 non-null  object \n",
      " 9   debt              21525 non-null  int64  \n",
      " 10  total_income      19351 non-null  float64\n",
      " 11  purpose           21525 non-null  object \n",
      "dtypes: float64(2), int64(5), object(5)\n",
      "memory usage: 2.0+ MB\n"
     ]
    }
   ],
   "source": [
    "data.info()"
   ]
  },
  {
   "cell_type": "markdown",
   "id": "60e3e22d",
   "metadata": {
    "deletable": false,
    "editable": false,
    "id": "60e3e22d"
   },
   "source": [
    "## Предобработка данных"
   ]
  },
  {
   "cell_type": "markdown",
   "id": "03dc170c",
   "metadata": {
    "deletable": false,
    "editable": false,
    "id": "03dc170c"
   },
   "source": [
    "### Удаление пропусков"
   ]
  },
  {
   "cell_type": "markdown",
   "id": "a4f54eef",
   "metadata": {
    "deletable": false,
    "editable": false,
    "id": "a4f54eef"
   },
   "source": [
    "**Задание 4. Выведите количество пропущенных значений для каждого столбца. Используйте комбинацию двух методов.**"
   ]
  },
  {
   "cell_type": "code",
   "execution_count": 4,
   "id": "2dc372b2",
   "metadata": {
    "deletable": false,
    "id": "2dc372b2",
    "outputId": "81f4d817-781c-465c-ed15-91ce4446810d"
   },
   "outputs": [
    {
     "data": {
      "text/plain": [
       "children               0\n",
       "days_employed       2174\n",
       "dob_years              0\n",
       "education              0\n",
       "education_id           0\n",
       "family_status          0\n",
       "family_status_id       0\n",
       "gender                 0\n",
       "income_type            0\n",
       "debt                   0\n",
       "total_income        2174\n",
       "purpose                0\n",
       "dtype: int64"
      ]
     },
     "execution_count": 4,
     "metadata": {},
     "output_type": "execute_result"
    }
   ],
   "source": [
    "data.isna().sum()"
   ]
  },
  {
   "cell_type": "markdown",
   "id": "14f011b1",
   "metadata": {
    "deletable": false,
    "editable": false,
    "id": "14f011b1"
   },
   "source": [
    "**Задание 5. В двух столбцах есть пропущенные значения. Один из них — `days_employed`. Пропуски в этом столбце вы обработаете на следующем этапе. Другой столбец с пропущенными значениями — `total_income` — хранит данные о доходах. На сумму дохода сильнее всего влияет тип занятости, поэтому заполнить пропуски в этом столбце нужно медианным значением по каждому типу из столбца `income_type`. Например, у человека с типом занятости `сотрудник` пропуск в столбце `total_income` должен быть заполнен медианным доходом среди всех записей с тем же типом.**"
   ]
  },
  {
   "cell_type": "code",
   "execution_count": 5,
   "id": "bdabfb6e",
   "metadata": {
    "deletable": false,
    "id": "bdabfb6e"
   },
   "outputs": [],
   "source": [
    "for t in data['income_type'].unique():\n",
    "    data.loc[(data['income_type'] == t) & (data['total_income'].isna()), 'total_income'] = \\\n",
    "    data.loc[(data['income_type'] == t), 'total_income'].median()"
   ]
  },
  {
   "cell_type": "markdown",
   "id": "5be34059",
   "metadata": {
    "deletable": false,
    "editable": false,
    "id": "5be34059"
   },
   "source": [
    "### Обработка аномальных значений"
   ]
  },
  {
   "cell_type": "markdown",
   "id": "a87606cb",
   "metadata": {
    "deletable": false,
    "editable": false,
    "id": "a87606cb"
   },
   "source": [
    "**Задание 6. В данных могут встречаться артефакты (аномалии) — значения, которые не отражают действительность и появились по какой-то ошибке. таким артефактом будет отрицательное количество дней трудового стажа в столбце `days_employed`. Для реальных данных это нормально. Обработайте значения в этом столбце: замените все отрицательные значения положительными с помощью метода `abs()`.**"
   ]
  },
  {
   "cell_type": "code",
   "execution_count": 6,
   "id": "020c46cc",
   "metadata": {
    "deletable": false,
    "id": "020c46cc"
   },
   "outputs": [],
   "source": [
    "data['days_employed'] = data['days_employed'].abs()"
   ]
  },
  {
   "cell_type": "markdown",
   "id": "45538a3a",
   "metadata": {
    "deletable": false,
    "editable": false,
    "id": "45538a3a"
   },
   "source": [
    "**Задание 7. Для каждого типа занятости выведите медианное значение трудового стажа `days_employed` в днях.**"
   ]
  },
  {
   "cell_type": "code",
   "execution_count": 7,
   "id": "cd3e6328",
   "metadata": {
    "deletable": false,
    "id": "cd3e6328",
    "outputId": "801ef80e-522b-4668-f34e-565af7432bcf"
   },
   "outputs": [
    {
     "data": {
      "text/plain": [
       "income_type\n",
       "безработный        366413.652744\n",
       "в декрете            3296.759962\n",
       "госслужащий          2689.368353\n",
       "компаньон            1547.382223\n",
       "пенсионер          365213.306266\n",
       "предприниматель       520.848083\n",
       "сотрудник            1574.202821\n",
       "студент               578.751554\n",
       "Name: days_employed, dtype: float64"
      ]
     },
     "execution_count": 7,
     "metadata": {},
     "output_type": "execute_result"
    }
   ],
   "source": [
    "data.groupby('income_type')['days_employed'].agg('median')"
   ]
  },
  {
   "cell_type": "markdown",
   "id": "90c5f058",
   "metadata": {
    "deletable": false,
    "editable": false,
    "id": "90c5f058"
   },
   "source": [
    "У двух типов (безработные и пенсионеры) получатся аномально большие значения. Исправить такие значения сложно, поэтому оставьте их как есть."
   ]
  },
  {
   "cell_type": "markdown",
   "id": "9652e50d",
   "metadata": {
    "deletable": false,
    "editable": false,
    "id": "9652e50d"
   },
   "source": [
    "**Задание 8. Выведите перечень уникальных значений столбца `children`.**"
   ]
  },
  {
   "cell_type": "code",
   "execution_count": 8,
   "id": "dbb37b8e",
   "metadata": {
    "deletable": false,
    "id": "dbb37b8e",
    "outputId": "6975b15c-7f95-4697-d16d-a0c79b657b03"
   },
   "outputs": [
    {
     "data": {
      "text/plain": [
       "array([ 1,  0,  3,  2, -1,  4, 20,  5])"
      ]
     },
     "execution_count": 8,
     "metadata": {},
     "output_type": "execute_result"
    }
   ],
   "source": [
    "data['children'].unique()"
   ]
  },
  {
   "cell_type": "markdown",
   "id": "2b8b0715",
   "metadata": {
    "deletable": false,
    "editable": false,
    "id": "2b8b0715"
   },
   "source": [
    "**Задание 9. В столбце `children` есть два аномальных значения. Удалите строки, в которых встречаются такие аномальные значения из датафрейма `data`.**"
   ]
  },
  {
   "cell_type": "code",
   "execution_count": 9,
   "id": "20009df8",
   "metadata": {
    "deletable": false,
    "id": "20009df8"
   },
   "outputs": [],
   "source": [
    "data = data[(data['children'] != -1) & (data['children'] != 20)]"
   ]
  },
  {
   "cell_type": "markdown",
   "id": "8c6ac9f1",
   "metadata": {
    "deletable": false,
    "editable": false,
    "id": "8c6ac9f1"
   },
   "source": [
    "**Задание 10. Ещё раз выведите перечень уникальных значений столбца `children`, чтобы убедиться, что артефакты удалены.**"
   ]
  },
  {
   "cell_type": "code",
   "execution_count": 10,
   "id": "07337b81",
   "metadata": {
    "deletable": false,
    "id": "07337b81",
    "outputId": "b2097101-d49d-44d9-901b-32a65c9463d1"
   },
   "outputs": [
    {
     "data": {
      "text/plain": [
       "array([1, 0, 3, 2, 4, 5])"
      ]
     },
     "execution_count": 10,
     "metadata": {},
     "output_type": "execute_result"
    }
   ],
   "source": [
    "data['children'].unique()"
   ]
  },
  {
   "cell_type": "markdown",
   "id": "ee3f52d4",
   "metadata": {
    "deletable": false,
    "editable": false,
    "id": "ee3f52d4"
   },
   "source": [
    "### Удаление пропусков (продолжение)"
   ]
  },
  {
   "cell_type": "markdown",
   "id": "a700b0e4",
   "metadata": {
    "deletable": false,
    "editable": false,
    "id": "a700b0e4"
   },
   "source": [
    "**Задание 11. Заполните пропуски в столбце `days_employed` медианными значениями по каждого типа занятости `income_type`.**"
   ]
  },
  {
   "cell_type": "code",
   "execution_count": 11,
   "id": "61946b83",
   "metadata": {
    "deletable": false,
    "id": "61946b83"
   },
   "outputs": [],
   "source": [
    "for t in data['income_type'].unique():\n",
    "    data.loc[(data['income_type'] == t) & (data['days_employed'].isna()), 'days_employed'] = \\\n",
    "    data.loc[(data['income_type'] == t), 'days_employed'].median()"
   ]
  },
  {
   "cell_type": "markdown",
   "id": "550dcd9b",
   "metadata": {
    "deletable": false,
    "editable": false,
    "id": "550dcd9b"
   },
   "source": [
    "**Задание 12. Убедитесь, что все пропуски заполнены. Проверьте себя и ещё раз выведите количество пропущенных значений для каждого столбца с помощью двух методов.**"
   ]
  },
  {
   "cell_type": "code",
   "execution_count": 12,
   "id": "937c7014",
   "metadata": {
    "deletable": false,
    "id": "937c7014",
    "outputId": "8da1e4e1-358e-4e87-98c9-f261bce0a7b2"
   },
   "outputs": [
    {
     "data": {
      "text/plain": [
       "children            0\n",
       "days_employed       0\n",
       "dob_years           0\n",
       "education           0\n",
       "education_id        0\n",
       "family_status       0\n",
       "family_status_id    0\n",
       "gender              0\n",
       "income_type         0\n",
       "debt                0\n",
       "total_income        0\n",
       "purpose             0\n",
       "dtype: int64"
      ]
     },
     "execution_count": 12,
     "metadata": {},
     "output_type": "execute_result"
    }
   ],
   "source": [
    "data.isna().sum()"
   ]
  },
  {
   "cell_type": "markdown",
   "id": "d522e295",
   "metadata": {
    "deletable": false,
    "editable": false,
    "id": "d522e295"
   },
   "source": [
    "### Изменение типов данных"
   ]
  },
  {
   "cell_type": "markdown",
   "id": "c229c581",
   "metadata": {
    "deletable": false,
    "editable": false,
    "id": "c229c581"
   },
   "source": [
    "**Задание 13. Замените вещественный тип данных в столбце `total_income` на целочисленный с помощью метода `astype()`.**"
   ]
  },
  {
   "cell_type": "code",
   "execution_count": 13,
   "id": "31036462",
   "metadata": {
    "deletable": false,
    "id": "31036462"
   },
   "outputs": [],
   "source": [
    "data['total_income'] = data['total_income'].astype(int)"
   ]
  },
  {
   "cell_type": "markdown",
   "id": "b8e3d1d9",
   "metadata": {
    "deletable": false,
    "editable": false,
    "id": "b8e3d1d9"
   },
   "source": [
    "### Обработка дубликатов"
   ]
  },
  {
   "cell_type": "markdown",
   "id": "9be53c49",
   "metadata": {
    "deletable": false,
    "editable": false,
    "id": "9be53c49"
   },
   "source": [
    "**Задание 14. Обработайте неявные дубликаты в столбце `education`. В этом столбце есть одни и те же значения, но записанные по-разному: с использованием заглавных и строчных букв. Приведите их к нижнему регистру.**"
   ]
  },
  {
   "cell_type": "code",
   "execution_count": 14,
   "id": "d89e73e1",
   "metadata": {
    "deletable": false,
    "id": "d89e73e1"
   },
   "outputs": [],
   "source": [
    "data['education'] = data['education'].str.lower()"
   ]
  },
  {
   "cell_type": "markdown",
   "id": "01d4500e",
   "metadata": {
    "deletable": false,
    "editable": false,
    "id": "01d4500e"
   },
   "source": [
    "**Задание 15. Выведите на экран количество строк-дубликатов в данных. Если такие строки присутствуют, удалите их.**"
   ]
  },
  {
   "cell_type": "code",
   "execution_count": 15,
   "id": "e10efb23",
   "metadata": {
    "deletable": false,
    "id": "e10efb23",
    "outputId": "9684deba-1934-42d1-99e1-cda61740f822"
   },
   "outputs": [
    {
     "data": {
      "text/plain": [
       "71"
      ]
     },
     "execution_count": 15,
     "metadata": {},
     "output_type": "execute_result"
    }
   ],
   "source": [
    "data.duplicated().sum()"
   ]
  },
  {
   "cell_type": "code",
   "execution_count": 16,
   "id": "df853f20",
   "metadata": {
    "deletable": false,
    "id": "df853f20"
   },
   "outputs": [],
   "source": [
    "data = data.drop_duplicates()"
   ]
  },
  {
   "cell_type": "markdown",
   "id": "627be38f",
   "metadata": {
    "deletable": false,
    "editable": false,
    "id": "627be38f"
   },
   "source": [
    "### Категоризация данных"
   ]
  },
  {
   "cell_type": "markdown",
   "id": "4684c3e0",
   "metadata": {
    "deletable": false,
    "editable": false,
    "id": "4684c3e0"
   },
   "source": [
    "**Задание 16. На основании диапазонов, указанных ниже, создайте в датафрейме `data` столбец `total_income_category` с категориями:**\n",
    "\n",
    "- 0–30000 — `'E'`;\n",
    "- 30001–50000 — `'D'`;\n",
    "- 50001–200000 — `'C'`;\n",
    "- 200001–1000000 — `'B'`;\n",
    "- 1000001 и выше — `'A'`.\n",
    "\n",
    "\n",
    "**Например, кредитополучателю с доходом 25000 нужно назначить категорию `'E'`, а клиенту, получающему 235000, — `'B'`. Используйте собственную функцию с именем `categorize_income()` и метод `apply()`.**"
   ]
  },
  {
   "cell_type": "code",
   "execution_count": 17,
   "id": "78965238",
   "metadata": {
    "deletable": false,
    "id": "78965238"
   },
   "outputs": [],
   "source": [
    "def categorize_income(income):\n",
    "    try:\n",
    "        if 0 <= income <= 30000:\n",
    "            return 'E'\n",
    "        elif 30001 <= income <= 50000:\n",
    "            return 'D'\n",
    "        elif 50001 <= income <= 200000:\n",
    "            return 'C'\n",
    "        elif 200001 <= income <= 1000000:\n",
    "            return 'B'\n",
    "        elif income >= 1000001:\n",
    "            return 'A'\n",
    "    except:\n",
    "        pass"
   ]
  },
  {
   "cell_type": "code",
   "execution_count": 18,
   "id": "0980ada1",
   "metadata": {
    "deletable": false,
    "id": "0980ada1"
   },
   "outputs": [],
   "source": [
    "data['total_income_category'] = data['total_income'].apply(categorize_income)"
   ]
  },
  {
   "cell_type": "markdown",
   "id": "9917bba0",
   "metadata": {
    "deletable": false,
    "editable": false,
    "id": "9917bba0"
   },
   "source": [
    "**Задание 17. Выведите на экран перечень уникальных целей взятия кредита из столбца `purpose`.**"
   ]
  },
  {
   "cell_type": "code",
   "execution_count": 19,
   "id": "ee07b65e",
   "metadata": {
    "deletable": false,
    "id": "ee07b65e",
    "outputId": "673c12d9-7d7e-4ae0-9812-c622c89dd244"
   },
   "outputs": [
    {
     "data": {
      "text/plain": [
       "array(['покупка жилья', 'приобретение автомобиля',\n",
       "       'дополнительное образование', 'сыграть свадьбу',\n",
       "       'операции с жильем', 'образование', 'на проведение свадьбы',\n",
       "       'покупка жилья для семьи', 'покупка недвижимости',\n",
       "       'покупка коммерческой недвижимости', 'покупка жилой недвижимости',\n",
       "       'строительство собственной недвижимости', 'недвижимость',\n",
       "       'строительство недвижимости', 'на покупку подержанного автомобиля',\n",
       "       'на покупку своего автомобиля',\n",
       "       'операции с коммерческой недвижимостью',\n",
       "       'строительство жилой недвижимости', 'жилье',\n",
       "       'операции со своей недвижимостью', 'автомобили',\n",
       "       'заняться образованием', 'сделка с подержанным автомобилем',\n",
       "       'получение образования', 'автомобиль', 'свадьба',\n",
       "       'получение дополнительного образования', 'покупка своего жилья',\n",
       "       'операции с недвижимостью', 'получение высшего образования',\n",
       "       'свой автомобиль', 'сделка с автомобилем',\n",
       "       'профильное образование', 'высшее образование',\n",
       "       'покупка жилья для сдачи', 'на покупку автомобиля', 'ремонт жилью',\n",
       "       'заняться высшим образованием'], dtype=object)"
      ]
     },
     "execution_count": 19,
     "metadata": {},
     "output_type": "execute_result"
    }
   ],
   "source": [
    "data['purpose'].unique()"
   ]
  },
  {
   "cell_type": "markdown",
   "id": "52b79d56",
   "metadata": {
    "deletable": false,
    "editable": false,
    "id": "52b79d56"
   },
   "source": [
    "**Задание 18. Создайте функцию, которая на основании данных из столбца `purpose` сформирует новый столбец `purpose_category`, в который войдут следующие категории:**\n",
    "\n",
    "- `'операции с автомобилем'`,\n",
    "- `'операции с недвижимостью'`,\n",
    "- `'проведение свадьбы'`,\n",
    "- `'получение образования'`.\n",
    "\n",
    "**Например, если в столбце `purpose` находится подстрока `'на покупку автомобиля'`, то в столбце `purpose_category` должна появиться строка `'операции с автомобилем'`.**\n",
    "\n",
    "**Используйте собственную функцию с именем `categorize_purpose()` и метод `apply()`. Изучите данные в столбце `purpose` и определите, какие подстроки помогут вам правильно определить категорию.**"
   ]
  },
  {
   "cell_type": "code",
   "execution_count": 20,
   "id": "be41da5d",
   "metadata": {
    "deletable": false,
    "id": "be41da5d"
   },
   "outputs": [],
   "source": [
    "def categorize_purpose(row):\n",
    "    try:\n",
    "        if 'автом' in row:\n",
    "            return 'операции с автомобилем'\n",
    "        elif 'жил' in row or 'недвиж' in row:\n",
    "            return 'операции с недвижимостью'\n",
    "        elif 'свад' in row:\n",
    "            return 'проведение свадьбы'\n",
    "        elif 'образов' in row:\n",
    "            return 'получение образования'\n",
    "    except:\n",
    "        return 'нет категории'"
   ]
  },
  {
   "cell_type": "code",
   "execution_count": 21,
   "id": "94c4a19a",
   "metadata": {
    "deletable": false,
    "id": "94c4a19a"
   },
   "outputs": [],
   "source": [
    "data['purpose_category'] = data['purpose'].apply(categorize_purpose)"
   ]
  },
  {
   "cell_type": "markdown",
   "id": "3d596c34",
   "metadata": {
    "deletable": false,
    "editable": false,
    "id": "3d596c34"
   },
   "source": [
    "### Шаг 3. Исследуйте данные и ответьте на вопросы"
   ]
  },
  {
   "cell_type": "markdown",
   "id": "648db036",
   "metadata": {
    "deletable": false,
    "editable": false,
    "id": "648db036"
   },
   "source": [
    "#### 3.1 Есть ли зависимость между количеством детей и возвратом кредита в срок?"
   ]
  },
  {
   "cell_type": "code",
   "execution_count": 22,
   "id": "7fcff25e",
   "metadata": {
    "deletable": false,
    "id": "7fcff25e"
   },
   "outputs": [
    {
     "data": {
      "text/html": [
       "<div>\n",
       "<style scoped>\n",
       "    .dataframe tbody tr th:only-of-type {\n",
       "        vertical-align: middle;\n",
       "    }\n",
       "\n",
       "    .dataframe tbody tr th {\n",
       "        vertical-align: top;\n",
       "    }\n",
       "\n",
       "    .dataframe thead th {\n",
       "        text-align: right;\n",
       "    }\n",
       "</style>\n",
       "<table border=\"1\" class=\"dataframe\">\n",
       "  <thead>\n",
       "    <tr style=\"text-align: right;\">\n",
       "      <th>debt</th>\n",
       "      <th>0</th>\n",
       "      <th>1</th>\n",
       "      <th>debt_share</th>\n",
       "    </tr>\n",
       "    <tr>\n",
       "      <th>children</th>\n",
       "      <th></th>\n",
       "      <th></th>\n",
       "      <th></th>\n",
       "    </tr>\n",
       "  </thead>\n",
       "  <tbody>\n",
       "    <tr>\n",
       "      <th>4</th>\n",
       "      <td>37.0</td>\n",
       "      <td>4.0</td>\n",
       "      <td>0.097561</td>\n",
       "    </tr>\n",
       "    <tr>\n",
       "      <th>2</th>\n",
       "      <td>1861.0</td>\n",
       "      <td>194.0</td>\n",
       "      <td>0.094404</td>\n",
       "    </tr>\n",
       "    <tr>\n",
       "      <th>1</th>\n",
       "      <td>4374.0</td>\n",
       "      <td>444.0</td>\n",
       "      <td>0.092154</td>\n",
       "    </tr>\n",
       "    <tr>\n",
       "      <th>3</th>\n",
       "      <td>303.0</td>\n",
       "      <td>27.0</td>\n",
       "      <td>0.081818</td>\n",
       "    </tr>\n",
       "    <tr>\n",
       "      <th>0</th>\n",
       "      <td>13086.0</td>\n",
       "      <td>1063.0</td>\n",
       "      <td>0.075129</td>\n",
       "    </tr>\n",
       "    <tr>\n",
       "      <th>5</th>\n",
       "      <td>9.0</td>\n",
       "      <td>NaN</td>\n",
       "      <td>NaN</td>\n",
       "    </tr>\n",
       "  </tbody>\n",
       "</table>\n",
       "</div>"
      ],
      "text/plain": [
       "debt            0       1  debt_share\n",
       "children                             \n",
       "4            37.0     4.0    0.097561\n",
       "2          1861.0   194.0    0.094404\n",
       "1          4374.0   444.0    0.092154\n",
       "3           303.0    27.0    0.081818\n",
       "0         13086.0  1063.0    0.075129\n",
       "5             9.0     NaN         NaN"
      ]
     },
     "metadata": {},
     "output_type": "display_data"
    }
   ],
   "source": [
    "import pandas as pd\n",
    "\n",
    "try:\n",
    "    data = pd.read_csv('/datasets/data.csv')\n",
    "except:\n",
    "    data = pd.read_csv('https://code.s3.yandex.net/datasets/data.csv') #для ответа на вопрос перенесем в данный блок таблицу из первой части проекта\n",
    "\n",
    "data = data[(data['children'] != -1) & (data['children'] != 20)] #уберем строки из колонки с количеством детей, которые содержат аномальные значения\n",
    "\n",
    "data_pivot = data.pivot_table(index=['children'], columns='debt', values='income_type', aggfunc='count') #далее сформируем сводную таблицу\n",
    "#сводная таблица содержит информацию о количестве заемщиков в разрезе количества детей и наличия задолженности, а именно: \n",
    "#в первой колонке указано количество детей у заемщика, во второй - количество заемщиков без задолженности и в третьей - количество заемщиков с задолженностью\n",
    "data_pivot['debt_share'] = data_pivot[1]/(data_pivot[0]+data_pivot[1]) #далее мы добавляем столбец, где считаем долю должников среди заемщиков в разрезе заемщиков с определенным количеством детей\n",
    "data_pivot = data_pivot.sort_values(by='debt_share', ascending=False) #в конце мы сортируем таблицу по убыванию по столбцу с долей должников\n",
    "display(data_pivot)# Ваш код будет здесь. Вы можете создавать новые ячейки."
   ]
  },
  {
   "cell_type": "markdown",
   "id": "2eb9088e",
   "metadata": {
    "deletable": false,
    "id": "2eb9088e"
   },
   "source": [
    "**Вывод:** По итогу формирования данных можно сделать вывод:\n",
    "1) основная целевая аудитория банка - это люди без детей и с одним ребенком (88%), т.е. люди с двумя и более детьми берут кредиты реже (вероятно, данный вывод нельзя принимать как 100% верный, т.к. у нас нет анализа населения по количеству детей)\n",
    "2) самая высокая доля должников среди заемщиков с четырьмя детьми, а самая низкая - среди заемщиков с пятью детьми и без детей\n",
    "3) также видим, что доля должников с одним ребенком и двумя детьми выше, чем доля должников с тремя детьми.\n",
    "\n",
    "Если исключить из анализа категории заемщиков, которые содержат до 50 чесловек, а именно с колиеством детей 4 и 5, то можно сделать следующие выводы:\n",
    "1) на первом месте среди должников заемщики с двумя детьми\n",
    "2) на последнем месте среди должников заемщики, которые не имеют детей\n",
    "3) на втором и третьем месте заемщики с одним ребенком и тремя детьми соответственно.\n",
    "\n",
    "Таким образом, на основании полученной информации можно утверждать, что прямая зависимость \"чем больше детей, тем выше доля должников\" отсутствует, однако можно сделать вывод, что заемщики, у которых отсутствуют дети и, соотвестственно, отсутствуют дополнительные затраты, реже задерживают кредитные выплаты.\n",
    "Также можно на основании этой информации можно определить уровень ответственности населения в зависимости от количества детей."
   ]
  },
  {
   "cell_type": "markdown",
   "id": "74c9b3a7",
   "metadata": {
    "deletable": false,
    "editable": false,
    "id": "74c9b3a7"
   },
   "source": [
    "#### 3.2 Есть ли зависимость между семейным положением и возвратом кредита в срок?"
   ]
  },
  {
   "cell_type": "code",
   "execution_count": 23,
   "id": "8098ab3b",
   "metadata": {
    "deletable": false,
    "id": "8098ab3b"
   },
   "outputs": [
    {
     "data": {
      "text/html": [
       "<div>\n",
       "<style scoped>\n",
       "    .dataframe tbody tr th:only-of-type {\n",
       "        vertical-align: middle;\n",
       "    }\n",
       "\n",
       "    .dataframe tbody tr th {\n",
       "        vertical-align: top;\n",
       "    }\n",
       "\n",
       "    .dataframe thead th {\n",
       "        text-align: right;\n",
       "    }\n",
       "</style>\n",
       "<table border=\"1\" class=\"dataframe\">\n",
       "  <thead>\n",
       "    <tr style=\"text-align: right;\">\n",
       "      <th>debt</th>\n",
       "      <th>0</th>\n",
       "      <th>1</th>\n",
       "      <th>family_status_share</th>\n",
       "    </tr>\n",
       "    <tr>\n",
       "      <th>family_status</th>\n",
       "      <th></th>\n",
       "      <th></th>\n",
       "      <th></th>\n",
       "    </tr>\n",
       "  </thead>\n",
       "  <tbody>\n",
       "    <tr>\n",
       "      <th>Не женат / не замужем</th>\n",
       "      <td>2526</td>\n",
       "      <td>273</td>\n",
       "      <td>0.097535</td>\n",
       "    </tr>\n",
       "    <tr>\n",
       "      <th>гражданский брак</th>\n",
       "      <td>3775</td>\n",
       "      <td>385</td>\n",
       "      <td>0.092548</td>\n",
       "    </tr>\n",
       "    <tr>\n",
       "      <th>женат / замужем</th>\n",
       "      <td>11375</td>\n",
       "      <td>927</td>\n",
       "      <td>0.075354</td>\n",
       "    </tr>\n",
       "    <tr>\n",
       "      <th>в разводе</th>\n",
       "      <td>1105</td>\n",
       "      <td>84</td>\n",
       "      <td>0.070648</td>\n",
       "    </tr>\n",
       "    <tr>\n",
       "      <th>вдовец / вдова</th>\n",
       "      <td>889</td>\n",
       "      <td>63</td>\n",
       "      <td>0.066176</td>\n",
       "    </tr>\n",
       "  </tbody>\n",
       "</table>\n",
       "</div>"
      ],
      "text/plain": [
       "debt                       0    1  family_status_share\n",
       "family_status                                         \n",
       "Не женат / не замужем   2526  273             0.097535\n",
       "гражданский брак        3775  385             0.092548\n",
       "женат / замужем        11375  927             0.075354\n",
       "в разводе               1105   84             0.070648\n",
       "вдовец / вдова           889   63             0.066176"
      ]
     },
     "metadata": {},
     "output_type": "display_data"
    }
   ],
   "source": [
    "data_pivot = data.pivot_table(index=['family_status'], columns='debt', values='income_type', aggfunc='count')\n",
    "#сформируем сводную таблицу, чтобы понять, какое количество должников и заемщиков со своевременной оплатой кредитов в разрезе семейного статуса\n",
    "data_pivot['family_status_share'] = data_pivot[1]/(data_pivot[0]+data_pivot[1]) #посчитаем долю должников в разрезе семейного положения\n",
    "data_pivot = data_pivot.sort_values(by='family_status_share', ascending=False) #отсортируем по убыванию доли должников, чтобы понять, кто чаще всего задерживает кредитные выплаты\n",
    "display(data_pivot)# Ваш код будет здесь. Вы можете создавать новые ячейки."
   ]
  },
  {
   "cell_type": "markdown",
   "id": "c389ca63",
   "metadata": {
    "deletable": false,
    "id": "c389ca63"
   },
   "source": [
    "**Вывод:** Исходя из полученных данных можно сделать вывод:\n",
    "1) заемщики, которые не находятся в браке либо находятся в гражданском браке, менее ответственно относятся к выплатам кредитов в срок - данная категория является лидером среди должников.\n",
    "2) заемщики, которые относятся к категории \"вдовец/вдова\" являются самыми ответственными среди заемщиков и реже всего задерживают кредитные выплаты.\n",
    "3) заемщики, которые находятся в браке, а также заемщики, которые находятся в разводе, имеют средний уровень ответственности по выплатам кредитов своевременно.\n"
   ]
  },
  {
   "cell_type": "markdown",
   "id": "9529de68",
   "metadata": {
    "deletable": false,
    "editable": false,
    "id": "9529de68"
   },
   "source": [
    "#### 3.3 Есть ли зависимость между уровнем дохода и возвратом кредита в срок?"
   ]
  },
  {
   "cell_type": "code",
   "execution_count": 24,
   "id": "8787f44a",
   "metadata": {
    "deletable": false,
    "id": "8787f44a"
   },
   "outputs": [
    {
     "data": {
      "text/html": [
       "<div>\n",
       "<style scoped>\n",
       "    .dataframe tbody tr th:only-of-type {\n",
       "        vertical-align: middle;\n",
       "    }\n",
       "\n",
       "    .dataframe tbody tr th {\n",
       "        vertical-align: top;\n",
       "    }\n",
       "\n",
       "    .dataframe thead th {\n",
       "        text-align: right;\n",
       "    }\n",
       "</style>\n",
       "<table border=\"1\" class=\"dataframe\">\n",
       "  <thead>\n",
       "    <tr style=\"text-align: right;\">\n",
       "      <th>debt</th>\n",
       "      <th>0</th>\n",
       "      <th>1</th>\n",
       "      <th>total_income_share</th>\n",
       "    </tr>\n",
       "    <tr>\n",
       "      <th>total_income_category</th>\n",
       "      <th></th>\n",
       "      <th></th>\n",
       "      <th></th>\n",
       "    </tr>\n",
       "  </thead>\n",
       "  <tbody>\n",
       "    <tr>\n",
       "      <th>Сверхнизкий уровень дохода</th>\n",
       "      <td>20</td>\n",
       "      <td>2</td>\n",
       "      <td>0.090909</td>\n",
       "    </tr>\n",
       "    <tr>\n",
       "      <th>Средний уровень дохода</th>\n",
       "      <td>12648</td>\n",
       "      <td>1183</td>\n",
       "      <td>0.085532</td>\n",
       "    </tr>\n",
       "    <tr>\n",
       "      <th>Сверхвысокий уровень дохода</th>\n",
       "      <td>23</td>\n",
       "      <td>2</td>\n",
       "      <td>0.080000</td>\n",
       "    </tr>\n",
       "    <tr>\n",
       "      <th>Высокий уровень дохода</th>\n",
       "      <td>4659</td>\n",
       "      <td>354</td>\n",
       "      <td>0.070616</td>\n",
       "    </tr>\n",
       "    <tr>\n",
       "      <th>Низкий уровень дохода</th>\n",
       "      <td>328</td>\n",
       "      <td>21</td>\n",
       "      <td>0.060172</td>\n",
       "    </tr>\n",
       "  </tbody>\n",
       "</table>\n",
       "</div>"
      ],
      "text/plain": [
       "debt                             0     1  total_income_share\n",
       "total_income_category                                       \n",
       "Сверхнизкий уровень дохода      20     2            0.090909\n",
       "Средний уровень дохода       12648  1183            0.085532\n",
       "Сверхвысокий уровень дохода     23     2            0.080000\n",
       "Высокий уровень дохода        4659   354            0.070616\n",
       "Низкий уровень дохода          328    21            0.060172"
      ]
     },
     "metadata": {},
     "output_type": "display_data"
    }
   ],
   "source": [
    "def categorize_income(total_income):\n",
    "        if 0 <= total_income <= 30000:\n",
    "            return 'Сверхнизкий уровень дохода'\n",
    "        if 30001 <= total_income <= 50000:\n",
    "            return 'Низкий уровень дохода'\n",
    "        if 50001 <= total_income <= 200000:\n",
    "            return 'Средний уровень дохода'\n",
    "        if 200001 <= total_income <= 1000000:\n",
    "            return 'Высокий уровень дохода'\n",
    "        if total_income >= 1000001:\n",
    "            return 'Сверхвысокий уровень дохода' #создадим функцю, которая позволит выделить категории дохода всех заемщиков\n",
    "\n",
    "data['total_income_category'] = data['total_income'].apply(categorize_income) #добавим колонку с категорией дохода в таблицу\n",
    "\n",
    "data_pivot = data.pivot_table(index=['total_income_category'], columns='debt', values='income_type', aggfunc='count') \n",
    "#создадим сводную таблицу, которая покажет нам количество должников исходя из уровня дохода заемщиков\n",
    "data_pivot['total_income_share'] = data_pivot[1]/(data_pivot[0]+data_pivot[1]) #посчитаем долю должников в разрезе выделенных уровней дохода\n",
    "data_pivot = data_pivot.sort_values(by='total_income_share', ascending=False) #отсортируем по убыванию доли должников, чтобы видеть, кто задерживает выплаты чаще, а кто реже\n",
    "display(data_pivot)# Ваш код будет здесь. Вы можете создавать новые ячейки."
   ]
  },
  {
   "cell_type": "markdown",
   "id": "6dd14b57",
   "metadata": {
    "deletable": false,
    "id": "6dd14b57"
   },
   "source": [
    "**Вывод:** Исходя из полученной информации видим:\n",
    "1) Заемщики с доходом менее 30 000 руб. задерживают кредитные выплаты чаще других, что является логичным, т.к. заемщиков с данным уровнем дохода можно отнести к рисковой категории, хоть и берут кредиты реже остальных.\n",
    "2) Заещики с доходом от 30 000 руб. до 50 000 руб. относятся к кредитам максимально ответственно и реже других категорий задерживают выплаты.\n",
    "3) Заемщики с высоким доходом от 200 000 руб. до 1 000 000 руб. ближе к тем, кто не часто задерживает кредитные выплаты.\n",
    "4) Заещики со средним уровнем дохода, т.е. от 50 000 руб. до 200 000 руб. чаще других берут кредиты и находятся на втором месте по несвоевременной оплате кредита после заемщиков со сверхнизуим уровнем дохода (до 30 000 руб.). Здесь сложно оценить, с чем это может быть связано, хорошо было бы посмотреть еще суммы ежемесячных выплат, чтобы понять, какую долю от дохода составляет регулярный взнос.\n",
    "5) Заемщики с доходом от 1 000 000 руб. берут кредит редко и имеют средний уровень ответственности по выплате кредита в срок."
   ]
  },
  {
   "cell_type": "code",
   "execution_count": 25,
   "id": "2c4cbcbf",
   "metadata": {},
   "outputs": [
    {
     "data": {
      "text/html": [
       "<div>\n",
       "<style scoped>\n",
       "    .dataframe tbody tr th:only-of-type {\n",
       "        vertical-align: middle;\n",
       "    }\n",
       "\n",
       "    .dataframe tbody tr th {\n",
       "        vertical-align: top;\n",
       "    }\n",
       "\n",
       "    .dataframe thead th {\n",
       "        text-align: right;\n",
       "    }\n",
       "</style>\n",
       "<table border=\"1\" class=\"dataframe\">\n",
       "  <thead>\n",
       "    <tr style=\"text-align: right;\">\n",
       "      <th>debt</th>\n",
       "      <th>0</th>\n",
       "      <th>1</th>\n",
       "      <th>total_income_share</th>\n",
       "    </tr>\n",
       "    <tr>\n",
       "      <th>total_income_category</th>\n",
       "      <th></th>\n",
       "      <th></th>\n",
       "      <th></th>\n",
       "    </tr>\n",
       "  </thead>\n",
       "  <tbody>\n",
       "    <tr>\n",
       "      <th>(145020.801, 203444.65]</th>\n",
       "      <td>4387</td>\n",
       "      <td>423</td>\n",
       "      <td>0.087942</td>\n",
       "    </tr>\n",
       "    <tr>\n",
       "      <th>(103000.126, 145020.801]</th>\n",
       "      <td>4393</td>\n",
       "      <td>417</td>\n",
       "      <td>0.086694</td>\n",
       "    </tr>\n",
       "    <tr>\n",
       "      <th>(20667.263, 103000.126]</th>\n",
       "      <td>4427</td>\n",
       "      <td>383</td>\n",
       "      <td>0.079626</td>\n",
       "    </tr>\n",
       "    <tr>\n",
       "      <th>(203444.65, 2265604.029]</th>\n",
       "      <td>4471</td>\n",
       "      <td>339</td>\n",
       "      <td>0.070478</td>\n",
       "    </tr>\n",
       "  </tbody>\n",
       "</table>\n",
       "</div>"
      ],
      "text/plain": [
       "debt                         0    1  total_income_share\n",
       "total_income_category                                  \n",
       "(145020.801, 203444.65]   4387  423            0.087942\n",
       "(103000.126, 145020.801]  4393  417            0.086694\n",
       "(20667.263, 103000.126]   4427  383            0.079626\n",
       "(203444.65, 2265604.029]  4471  339            0.070478"
      ]
     },
     "metadata": {},
     "output_type": "display_data"
    }
   ],
   "source": [
    "pd.qcut(data['total_income'], 4)\n",
    "\n",
    "data['total_income_category'] = pd.qcut(data['total_income'], 4) #добавим колонку с категорией дохода в таблицу\n",
    "\n",
    "data_pivot = data.pivot_table(index=['total_income_category'], columns='debt', values='income_type', aggfunc='count') \n",
    "#создадим сводную таблицу, которая покажет нам количество должников исходя из уровня дохода заемщиков\n",
    "data_pivot['total_income_share'] = data_pivot[1]/(data_pivot[0]+data_pivot[1]) #посчитаем долю должников в разрезе выделенных уровней дохода\n",
    "data_pivot = data_pivot.sort_values(by='total_income_share', ascending=False) #отсортируем по убыванию доли должников, чтобы видеть, кто задерживает выплаты чаще, а кто реже\n",
    "display(data_pivot)# Артем, спасибо за подсказку! Удобный метод, и вроде бы получилось :) \n",
    "#Но мне бы визуально было бы удобнее воспринимать округленные цифры в категоризации дохода. Это можно будет как-то учесть в коде?"
   ]
  },
  {
   "cell_type": "markdown",
   "id": "22e71c45",
   "metadata": {},
   "source": [
    "В ходе анализа мы выделили 4 категории заемщиков в разрезе доходов:\n",
    "\n",
    "Категория 1 - доход от 20 000 руб. до 103 000 руб.\n",
    "Категория 2 - доход от 103 000 руб. до 145 000 руб.\n",
    "Категория 3 - доход от 145 000 руб. до 203 000 руб.\n",
    "Категория 4 - доход от 203 000 руб. до 2 265 000 руб.\n",
    "\n",
    "Исходя из полученной информации видим:\n",
    "\n",
    "1) Чаще всего задерживают выплаты заемщики с доходом от 145 000 руб. до 203 000 руб. (категория 3)\n",
    "2) Меньше всего доля должников составляет среди заемщиков категории 4 и категории 1, т.е. среди заемщиков с доходом от 203 000 руб. до 2 265 000 руб. и с доходом от 20 000 руб. до 103 000 руб.\n",
    "\n",
    "То есть можем сделать вывод, что заемщики с минимальным и максимальным уровнем дохода более ответственны, чем заемщики со средним уровнем дохода.\n",
    "\n",
    "(Также, как и утверждала ранее, на мой взгляд, здесь для полного анализа не хватает информации о сумме ежемесячных выплат и информации о том, какой % от ежемесячного дохода данные выплаты составляют.)\n"
   ]
  },
  {
   "cell_type": "markdown",
   "id": "1dcc9b12",
   "metadata": {
    "deletable": false,
    "editable": false,
    "id": "1dcc9b12"
   },
   "source": [
    "#### 3.4 Как разные цели кредита влияют на его возврат в срок?"
   ]
  },
  {
   "cell_type": "markdown",
   "id": "acbaf240",
   "metadata": {},
   "source": []
  },
  {
   "cell_type": "code",
   "execution_count": 26,
   "id": "c602bc8b",
   "metadata": {
    "deletable": false,
    "id": "c602bc8b"
   },
   "outputs": [
    {
     "data": {
      "text/html": [
       "<div>\n",
       "<style scoped>\n",
       "    .dataframe tbody tr th:only-of-type {\n",
       "        vertical-align: middle;\n",
       "    }\n",
       "\n",
       "    .dataframe tbody tr th {\n",
       "        vertical-align: top;\n",
       "    }\n",
       "\n",
       "    .dataframe thead th {\n",
       "        text-align: right;\n",
       "    }\n",
       "</style>\n",
       "<table border=\"1\" class=\"dataframe\">\n",
       "  <thead>\n",
       "    <tr style=\"text-align: right;\">\n",
       "      <th>debt</th>\n",
       "      <th>0</th>\n",
       "      <th>1</th>\n",
       "      <th>purpose_share</th>\n",
       "    </tr>\n",
       "    <tr>\n",
       "      <th>purpose_category</th>\n",
       "      <th></th>\n",
       "      <th></th>\n",
       "      <th></th>\n",
       "    </tr>\n",
       "  </thead>\n",
       "  <tbody>\n",
       "    <tr>\n",
       "      <th>операции с автомобилем</th>\n",
       "      <td>3888</td>\n",
       "      <td>400</td>\n",
       "      <td>0.093284</td>\n",
       "    </tr>\n",
       "    <tr>\n",
       "      <th>получение образования</th>\n",
       "      <td>3628</td>\n",
       "      <td>369</td>\n",
       "      <td>0.092319</td>\n",
       "    </tr>\n",
       "    <tr>\n",
       "      <th>проведение свадьбы</th>\n",
       "      <td>2154</td>\n",
       "      <td>183</td>\n",
       "      <td>0.078306</td>\n",
       "    </tr>\n",
       "    <tr>\n",
       "      <th>операции с недвижимостью</th>\n",
       "      <td>10000</td>\n",
       "      <td>780</td>\n",
       "      <td>0.072356</td>\n",
       "    </tr>\n",
       "  </tbody>\n",
       "</table>\n",
       "</div>"
      ],
      "text/plain": [
       "debt                          0    1  purpose_share\n",
       "purpose_category                                   \n",
       "операции с автомобилем     3888  400       0.093284\n",
       "получение образования      3628  369       0.092319\n",
       "проведение свадьбы         2154  183       0.078306\n",
       "операции с недвижимостью  10000  780       0.072356"
      ]
     },
     "metadata": {},
     "output_type": "display_data"
    }
   ],
   "source": [
    "def categorize_purpose(row):\n",
    "    try:\n",
    "        if 'автом' in row:\n",
    "            return 'операции с автомобилем'\n",
    "        elif 'жил' in row or 'недвиж' in row:\n",
    "            return 'операции с недвижимостью'\n",
    "        elif 'свад' in row:\n",
    "            return 'проведение свадьбы'\n",
    "        elif 'образов' in row:\n",
    "            return 'получение образования'\n",
    "    except:\n",
    "        return 'нет категории'\n",
    "    \n",
    "data['purpose_category'] = data['purpose'].apply(categorize_purpose)\n",
    "\n",
    "data_pivot = data.pivot_table(index=['purpose_category'], columns='debt', values='income_type', aggfunc='count')\n",
    "#сформируем сводную таблицу, чтобы понять, какое количество должников и заемщиков со своевременной оплатой кредитов в разрезе семейного статуса\n",
    "data_pivot['purpose_share'] = data_pivot[1]/(data_pivot[0]+data_pivot[1]) #посчитаем долю должников в разрезе семейного положения\n",
    "data_pivot = data_pivot.sort_values(by='purpose_share', ascending=False) #отсортируем по убыванию доли должников, чтобы понять, кто чаще всего задерживает кредитные выплаты\n",
    "display(data_pivot)# Ваш код будет здесь. Вы можете создавать новые ячейки."
   ]
  },
  {
   "cell_type": "markdown",
   "id": "cf05ed63",
   "metadata": {
    "deletable": false,
    "id": "cf05ed63"
   },
   "source": [
    "**Вывод:** Исходя из полученной информации видим, что:\n",
    "1) Заемщики, которые берут кредит на автомобили и обучение, задерживают выплаты чаще\n",
    "2) Заемщики, которые берут кредит на свадьбы и недвижимость, более ответственно подходят к выплате кредитов в рок\n",
    "\n",
    "Можно предположить, что заемщики, которые берут кредит на свадьбы и недвижимость, находятся в браке и имеют более высокий уровень ответственности. Ранее мы выделяли данную категорию со средней ответственностью, но доля должников приблизительно совпадает.\n",
    "Также можно предположить, что заемщики, которые берут кредит на образование, относятся к категории молодых людей и имеют более низкий уровень ответственности, в связи с чем доля должников среди них высока."
   ]
  },
  {
   "cell_type": "markdown",
   "id": "46c1f10b",
   "metadata": {
    "deletable": false,
    "editable": false,
    "id": "46c1f10b"
   },
   "source": [
    "#### 3.5 Приведите возможные причины появления пропусков в исходных данных."
   ]
  },
  {
   "cell_type": "markdown",
   "id": "3697d2a9",
   "metadata": {
    "deletable": false,
    "id": "3697d2a9"
   },
   "source": [
    "*Ответ:* Пропуски в исходных данных могут появиться, если:\n",
    "1) Сумма кредита до определенной планки, и кредит относится к категории, не требующей информации\n",
    "2) Сбои при выгрузке данных\n",
    "3) Упущение сотрудника при внесении данных\n",
    "4) Неофициальное трудоустройство и, как следствие, отсутствие информации об официальном трудовом стаже и об официальном доходе"
   ]
  },
  {
   "cell_type": "markdown",
   "id": "3137d257",
   "metadata": {
    "deletable": false,
    "editable": false,
    "id": "3137d257"
   },
   "source": [
    "#### 3.6 Объясните, почему заполнить пропуски медианным значением — лучшее решение для количественных переменных."
   ]
  },
  {
   "cell_type": "markdown",
   "id": "cf40012a",
   "metadata": {
    "deletable": false,
    "id": "cf40012a"
   },
   "source": [
    "*Ответ:* Медианное значение считается более точным, так как является серединным значением между двумя значениями, расположенными по возрастанию, либо средним значением между двумя значениями, расположенными по возрастанию.\n",
    "Если заполнять данные средним значением, то есть риск получения менее достоверной информации, т.к. расчет среднего значения будет браться из всей колонки, где данные могут разниться в бОльшем диапазоне, чем при расчете медианы."
   ]
  },
  {
   "cell_type": "markdown",
   "id": "57bc304e",
   "metadata": {
    "deletable": false,
    "editable": false,
    "id": "57bc304e"
   },
   "source": [
    "### Шаг 4: общий вывод."
   ]
  },
  {
   "cell_type": "markdown",
   "id": "1ab75d1c",
   "metadata": {
    "deletable": false,
    "id": "1ab75d1c"
   },
   "source": [
    "Напишите ваш общий вывод."
   ]
  },
  {
   "cell_type": "markdown",
   "id": "84232b4f",
   "metadata": {},
   "source": [
    "По итогам проекта можно сделать следующие выводы:\n",
    "    1) К более надежным клиентам можно отнести людей с 5-ю детьми либо без детей\n",
    "    2) Менее рисковыми клиентами считаются овдовевшие либо разведенные клиенты\n",
    "    3) Более ответственно к выплатам кредита своевременно относятся клиенты с уровнем дохода от 20 000 руб. до 50 000 руб., а также клиенты с доходом от 200 000 руб. до 1 000 000 руб.\n",
    "    4) Исходя из целей кредита, более надежными клиентами считаются те, кто берет кредит на недвижимость.\n",
    "    \n",
    "На мой взгляд, более информативными будут количественные категории с количеством детей и уровнем дохода. Я бы порекомендовала заказчику обратить внимание именно на них."
   ]
  },
  {
   "cell_type": "markdown",
   "id": "0f3a20e1",
   "metadata": {},
   "source": [
    "Скорректированный вывод с учетом исправленных расчетов зависимости своевременной оплаты кредита от доходов заемщиков согласно рекомендации, полученной по итогам первой проверки проекта:\n",
    "По итогам проекта можно сделать следующие выводы:\n",
    "    1) К более надежным клиентам можно отнести людей с 5-ю детьми либо без детей\n",
    "    2) Менее рисковыми клиентами считаются овдовевшие либо разведенные клиенты\n",
    "    3) Более ответственно к выплатам кредита своевременно относятся клиенты с уровнем дохода от 203 000 руб. до 2 265 000 руб. и с доходом от 20 000 руб. до 103 000 руб.\n",
    "    4) Исходя из целей кредита, более надежными клиентами считаются те, кто берет кредит на недвижимость.\n",
    "    \n",
    "На мой взгляд, более информативными будут количественные категории с количеством детей и уровнем дохода. Я бы порекомендовала заказчику обратить внимание именно на них."
   ]
  },
  {
   "cell_type": "code",
   "execution_count": null,
   "id": "40075f03",
   "metadata": {},
   "outputs": [],
   "source": []
  }
 ],
 "metadata": {
  "ExecuteTimeLog": [
   {
    "duration": 51,
    "start_time": "2023-03-18T13:34:37.396Z"
   },
   {
    "duration": 7,
    "start_time": "2023-03-18T13:35:44.009Z"
   },
   {
    "duration": 6,
    "start_time": "2023-03-18T13:36:12.106Z"
   },
   {
    "duration": 6,
    "start_time": "2023-03-18T13:36:42.334Z"
   },
   {
    "duration": 460,
    "start_time": "2023-03-18T13:37:17.636Z"
   },
   {
    "duration": 88,
    "start_time": "2023-03-18T13:38:10.276Z"
   },
   {
    "duration": 90,
    "start_time": "2023-03-18T13:46:17.331Z"
   },
   {
    "duration": 90,
    "start_time": "2023-03-18T13:46:31.715Z"
   },
   {
    "duration": 71,
    "start_time": "2023-03-18T13:46:47.392Z"
   },
   {
    "duration": 70,
    "start_time": "2023-03-18T13:47:24.679Z"
   },
   {
    "duration": 66,
    "start_time": "2023-03-18T13:47:43.442Z"
   },
   {
    "duration": 72,
    "start_time": "2023-03-18T13:48:37.252Z"
   },
   {
    "duration": 686,
    "start_time": "2023-03-18T13:48:45.282Z"
   },
   {
    "duration": 68,
    "start_time": "2023-03-18T13:50:30.570Z"
   },
   {
    "duration": 95,
    "start_time": "2023-03-18T13:52:03.321Z"
   },
   {
    "duration": 478,
    "start_time": "2023-03-18T13:53:15.190Z"
   },
   {
    "duration": 68,
    "start_time": "2023-03-18T13:53:23.144Z"
   },
   {
    "duration": 66,
    "start_time": "2023-03-18T13:58:52.681Z"
   },
   {
    "duration": 66,
    "start_time": "2023-03-18T13:59:13.869Z"
   },
   {
    "duration": 64,
    "start_time": "2023-03-18T13:59:57.128Z"
   },
   {
    "duration": 64,
    "start_time": "2023-03-18T14:00:20.140Z"
   },
   {
    "duration": 86,
    "start_time": "2023-03-18T14:04:07.111Z"
   },
   {
    "duration": 73,
    "start_time": "2023-03-18T14:04:22.519Z"
   },
   {
    "duration": 84,
    "start_time": "2023-03-18T14:04:47.401Z"
   },
   {
    "duration": 75,
    "start_time": "2023-03-18T14:04:57.731Z"
   },
   {
    "duration": 70,
    "start_time": "2023-03-18T14:06:07.815Z"
   },
   {
    "duration": 66,
    "start_time": "2023-03-18T14:06:19.506Z"
   },
   {
    "duration": 67,
    "start_time": "2023-03-18T14:06:31.504Z"
   },
   {
    "duration": 92,
    "start_time": "2023-03-18T14:07:07.501Z"
   },
   {
    "duration": 1179,
    "start_time": "2023-03-18T18:09:57.631Z"
   },
   {
    "duration": 108,
    "start_time": "2023-03-18T18:10:18.824Z"
   },
   {
    "duration": 136,
    "start_time": "2023-03-18T18:15:22.573Z"
   },
   {
    "duration": 107,
    "start_time": "2023-03-18T18:20:19.764Z"
   },
   {
    "duration": 104,
    "start_time": "2023-03-18T18:20:37.804Z"
   },
   {
    "duration": 125,
    "start_time": "2023-03-18T18:20:42.912Z"
   },
   {
    "duration": 83,
    "start_time": "2023-03-18T18:25:36.477Z"
   },
   {
    "duration": 185,
    "start_time": "2023-03-18T18:27:10.319Z"
   },
   {
    "duration": 135,
    "start_time": "2023-03-18T18:27:42.189Z"
   },
   {
    "duration": 111,
    "start_time": "2023-03-18T18:27:53.059Z"
   },
   {
    "duration": 67,
    "start_time": "2023-03-18T18:28:31.407Z"
   },
   {
    "duration": 112,
    "start_time": "2023-03-18T18:28:50.994Z"
   },
   {
    "duration": 96,
    "start_time": "2023-03-18T18:29:03.803Z"
   },
   {
    "duration": 140,
    "start_time": "2023-03-18T18:30:08.175Z"
   },
   {
    "duration": 120,
    "start_time": "2023-03-18T18:30:42.171Z"
   },
   {
    "duration": 19,
    "start_time": "2023-03-18T19:23:47.296Z"
   },
   {
    "duration": 19,
    "start_time": "2023-03-18T19:24:57.619Z"
   },
   {
    "duration": 20,
    "start_time": "2023-03-18T19:26:54.727Z"
   },
   {
    "duration": 45,
    "start_time": "2023-03-19T12:21:06.339Z"
   },
   {
    "duration": 553,
    "start_time": "2023-03-19T12:21:17.629Z"
   },
   {
    "duration": 79,
    "start_time": "2023-03-19T12:21:39.741Z"
   },
   {
    "duration": 80,
    "start_time": "2023-03-19T12:22:36.890Z"
   },
   {
    "duration": 78,
    "start_time": "2023-03-19T12:22:45.841Z"
   },
   {
    "duration": 41,
    "start_time": "2023-03-19T12:34:05.399Z"
   },
   {
    "duration": 26,
    "start_time": "2023-03-19T12:36:34.061Z"
   },
   {
    "duration": 24,
    "start_time": "2023-03-19T12:37:01.257Z"
   },
   {
    "duration": 24,
    "start_time": "2023-03-19T12:37:29.619Z"
   },
   {
    "duration": 22,
    "start_time": "2023-03-19T12:45:14.865Z"
   },
   {
    "duration": 29,
    "start_time": "2023-03-19T13:00:38.806Z"
   },
   {
    "duration": 19,
    "start_time": "2023-03-19T13:01:21.721Z"
   },
   {
    "duration": 14,
    "start_time": "2023-03-19T13:01:57.160Z"
   },
   {
    "duration": 25,
    "start_time": "2023-03-19T13:06:39.780Z"
   },
   {
    "duration": 17,
    "start_time": "2023-03-19T13:07:45.594Z"
   },
   {
    "duration": 33,
    "start_time": "2023-03-19T13:09:11.812Z"
   },
   {
    "duration": 16,
    "start_time": "2023-03-19T13:09:18.305Z"
   },
   {
    "duration": 52,
    "start_time": "2023-03-19T13:09:57.744Z"
   },
   {
    "duration": 46,
    "start_time": "2023-03-19T13:10:10.011Z"
   },
   {
    "duration": 46,
    "start_time": "2023-03-19T13:10:24.584Z"
   },
   {
    "duration": 17,
    "start_time": "2023-03-19T13:10:34.759Z"
   },
   {
    "duration": 50,
    "start_time": "2023-03-19T13:11:22.492Z"
   },
   {
    "duration": 13,
    "start_time": "2023-03-19T13:11:48.320Z"
   },
   {
    "duration": 16,
    "start_time": "2023-03-19T13:12:35.200Z"
   },
   {
    "duration": 23,
    "start_time": "2023-03-19T13:13:48.340Z"
   },
   {
    "duration": 22,
    "start_time": "2023-03-19T13:14:18.296Z"
   },
   {
    "duration": 9,
    "start_time": "2023-03-19T13:14:54.342Z"
   },
   {
    "duration": 23,
    "start_time": "2023-03-19T13:15:19.693Z"
   },
   {
    "duration": 16,
    "start_time": "2023-03-19T13:16:06.533Z"
   },
   {
    "duration": 15,
    "start_time": "2023-03-19T13:17:07.892Z"
   },
   {
    "duration": 552,
    "start_time": "2023-03-19T21:35:17.768Z"
   },
   {
    "duration": 36,
    "start_time": "2023-03-19T21:35:18.322Z"
   },
   {
    "duration": 34,
    "start_time": "2023-03-19T21:35:18.361Z"
   },
   {
    "duration": 13,
    "start_time": "2023-03-19T21:35:18.398Z"
   },
   {
    "duration": 36,
    "start_time": "2023-03-19T21:35:18.413Z"
   },
   {
    "duration": 5,
    "start_time": "2023-03-19T21:35:18.450Z"
   },
   {
    "duration": 32,
    "start_time": "2023-03-19T21:35:18.457Z"
   },
   {
    "duration": 6,
    "start_time": "2023-03-19T21:35:18.494Z"
   },
   {
    "duration": 8,
    "start_time": "2023-03-19T21:35:18.502Z"
   },
   {
    "duration": 14,
    "start_time": "2023-03-19T21:35:18.514Z"
   },
   {
    "duration": 57,
    "start_time": "2023-03-19T21:35:18.530Z"
   },
   {
    "duration": 12,
    "start_time": "2023-03-19T21:35:18.589Z"
   },
   {
    "duration": 5,
    "start_time": "2023-03-19T21:35:18.603Z"
   },
   {
    "duration": 21,
    "start_time": "2023-03-19T21:35:18.610Z"
   },
   {
    "duration": 22,
    "start_time": "2023-03-19T21:35:18.633Z"
   },
   {
    "duration": 50,
    "start_time": "2023-03-19T21:35:18.657Z"
   },
   {
    "duration": 4,
    "start_time": "2023-03-19T21:35:18.710Z"
   },
   {
    "duration": 36,
    "start_time": "2023-03-19T21:35:18.717Z"
   },
   {
    "duration": 30,
    "start_time": "2023-03-19T21:35:18.755Z"
   },
   {
    "duration": 25,
    "start_time": "2023-03-19T21:35:18.788Z"
   },
   {
    "duration": 32,
    "start_time": "2023-03-19T21:35:18.815Z"
   },
   {
    "duration": 87,
    "start_time": "2023-03-19T21:35:18.850Z"
   },
   {
    "duration": 23,
    "start_time": "2023-03-19T21:35:18.940Z"
   },
   {
    "duration": 50,
    "start_time": "2023-03-19T21:35:18.966Z"
   },
   {
    "duration": 100,
    "start_time": "2023-03-19T21:35:19.018Z"
   },
   {
    "duration": 0,
    "start_time": "2023-03-19T21:35:19.120Z"
   },
   {
    "duration": 511,
    "start_time": "2023-03-21T17:31:32.048Z"
   },
   {
    "duration": 18,
    "start_time": "2023-03-21T17:31:46.839Z"
   },
   {
    "duration": 32,
    "start_time": "2023-03-21T17:32:14.152Z"
   },
   {
    "duration": 41,
    "start_time": "2023-03-21T17:41:36.002Z"
   },
   {
    "duration": 32,
    "start_time": "2023-03-21T17:43:14.398Z"
   },
   {
    "duration": 29,
    "start_time": "2023-03-21T17:43:27.294Z"
   },
   {
    "duration": 25,
    "start_time": "2023-03-21T17:49:34.798Z"
   },
   {
    "duration": 26,
    "start_time": "2023-03-21T17:50:09.206Z"
   },
   {
    "duration": 61,
    "start_time": "2023-03-21T18:06:24.368Z"
   },
   {
    "duration": 12,
    "start_time": "2023-03-21T18:06:43.781Z"
   },
   {
    "duration": 555,
    "start_time": "2023-03-22T19:10:16.051Z"
   },
   {
    "duration": 29,
    "start_time": "2023-03-22T19:10:16.609Z"
   },
   {
    "duration": 17,
    "start_time": "2023-03-22T19:10:16.640Z"
   },
   {
    "duration": 15,
    "start_time": "2023-03-22T19:10:16.658Z"
   },
   {
    "duration": 42,
    "start_time": "2023-03-22T19:10:16.675Z"
   },
   {
    "duration": 4,
    "start_time": "2023-03-22T19:10:16.719Z"
   },
   {
    "duration": 27,
    "start_time": "2023-03-22T19:10:16.724Z"
   },
   {
    "duration": 16,
    "start_time": "2023-03-22T19:10:16.753Z"
   },
   {
    "duration": 20,
    "start_time": "2023-03-22T19:10:16.770Z"
   },
   {
    "duration": 15,
    "start_time": "2023-03-22T19:10:16.791Z"
   },
   {
    "duration": 58,
    "start_time": "2023-03-22T19:10:16.808Z"
   },
   {
    "duration": 10,
    "start_time": "2023-03-22T19:10:16.868Z"
   },
   {
    "duration": 11,
    "start_time": "2023-03-22T19:10:16.879Z"
   },
   {
    "duration": 27,
    "start_time": "2023-03-22T19:10:16.893Z"
   },
   {
    "duration": 42,
    "start_time": "2023-03-22T19:10:16.922Z"
   },
   {
    "duration": 31,
    "start_time": "2023-03-22T19:10:16.965Z"
   },
   {
    "duration": 33,
    "start_time": "2023-03-22T19:10:16.997Z"
   },
   {
    "duration": 38,
    "start_time": "2023-03-22T19:10:17.032Z"
   },
   {
    "duration": 15,
    "start_time": "2023-03-22T19:10:17.071Z"
   },
   {
    "duration": 24,
    "start_time": "2023-03-22T19:10:17.088Z"
   },
   {
    "duration": 41,
    "start_time": "2023-03-22T19:10:17.114Z"
   },
   {
    "duration": 75,
    "start_time": "2023-03-22T19:10:17.157Z"
   },
   {
    "duration": 21,
    "start_time": "2023-03-22T19:10:17.234Z"
   },
   {
    "duration": 54,
    "start_time": "2023-03-22T19:10:17.257Z"
   },
   {
    "duration": 54,
    "start_time": "2023-03-22T19:10:17.312Z"
   },
   {
    "duration": 100,
    "start_time": "2023-03-22T19:10:17.369Z"
   },
   {
    "duration": 0,
    "start_time": "2023-03-22T19:10:17.471Z"
   },
   {
    "duration": 14,
    "start_time": "2023-03-22T19:12:56.897Z"
   },
   {
    "duration": 40,
    "start_time": "2023-03-22T19:18:22.350Z"
   },
   {
    "duration": 32,
    "start_time": "2023-03-22T19:18:49.335Z"
   },
   {
    "duration": 498,
    "start_time": "2023-03-22T19:19:20.903Z"
   },
   {
    "duration": 27,
    "start_time": "2023-03-22T19:19:21.404Z"
   },
   {
    "duration": 21,
    "start_time": "2023-03-22T19:19:21.433Z"
   },
   {
    "duration": 32,
    "start_time": "2023-03-22T19:19:21.457Z"
   },
   {
    "duration": 36,
    "start_time": "2023-03-22T19:19:21.491Z"
   },
   {
    "duration": 4,
    "start_time": "2023-03-22T19:19:21.529Z"
   },
   {
    "duration": 12,
    "start_time": "2023-03-22T19:19:21.534Z"
   },
   {
    "duration": 21,
    "start_time": "2023-03-22T19:19:21.547Z"
   },
   {
    "duration": 25,
    "start_time": "2023-03-22T19:19:21.570Z"
   },
   {
    "duration": 12,
    "start_time": "2023-03-22T19:19:21.599Z"
   },
   {
    "duration": 44,
    "start_time": "2023-03-22T19:19:21.615Z"
   },
   {
    "duration": 11,
    "start_time": "2023-03-22T19:19:21.660Z"
   },
   {
    "duration": 7,
    "start_time": "2023-03-22T19:19:21.688Z"
   },
   {
    "duration": 24,
    "start_time": "2023-03-22T19:19:21.696Z"
   },
   {
    "duration": 26,
    "start_time": "2023-03-22T19:19:21.721Z"
   },
   {
    "duration": 18,
    "start_time": "2023-03-22T19:19:21.749Z"
   },
   {
    "duration": 21,
    "start_time": "2023-03-22T19:19:21.769Z"
   },
   {
    "duration": 24,
    "start_time": "2023-03-22T19:19:21.793Z"
   },
   {
    "duration": 8,
    "start_time": "2023-03-22T19:19:21.819Z"
   },
   {
    "duration": 19,
    "start_time": "2023-03-22T19:19:21.829Z"
   },
   {
    "duration": 28,
    "start_time": "2023-03-22T19:19:21.850Z"
   },
   {
    "duration": 93,
    "start_time": "2023-03-22T19:19:21.880Z"
   },
   {
    "duration": 32,
    "start_time": "2023-03-22T19:19:21.975Z"
   },
   {
    "duration": 61,
    "start_time": "2023-03-22T19:19:22.010Z"
   },
   {
    "duration": 46,
    "start_time": "2023-03-22T19:19:22.073Z"
   },
   {
    "duration": 45,
    "start_time": "2023-03-22T19:19:22.121Z"
   },
   {
    "duration": 47,
    "start_time": "2023-03-22T19:19:22.168Z"
   },
   {
    "duration": 46,
    "start_time": "2023-03-22T19:19:35.885Z"
   },
   {
    "duration": 47,
    "start_time": "2023-03-22T19:26:06.525Z"
   },
   {
    "duration": 516,
    "start_time": "2023-03-22T19:27:37.184Z"
   },
   {
    "duration": 35,
    "start_time": "2023-03-22T19:27:37.702Z"
   },
   {
    "duration": 21,
    "start_time": "2023-03-22T19:27:37.739Z"
   },
   {
    "duration": 40,
    "start_time": "2023-03-22T19:27:37.763Z"
   },
   {
    "duration": 49,
    "start_time": "2023-03-22T19:27:37.806Z"
   },
   {
    "duration": 31,
    "start_time": "2023-03-22T19:27:37.858Z"
   },
   {
    "duration": 13,
    "start_time": "2023-03-22T19:27:37.892Z"
   },
   {
    "duration": 15,
    "start_time": "2023-03-22T19:27:37.907Z"
   },
   {
    "duration": 16,
    "start_time": "2023-03-22T19:27:37.924Z"
   },
   {
    "duration": 10,
    "start_time": "2023-03-22T19:27:37.942Z"
   },
   {
    "duration": 59,
    "start_time": "2023-03-22T19:27:37.954Z"
   },
   {
    "duration": 10,
    "start_time": "2023-03-22T19:27:38.015Z"
   },
   {
    "duration": 8,
    "start_time": "2023-03-22T19:27:38.026Z"
   },
   {
    "duration": 12,
    "start_time": "2023-03-22T19:27:38.036Z"
   },
   {
    "duration": 40,
    "start_time": "2023-03-22T19:27:38.050Z"
   },
   {
    "duration": 16,
    "start_time": "2023-03-22T19:27:38.092Z"
   },
   {
    "duration": 3,
    "start_time": "2023-03-22T19:27:38.110Z"
   },
   {
    "duration": 12,
    "start_time": "2023-03-22T19:27:38.115Z"
   },
   {
    "duration": 12,
    "start_time": "2023-03-22T19:27:38.128Z"
   },
   {
    "duration": 4,
    "start_time": "2023-03-22T19:27:38.142Z"
   },
   {
    "duration": 12,
    "start_time": "2023-03-22T19:27:38.148Z"
   },
   {
    "duration": 102,
    "start_time": "2023-03-22T19:27:38.162Z"
   },
   {
    "duration": 36,
    "start_time": "2023-03-22T19:27:38.265Z"
   },
   {
    "duration": 34,
    "start_time": "2023-03-22T19:27:38.303Z"
   },
   {
    "duration": 55,
    "start_time": "2023-03-22T19:27:38.338Z"
   },
   {
    "duration": 28,
    "start_time": "2023-03-22T19:27:38.394Z"
   },
   {
    "duration": 562,
    "start_time": "2023-03-23T18:19:07.703Z"
   },
   {
    "duration": 43,
    "start_time": "2023-03-23T18:19:08.267Z"
   },
   {
    "duration": 16,
    "start_time": "2023-03-23T18:19:08.312Z"
   },
   {
    "duration": 10,
    "start_time": "2023-03-23T18:19:08.329Z"
   },
   {
    "duration": 62,
    "start_time": "2023-03-23T18:19:08.341Z"
   },
   {
    "duration": 5,
    "start_time": "2023-03-23T18:19:08.406Z"
   },
   {
    "duration": 12,
    "start_time": "2023-03-23T18:19:08.412Z"
   },
   {
    "duration": 5,
    "start_time": "2023-03-23T18:19:08.427Z"
   },
   {
    "duration": 9,
    "start_time": "2023-03-23T18:19:08.434Z"
   },
   {
    "duration": 5,
    "start_time": "2023-03-23T18:19:08.445Z"
   },
   {
    "duration": 79,
    "start_time": "2023-03-23T18:19:08.452Z"
   },
   {
    "duration": 11,
    "start_time": "2023-03-23T18:19:08.533Z"
   },
   {
    "duration": 7,
    "start_time": "2023-03-23T18:19:08.545Z"
   },
   {
    "duration": 46,
    "start_time": "2023-03-23T18:19:08.555Z"
   },
   {
    "duration": 27,
    "start_time": "2023-03-23T18:19:08.604Z"
   },
   {
    "duration": 22,
    "start_time": "2023-03-23T18:19:08.633Z"
   },
   {
    "duration": 3,
    "start_time": "2023-03-23T18:19:08.657Z"
   },
   {
    "duration": 37,
    "start_time": "2023-03-23T18:19:08.662Z"
   },
   {
    "duration": 9,
    "start_time": "2023-03-23T18:19:08.708Z"
   },
   {
    "duration": 8,
    "start_time": "2023-03-23T18:19:08.719Z"
   },
   {
    "duration": 13,
    "start_time": "2023-03-23T18:19:08.729Z"
   },
   {
    "duration": 87,
    "start_time": "2023-03-23T18:19:08.743Z"
   },
   {
    "duration": 21,
    "start_time": "2023-03-23T18:19:08.832Z"
   },
   {
    "duration": 58,
    "start_time": "2023-03-23T18:19:08.855Z"
   },
   {
    "duration": 34,
    "start_time": "2023-03-23T18:19:08.915Z"
   },
   {
    "duration": 57,
    "start_time": "2023-03-23T18:19:08.952Z"
   }
  ],
  "colab": {
   "provenance": []
  },
  "kernelspec": {
   "display_name": "Python 3 (ipykernel)",
   "language": "python",
   "name": "python3"
  },
  "language_info": {
   "codemirror_mode": {
    "name": "ipython",
    "version": 3
   },
   "file_extension": ".py",
   "mimetype": "text/x-python",
   "name": "python",
   "nbconvert_exporter": "python",
   "pygments_lexer": "ipython3",
   "version": "3.11.4"
  },
  "toc": {
   "base_numbering": 1,
   "nav_menu": {},
   "number_sections": true,
   "sideBar": true,
   "skip_h1_title": true,
   "title_cell": "Table of Contents",
   "title_sidebar": "Contents",
   "toc_cell": false,
   "toc_position": {},
   "toc_section_display": true,
   "toc_window_display": true
  }
 },
 "nbformat": 4,
 "nbformat_minor": 5
}
